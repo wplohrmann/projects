{
 "cells": [
  {
   "cell_type": "code",
   "execution_count": 86,
   "metadata": {
    "collapsed": true
   },
   "outputs": [],
   "source": [
    "import sqlite3\n",
    "import pandas as pd\n",
    "import numpy as np\n",
    "import matplotlib.pyplot as plt"
   ]
  },
  {
   "cell_type": "code",
   "execution_count": null,
   "metadata": {
    "collapsed": true
   },
   "outputs": [],
   "source": []
  },
  {
   "cell_type": "code",
   "execution_count": 87,
   "metadata": {
    "collapsed": false
   },
   "outputs": [],
   "source": [
    "f = r'/home/william/Dropbox/Kaggle/Soccer/database.sqlite'\n",
    "conn = sqlite3.connect(f)"
   ]
  },
  {
   "cell_type": "code",
   "execution_count": 88,
   "metadata": {
    "collapsed": false
   },
   "outputs": [],
   "source": [
    "matches = pd.read_sql('SELECT * from Match',conn)\n",
    "leagues = pd.read_sql('SELECT * from League',conn)\n",
    "teams = pd.read_sql('SELECT * from Team',conn)"
   ]
  },
  {
   "cell_type": "code",
   "execution_count": 89,
   "metadata": {
    "collapsed": false
   },
   "outputs": [
    {
     "data": {
      "text/plain": [
       "43    Chelsea\n",
       "Name: team_long_name, dtype: object"
      ]
     },
     "execution_count": 89,
     "metadata": {},
     "output_type": "execute_result"
    }
   ],
   "source": [
    "teams.loc[teams['team_api_id']==8455,'team_long_name']"
   ]
  },
  {
   "cell_type": "code",
   "execution_count": 90,
   "metadata": {
    "collapsed": false
   },
   "outputs": [],
   "source": [
    "pl = matches.iloc[1729:4269,[3, 4, 5, 7, 8, 9, 10, 85, 86, 87]]"
   ]
  },
  {
   "cell_type": "code",
   "execution_count": 91,
   "metadata": {
    "collapsed": false
   },
   "outputs": [],
   "source": [
    "season09 = pl[pl['season']=='2009/2010']"
   ]
  },
  {
   "cell_type": "code",
   "execution_count": 92,
   "metadata": {
    "collapsed": false
   },
   "outputs": [
    {
     "data": {
      "text/html": [
       "<div>\n",
       "<table border=\"1\" class=\"dataframe\">\n",
       "  <thead>\n",
       "    <tr style=\"text-align: right;\">\n",
       "      <th></th>\n",
       "      <th>season</th>\n",
       "      <th>stage</th>\n",
       "      <th>date</th>\n",
       "      <th>home_team_api_id</th>\n",
       "      <th>away_team_api_id</th>\n",
       "      <th>home_team_goal</th>\n",
       "      <th>away_team_goal</th>\n",
       "      <th>B365H</th>\n",
       "      <th>B365D</th>\n",
       "      <th>B365A</th>\n",
       "    </tr>\n",
       "  </thead>\n",
       "  <tbody>\n",
       "    <tr>\n",
       "      <th>2108</th>\n",
       "      <td>2009/2010</td>\n",
       "      <td>1</td>\n",
       "      <td>2009-08-16 00:00:00</td>\n",
       "      <td>10260</td>\n",
       "      <td>8658</td>\n",
       "      <td>1</td>\n",
       "      <td>0</td>\n",
       "      <td>1.20</td>\n",
       "      <td>6.00</td>\n",
       "      <td>17.0</td>\n",
       "    </tr>\n",
       "    <tr>\n",
       "      <th>2109</th>\n",
       "      <td>2009/2010</td>\n",
       "      <td>1</td>\n",
       "      <td>2009-08-16 00:00:00</td>\n",
       "      <td>8586</td>\n",
       "      <td>8650</td>\n",
       "      <td>2</td>\n",
       "      <td>1</td>\n",
       "      <td>3.20</td>\n",
       "      <td>3.25</td>\n",
       "      <td>2.3</td>\n",
       "    </tr>\n",
       "    <tr>\n",
       "      <th>2110</th>\n",
       "      <td>2009/2010</td>\n",
       "      <td>1</td>\n",
       "      <td>2009-08-15 00:00:00</td>\n",
       "      <td>10252</td>\n",
       "      <td>8528</td>\n",
       "      <td>0</td>\n",
       "      <td>2</td>\n",
       "      <td>1.67</td>\n",
       "      <td>3.60</td>\n",
       "      <td>5.5</td>\n",
       "    </tr>\n",
       "    <tr>\n",
       "      <th>2111</th>\n",
       "      <td>2009/2010</td>\n",
       "      <td>1</td>\n",
       "      <td>2009-08-15 00:00:00</td>\n",
       "      <td>8668</td>\n",
       "      <td>9825</td>\n",
       "      <td>1</td>\n",
       "      <td>6</td>\n",
       "      <td>3.20</td>\n",
       "      <td>3.25</td>\n",
       "      <td>2.3</td>\n",
       "    </tr>\n",
       "    <tr>\n",
       "      <th>2112</th>\n",
       "      <td>2009/2010</td>\n",
       "      <td>1</td>\n",
       "      <td>2009-08-15 00:00:00</td>\n",
       "      <td>8602</td>\n",
       "      <td>8654</td>\n",
       "      <td>0</td>\n",
       "      <td>2</td>\n",
       "      <td>2.63</td>\n",
       "      <td>3.30</td>\n",
       "      <td>2.7</td>\n",
       "    </tr>\n",
       "  </tbody>\n",
       "</table>\n",
       "</div>"
      ],
      "text/plain": [
       "         season  stage                 date  home_team_api_id  \\\n",
       "2108  2009/2010      1  2009-08-16 00:00:00             10260   \n",
       "2109  2009/2010      1  2009-08-16 00:00:00              8586   \n",
       "2110  2009/2010      1  2009-08-15 00:00:00             10252   \n",
       "2111  2009/2010      1  2009-08-15 00:00:00              8668   \n",
       "2112  2009/2010      1  2009-08-15 00:00:00              8602   \n",
       "\n",
       "      away_team_api_id  home_team_goal  away_team_goal  B365H  B365D  B365A  \n",
       "2108              8658               1               0   1.20   6.00   17.0  \n",
       "2109              8650               2               1   3.20   3.25    2.3  \n",
       "2110              8528               0               2   1.67   3.60    5.5  \n",
       "2111              9825               1               6   3.20   3.25    2.3  \n",
       "2112              8654               0               2   2.63   3.30    2.7  "
      ]
     },
     "execution_count": 92,
     "metadata": {},
     "output_type": "execute_result"
    }
   ],
   "source": [
    "season09.head()"
   ]
  },
  {
   "cell_type": "code",
   "execution_count": null,
   "metadata": {
    "collapsed": false
   },
   "outputs": [],
   "source": []
  },
  {
   "cell_type": "code",
   "execution_count": 93,
   "metadata": {
    "collapsed": true
   },
   "outputs": [],
   "source": [
    "def rinse_df(season09):\n",
    "    season09 = season09.sort_values('date')\n",
    "\n",
    "    home_win = np.where(season09['home_team_goal'] > season09['away_team_goal'], 1, 0)\n",
    "    away_win = np.where(season09['home_team_goal'] < season09['away_team_goal'], 1, 0)\n",
    "    season09['Home/Away win'] = home_win-away_win\n",
    "\n",
    "    season09['points_home'] = 0\n",
    "    season09.loc[season09['Home/Away win']==1, 'points_home'] = 3\n",
    "    season09.loc[season09['Home/Away win']==0, 'points_home'] = 1\n",
    "\n",
    "    season09['points_away'] = 0\n",
    "    season09.loc[season09['Home/Away win']==-1, 'points_away'] = 3\n",
    "    season09.loc[season09['Home/Away win']==0, 'points_away'] = 1\n",
    "\n",
    "    season09['goal_difference'] = season09['home_team_goal'] - season09['away_team_goal']\n",
    "\n",
    "    season09 = season09.reset_index(drop=True)\n",
    "\n",
    "    team_nos = np.unique(season09['home_team_api_id'])\n",
    "    no_matches = len(season09)\n",
    "\n",
    "    scores = np.zeros((2*no_matches//len(team_nos),team_nos.size))\n",
    "\n",
    "    for n in range(len(team_nos)):\n",
    "        no = team_nos[n]\n",
    "        for i in range(no_matches):\n",
    "            row = season09.iloc[i]\n",
    "            stage = row['stage']-1\n",
    "            if row['home_team_api_id'] == no:\n",
    "                scores[stage,n] = row['points_home']\n",
    "\n",
    "            if row['away_team_api_id'] == no:\n",
    "                scores[stage,n] = row['points_away']\n",
    "    scores = np.cumsum(scores,axis=0)\n",
    "    scores = np.vstack((np.zeros(len(team_nos)),scores))\n",
    "\n",
    "    scores = np.copy(scores[:-1,:])\n",
    "\n",
    "    season09['current_home'] = 0\n",
    "    season09['current_away'] = 0\n",
    "    for i in range(no_matches):\n",
    "        row = season09.iloc[i]\n",
    "        home_team = row['home_team_api_id']\n",
    "        away_team = row['away_team_api_id']\n",
    "\n",
    "        home_ind = np.where(team_nos==home_team)[0][0]\n",
    "        away_ind = np.where(team_nos==away_team)[0][0]\n",
    "\n",
    "        stage = row['stage']-1\n",
    "\n",
    "\n",
    "        season09.loc[i,'current_home'] = scores[int(stage),int(home_ind)]\n",
    "        season09.loc[i,'current_away'] = scores[int(stage),int(away_ind)]\n",
    "\n",
    "\n",
    "    #A score for each time indicating relative competence\n",
    "    #Rethink what the formula should be, given pseudorandom match result with bias\n",
    "    season09['competence_difference'] = (season09['current_home']-season09['current_away']) / season09['stage']\n",
    "    season09_relevant = season09.iloc[:,[1,7,8,9,10,-1]]\n",
    "    return season09_relevant"
   ]
  },
  {
   "cell_type": "code",
   "execution_count": 192,
   "metadata": {
    "collapsed": false
   },
   "outputs": [],
   "source": [
    "#Creating season09-like dataframes from http://www.football-data.co.uk/\n",
    "def extract_df(f):\n",
    "    df = pd.read_csv(f)\n",
    "    new_df = df.iloc[:,[1,2,3,4,5,23,24,25]]\n",
    "\n",
    "    new_df.columns = [\"date\", \"home_team_api_id\", \"away_team_api_id\", \n",
    "                      \"home_team_goal\", \"away_team_goal\", \"B365H\", \"B365D\",\n",
    "                      \"B365A\"]\n",
    "    new_df.insert(0,\"stage\",0)\n",
    "    new_df.insert(0,\"season\",0)\n",
    "\n",
    "    new_df['date'] = pd.to_datetime(new_df['date'])\n",
    "    new_df = new_df.sort_values(\"date\")\n",
    "\n",
    "    new_df.reset_index(inplace=True,drop=True)\n",
    "    new_df['stage'] = new_df.index//10+1\n",
    "    \n",
    "    factorized = pd.factorize(new_df['home_team_api_id'])\n",
    "    new_df['away_team_api_id'] = new_df['away_team_api_id'].replace(factorized[1],np.arange(20))\n",
    "    new_df['home_team_api_id'] = factorized[0]\n",
    "    \n",
    "    return new_df"
   ]
  },
  {
   "cell_type": "code",
   "execution_count": 204,
   "metadata": {
    "collapsed": false
   },
   "outputs": [
    {
     "name": "stderr",
     "output_type": "stream",
     "text": [
      "/usr/local/lib/python3.5/dist-packages/ipykernel/__main__.py:12: SettingWithCopyWarning: \n",
      "A value is trying to be set on a copy of a slice from a DataFrame.\n",
      "Try using .loc[row_indexer,col_indexer] = value instead\n",
      "\n",
      "See the caveats in the documentation: http://pandas.pydata.org/pandas-docs/stable/indexing.html#indexing-view-versus-copy\n"
     ]
    },
    {
     "ename": "ValueError",
     "evalue": "Replacement lists must match in length. Expecting 10 got 20 ",
     "output_type": "error",
     "traceback": [
      "\u001b[0;31m---------------------------------------------------------------------------\u001b[0m",
      "\u001b[0;31mValueError\u001b[0m                                Traceback (most recent call last)",
      "\u001b[0;32m<ipython-input-204-89d900fd5f7c>\u001b[0m in \u001b[0;36m<module>\u001b[0;34m()\u001b[0m\n\u001b[1;32m      8\u001b[0m \u001b[0mseason15\u001b[0m \u001b[0;34m=\u001b[0m \u001b[0mextract_df\u001b[0m\u001b[0;34m(\u001b[0m\u001b[0;34m'/home/william/Dropbox/Kaggle/Soccer/data15.csv'\u001b[0m\u001b[0;34m)\u001b[0m\u001b[0;34m\u001b[0m\u001b[0m\n\u001b[1;32m      9\u001b[0m \u001b[0mseason16\u001b[0m \u001b[0;34m=\u001b[0m \u001b[0mextract_df\u001b[0m\u001b[0;34m(\u001b[0m\u001b[0;34m'/home/william/Dropbox/Kaggle/Soccer/data16.csv'\u001b[0m\u001b[0;34m)\u001b[0m\u001b[0;34m\u001b[0m\u001b[0m\n\u001b[0;32m---> 10\u001b[0;31m \u001b[0mseason17\u001b[0m \u001b[0;34m=\u001b[0m \u001b[0mextract_df\u001b[0m\u001b[0;34m(\u001b[0m\u001b[0;34m'/home/william/Dropbox/Kaggle/Soccer/data17.csv'\u001b[0m\u001b[0;34m)\u001b[0m\u001b[0;34m\u001b[0m\u001b[0m\n\u001b[0m\u001b[1;32m     11\u001b[0m \u001b[0;34m\u001b[0m\u001b[0m\n\u001b[1;32m     12\u001b[0m \u001b[0;34m\u001b[0m\u001b[0m\n",
      "\u001b[0;32m<ipython-input-192-c3e36e9e449a>\u001b[0m in \u001b[0;36mextract_df\u001b[0;34m(f)\u001b[0m\n\u001b[1;32m     17\u001b[0m \u001b[0;34m\u001b[0m\u001b[0m\n\u001b[1;32m     18\u001b[0m     \u001b[0mfactorized\u001b[0m \u001b[0;34m=\u001b[0m \u001b[0mpd\u001b[0m\u001b[0;34m.\u001b[0m\u001b[0mfactorize\u001b[0m\u001b[0;34m(\u001b[0m\u001b[0mnew_df\u001b[0m\u001b[0;34m[\u001b[0m\u001b[0;34m'home_team_api_id'\u001b[0m\u001b[0;34m]\u001b[0m\u001b[0;34m)\u001b[0m\u001b[0;34m\u001b[0m\u001b[0m\n\u001b[0;32m---> 19\u001b[0;31m     \u001b[0mnew_df\u001b[0m\u001b[0;34m[\u001b[0m\u001b[0;34m'away_team_api_id'\u001b[0m\u001b[0;34m]\u001b[0m \u001b[0;34m=\u001b[0m \u001b[0mnew_df\u001b[0m\u001b[0;34m[\u001b[0m\u001b[0;34m'away_team_api_id'\u001b[0m\u001b[0;34m]\u001b[0m\u001b[0;34m.\u001b[0m\u001b[0mreplace\u001b[0m\u001b[0;34m(\u001b[0m\u001b[0mfactorized\u001b[0m\u001b[0;34m[\u001b[0m\u001b[0;36m1\u001b[0m\u001b[0;34m]\u001b[0m\u001b[0;34m,\u001b[0m\u001b[0mnp\u001b[0m\u001b[0;34m.\u001b[0m\u001b[0marange\u001b[0m\u001b[0;34m(\u001b[0m\u001b[0;36m20\u001b[0m\u001b[0;34m)\u001b[0m\u001b[0;34m)\u001b[0m\u001b[0;34m\u001b[0m\u001b[0m\n\u001b[0m\u001b[1;32m     20\u001b[0m     \u001b[0mnew_df\u001b[0m\u001b[0;34m[\u001b[0m\u001b[0;34m'home_team_api_id'\u001b[0m\u001b[0;34m]\u001b[0m \u001b[0;34m=\u001b[0m \u001b[0mfactorized\u001b[0m\u001b[0;34m[\u001b[0m\u001b[0;36m0\u001b[0m\u001b[0;34m]\u001b[0m\u001b[0;34m\u001b[0m\u001b[0m\n\u001b[1;32m     21\u001b[0m \u001b[0;34m\u001b[0m\u001b[0m\n",
      "\u001b[0;32m/usr/local/lib/python3.5/dist-packages/pandas/core/generic.py\u001b[0m in \u001b[0;36mreplace\u001b[0;34m(self, to_replace, value, inplace, limit, regex, method, axis)\u001b[0m\n\u001b[1;32m   3397\u001b[0m                         raise ValueError('Replacement lists must match '\n\u001b[1;32m   3398\u001b[0m                                          \u001b[0;34m'in length. Expecting %d got %d '\u001b[0m \u001b[0;34m%\u001b[0m\u001b[0;34m\u001b[0m\u001b[0m\n\u001b[0;32m-> 3399\u001b[0;31m                                          (len(to_replace), len(value)))\n\u001b[0m\u001b[1;32m   3400\u001b[0m \u001b[0;34m\u001b[0m\u001b[0m\n\u001b[1;32m   3401\u001b[0m                     new_data = self._data.replace_list(src_list=to_replace,\n",
      "\u001b[0;31mValueError\u001b[0m: Replacement lists must match in length. Expecting 10 got 20 "
     ]
    }
   ],
   "source": [
    "season09 = pl[pl['season']=='2009/2010']\n",
    "season10 = pl[pl['season']=='2010/2011']\n",
    "season11 = pl[pl['season']=='2011/2012']\n",
    "season12 = pl[pl['season']=='2012/2013']\n",
    "season13 = pl[pl['season']=='2013/2014']\n",
    "\n",
    "season14 = extract_df('/home/william/Dropbox/Kaggle/Soccer/data14.csv')\n",
    "season15 = extract_df('/home/william/Dropbox/Kaggle/Soccer/data15.csv')\n",
    "season16 = extract_df('/home/william/Dropbox/Kaggle/Soccer/data16.csv')\n",
    "season17 = extract_df('/home/william/Dropbox/Kaggle/Soccer/data17.csv')\n",
    "\n",
    "\n",
    "season09 = rinse_df(season09)\n",
    "season10 = rinse_df(season10)\n",
    "season11 = rinse_df(season11)\n",
    "season12 = rinse_df(season12)\n",
    "season13 = rinse_df(season13)\n",
    "season14 = rinse_df(season14)\n",
    "season15 = rinse_df(season15)\n",
    "season16 = rinse_df(season16)\n"
   ]
  },
  {
   "cell_type": "code",
   "execution_count": 202,
   "metadata": {
    "collapsed": false
   },
   "outputs": [
    {
     "data": {
      "text/html": [
       "<div>\n",
       "<table border=\"1\" class=\"dataframe\">\n",
       "  <thead>\n",
       "    <tr style=\"text-align: right;\">\n",
       "      <th></th>\n",
       "      <th>stage</th>\n",
       "      <th>B365H</th>\n",
       "      <th>B365D</th>\n",
       "      <th>B365A</th>\n",
       "      <th>Home/Away win</th>\n",
       "      <th>competence_difference</th>\n",
       "    </tr>\n",
       "  </thead>\n",
       "  <tbody>\n",
       "    <tr>\n",
       "      <th>0</th>\n",
       "      <td>1</td>\n",
       "      <td>2.50</td>\n",
       "      <td>3.25</td>\n",
       "      <td>3.20</td>\n",
       "      <td>0</td>\n",
       "      <td>0.0</td>\n",
       "    </tr>\n",
       "    <tr>\n",
       "      <th>1</th>\n",
       "      <td>1</td>\n",
       "      <td>8.00</td>\n",
       "      <td>4.75</td>\n",
       "      <td>1.45</td>\n",
       "      <td>-1</td>\n",
       "      <td>0.0</td>\n",
       "    </tr>\n",
       "    <tr>\n",
       "      <th>2</th>\n",
       "      <td>1</td>\n",
       "      <td>2.38</td>\n",
       "      <td>3.30</td>\n",
       "      <td>3.30</td>\n",
       "      <td>0</td>\n",
       "      <td>0.0</td>\n",
       "    </tr>\n",
       "    <tr>\n",
       "      <th>3</th>\n",
       "      <td>1</td>\n",
       "      <td>2.25</td>\n",
       "      <td>3.40</td>\n",
       "      <td>3.50</td>\n",
       "      <td>0</td>\n",
       "      <td>0.0</td>\n",
       "    </tr>\n",
       "    <tr>\n",
       "      <th>4</th>\n",
       "      <td>1</td>\n",
       "      <td>7.50</td>\n",
       "      <td>4.50</td>\n",
       "      <td>1.50</td>\n",
       "      <td>-1</td>\n",
       "      <td>0.0</td>\n",
       "    </tr>\n",
       "  </tbody>\n",
       "</table>\n",
       "</div>"
      ],
      "text/plain": [
       "   stage  B365H  B365D  B365A  Home/Away win  competence_difference\n",
       "0      1   2.50   3.25   3.20              0                    0.0\n",
       "1      1   8.00   4.75   1.45             -1                    0.0\n",
       "2      1   2.38   3.30   3.30              0                    0.0\n",
       "3      1   2.25   3.40   3.50              0                    0.0\n",
       "4      1   7.50   4.50   1.50             -1                    0.0"
      ]
     },
     "execution_count": 202,
     "metadata": {},
     "output_type": "execute_result"
    }
   ],
   "source": [
    "season16.head()"
   ]
  },
  {
   "cell_type": "code",
   "execution_count": 203,
   "metadata": {
    "collapsed": false
   },
   "outputs": [],
   "source": [
    "season09.to_csv('season9.csv',index=False)\n",
    "season10.to_csv('season10.csv',index=False)\n",
    "season11.to_csv('season11.csv',index=False)\n",
    "season12.to_csv('season12.csv',index=False)\n",
    "season13.to_csv('season13.csv',index=False)\n",
    "season14.to_csv('season14.csv',index=False)\n",
    "season15.to_csv('season15.csv',index=False)\n",
    "season16.to_csv('season16.csv',index=False)\n"
   ]
  },
  {
   "cell_type": "code",
   "execution_count": null,
   "metadata": {
    "collapsed": true
   },
   "outputs": [],
   "source": [
    "#14: 100% profits at 82% of the data\n",
    "#15: 57% profits at 78% of the data\n",
    "#16: 150% profits at 81% of the data"
   ]
  }
 ],
 "metadata": {
  "kernelspec": {
   "display_name": "Python 3",
   "language": "python",
   "name": "python3"
  },
  "language_info": {
   "codemirror_mode": {
    "name": "ipython",
    "version": 3
   },
   "file_extension": ".py",
   "mimetype": "text/x-python",
   "name": "python",
   "nbconvert_exporter": "python",
   "pygments_lexer": "ipython3",
   "version": "3.5.2"
  }
 },
 "nbformat": 4,
 "nbformat_minor": 0
}
