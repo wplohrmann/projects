{
 "cells": [
  {
   "cell_type": "code",
   "execution_count": 1,
   "metadata": {
    "collapsed": false
   },
   "outputs": [],
   "source": [
    "import numpy as np\n",
    "import matplotlib.pyplot as plt\n",
    "import pandas as pd\n",
    "import seaborn as sns\n",
    "\n",
    "from scipy.optimize import curve_fit"
   ]
  },
  {
   "cell_type": "code",
   "execution_count": 2,
   "metadata": {
    "collapsed": false
   },
   "outputs": [],
   "source": [
    "f9 = r'/home/william/Dropbox/Kaggle/Soccer/season9.csv'\n",
    "f10 = r'/home/william/Dropbox/Kaggle/Soccer/season10.csv'\n",
    "f11 = r'/home/william/Dropbox/Kaggle/Soccer/season11.csv'\n",
    "f12 = r'/home/william/Dropbox/Kaggle/Soccer/season12.csv'\n",
    "f13 = r'/home/william/Dropbox/Kaggle/Soccer/season13.csv'\n",
    "f14 = r'/home/william/Dropbox/Kaggle/Soccer/season14.csv'\n",
    "f15 = r'/home/william/Dropbox/Kaggle/Soccer/season15.csv'\n",
    "f16 = r'/home/william/Dropbox/Kaggle/Soccer/season16.csv'\n",
    "\n",
    "\n",
    "df9 = pd.read_csv(f9)\n",
    "df10 = pd.read_csv(f10)\n",
    "df11 = pd.read_csv(f11)\n",
    "df12 = pd.read_csv(f12)\n",
    "df13 = pd.read_csv(f13)\n",
    "df14 = pd.read_csv(f14)\n",
    "df15 = pd.read_csv(f15)\n",
    "df16 = pd.read_csv(f16)\n",
    "\n",
    "df_train = df9.append([df10,df11,df12,df13,df14,df15],ignore_index=True)\n",
    "\n",
    "train_X = df_train.drop('Home/Away win',axis=1)\n",
    "train_y = df_train['Home/Away win']\n",
    "train_y = (train_y==0)+0"
   ]
  },
  {
   "cell_type": "code",
   "execution_count": 52,
   "metadata": {
    "collapsed": false
   },
   "outputs": [
    {
     "data": {
      "text/html": [
       "<div>\n",
       "<table border=\"1\" class=\"dataframe\">\n",
       "  <thead>\n",
       "    <tr style=\"text-align: right;\">\n",
       "      <th></th>\n",
       "      <th>stage</th>\n",
       "      <th>B365H</th>\n",
       "      <th>B365D</th>\n",
       "      <th>B365A</th>\n",
       "      <th>Home/Away win</th>\n",
       "      <th>competence_difference</th>\n",
       "    </tr>\n",
       "  </thead>\n",
       "  <tbody>\n",
       "    <tr>\n",
       "      <th>0</th>\n",
       "      <td>1</td>\n",
       "      <td>0.410265</td>\n",
       "      <td>3.60</td>\n",
       "      <td>0.402419</td>\n",
       "      <td>-1</td>\n",
       "      <td>0.0</td>\n",
       "    </tr>\n",
       "    <tr>\n",
       "      <th>1</th>\n",
       "      <td>1</td>\n",
       "      <td>-0.528472</td>\n",
       "      <td>3.25</td>\n",
       "      <td>-0.578488</td>\n",
       "      <td>-1</td>\n",
       "      <td>0.0</td>\n",
       "    </tr>\n",
       "    <tr>\n",
       "      <th>2</th>\n",
       "      <td>1</td>\n",
       "      <td>-0.291701</td>\n",
       "      <td>3.30</td>\n",
       "      <td>-0.366570</td>\n",
       "      <td>-1</td>\n",
       "      <td>0.0</td>\n",
       "    </tr>\n",
       "    <tr>\n",
       "      <th>3</th>\n",
       "      <td>1</td>\n",
       "      <td>-0.660372</td>\n",
       "      <td>3.25</td>\n",
       "      <td>-0.710455</td>\n",
       "      <td>-1</td>\n",
       "      <td>0.0</td>\n",
       "    </tr>\n",
       "    <tr>\n",
       "      <th>4</th>\n",
       "      <td>1</td>\n",
       "      <td>-0.082122</td>\n",
       "      <td>3.25</td>\n",
       "      <td>-0.145142</td>\n",
       "      <td>-1</td>\n",
       "      <td>0.0</td>\n",
       "    </tr>\n",
       "  </tbody>\n",
       "</table>\n",
       "</div>"
      ],
      "text/plain": [
       "   stage     B365H  B365D     B365A  Home/Away win  competence_difference\n",
       "0      1  0.410265   3.60  0.402419             -1                    0.0\n",
       "1      1 -0.528472   3.25 -0.578488             -1                    0.0\n",
       "2      1 -0.291701   3.30 -0.366570             -1                    0.0\n",
       "3      1 -0.660372   3.25 -0.710455             -1                    0.0\n",
       "4      1 -0.082122   3.25 -0.145142             -1                    0.0"
      ]
     },
     "execution_count": 52,
     "metadata": {},
     "output_type": "execute_result"
    }
   ],
   "source": [
    "df_train.head()"
   ]
  },
  {
   "cell_type": "code",
   "execution_count": 4,
   "metadata": {
    "collapsed": false
   },
   "outputs": [],
   "source": [
    "comp_diff = np.array(df_train['competence_difference'])\n",
    "wins = np.array(df_train['Home/Away win'])\n",
    "\n",
    "home_odds = np.array(df_train['B365H'])\n",
    "draw_odds = np.array(df_train['B365D'])\n",
    "away_odds = np.array(df_train['B365A'])\n",
    "\n",
    "indices = np.where(np.mod(comp_diff,0.5)!=0)[0]\n",
    "\n",
    "comp_diff = comp_diff[indices]\n",
    "wins = wins[indices]\n",
    "draw_odds = draw_odds[indices]\n",
    "home_odds = home_odds[indices]\n",
    "away_odds = away_odds[indices]"
   ]
  },
  {
   "cell_type": "code",
   "execution_count": 5,
   "metadata": {
    "collapsed": true
   },
   "outputs": [],
   "source": [
    "comp_diff2 = np.unique(comp_diff)\n",
    "home_odds2 = np.array([np.median(home_odds[comp_diff==c]) for c in comp_diff2 ])\n",
    "away_odds2 = np.array([np.median(away_odds[comp_diff==c]) for c in comp_diff2 ])\n"
   ]
  },
  {
   "cell_type": "code",
   "execution_count": 53,
   "metadata": {
    "collapsed": false
   },
   "outputs": [],
   "source": [
    "plt.subplot(311)\n",
    "plt.title('Away odds')\n",
    "x1 = away_odds[np.where(wins==-1)]\n",
    "x2 = away_odds[np.where(wins==0)]\n",
    "x3 = away_odds[np.where(wins==1)]\n",
    "n,bins,patches = plt.hist([x1,x2,x3],stacked=True,bins=10)\n",
    "plt.legend(['Away', 'Draw', 'Home'])\n",
    "plt.ylim([0,1500])\n",
    "plt.xlim([0,30])\n",
    "\n",
    "\n",
    "\n",
    "plt.subplot(312)\n",
    "plt.title('Draw odds')\n",
    "x1 = draw_odds[np.where(wins==-1)]\n",
    "x2 = draw_odds[np.where(wins==0)]\n",
    "x3 = draw_odds[np.where(wins==1)]\n",
    "plt.hist([x1,x2,x3],stacked=True,bins=bins)\n",
    "plt.legend(['Away', 'Draw', 'Home'])\n",
    "plt.ylim([0,1500])\n",
    "plt.xlim([0,30])\n",
    "\n",
    "\n",
    "\n",
    "plt.subplot(313)\n",
    "plt.title('Home odds')\n",
    "x1 = home_odds[np.where(wins==-1)]\n",
    "x2 = home_odds[np.where(wins==0)]\n",
    "x3 = home_odds[np.where(wins==1)]\n",
    "plt.hist([x1,x2,x3],stacked=True,bins=bins)\n",
    "plt.legend(['Away', 'Draw', 'Home'])\n",
    "plt.ylim([0,1500])\n",
    "plt.xlim([0,30])\n",
    "\n",
    "\n",
    "plt.show()"
   ]
  },
  {
   "cell_type": "code",
   "execution_count": 7,
   "metadata": {
    "collapsed": false
   },
   "outputs": [],
   "source": [
    "x1 = comp_diff[np.where(wins==-1)]\n",
    "x2 = comp_diff[np.where(wins==0)]\n",
    "x3 = comp_diff[np.where(wins==1)]\n",
    "plt.hist([x1,x2,x3],stacked=True)\n",
    "plt.legend(['Away', 'Draw', 'Home'])\n",
    "plt.ylim([0,1000])\n",
    "plt.xlim([-2.5,2.5])\n",
    "plt.show()\n"
   ]
  },
  {
   "cell_type": "code",
   "execution_count": 8,
   "metadata": {
    "collapsed": false
   },
   "outputs": [],
   "source": [
    "plt.subplot(311)\n",
    "plt.title('Home odds vs comp_diff')\n",
    "plt.plot(comp_diff,home_odds,'x')\n",
    "plt.plot(plt.xlim(),[1,1])\n",
    "\n",
    "log_home = np.log(home_odds2-1)\n",
    "pH = np.polyfit(comp_diff2,log_home,1)\n",
    "plt.plot(np.sort(comp_diff),1+np.exp(np.polyval(pH,np.sort(comp_diff))))\n",
    "\n",
    "\n",
    "plt.subplot(312)\n",
    "plt.title('Draw odds vs comp_diff')\n",
    "plt.plot(comp_diff,draw_odds,'x')\n",
    "pD = np.polyfit(comp_diff,draw_odds,2)\n",
    "plt.plot(np.sort(comp_diff),np.polyval(pD,np.sort(comp_diff)))\n",
    "plt.plot(plt.xlim(),[1,1])\n",
    "min_odds = np.min(draw_odds)\n",
    "plt.plot(plt.xlim(),[min_odds,min_odds])\n",
    "\n",
    "plt.subplot(313)\n",
    "plt.title('Away odds vs comp_diff')\n",
    "plt.plot(comp_diff,away_odds,'x')\n",
    "plt.plot(plt.xlim(),[1,1])\n",
    "\n",
    "log_away = np.log(away_odds2-1)\n",
    "pA = np.polyfit(comp_diff2,log_away,1)\n",
    "plt.plot(np.sort(comp_diff),1+np.exp(np.polyval(pA,np.sort(comp_diff))))\n",
    "\n",
    "\n",
    "plt.show()"
   ]
  },
  {
   "cell_type": "code",
   "execution_count": 9,
   "metadata": {
    "collapsed": true
   },
   "outputs": [],
   "source": [
    "comp_diff = np.array(df_train['competence_difference'])\n",
    "wins = np.array(df_train['Home/Away win'])\n",
    "home_odds = np.array(df_train['B365H'])\n",
    "draw_odds = np.array(df_train['B365D'])\n",
    "away_odds = np.array(df_train['B365A'])\n",
    "\n",
    "stripped_home = home_odds - (1+np.exp(np.polyval(pH,comp_diff)))\n",
    "stripped_draw = draw_odds - np.polyval(pD,comp_diff)\n",
    "stripped_away = away_odds - (1+np.exp(np.polyval(pA,comp_diff)))"
   ]
  },
  {
   "cell_type": "code",
   "execution_count": null,
   "metadata": {
    "collapsed": true
   },
   "outputs": [],
   "source": []
  },
  {
   "cell_type": "code",
   "execution_count": 43,
   "metadata": {
    "collapsed": false
   },
   "outputs": [
    {
     "data": {
      "text/html": [
       "<div>\n",
       "<table border=\"1\" class=\"dataframe\">\n",
       "  <thead>\n",
       "    <tr style=\"text-align: right;\">\n",
       "      <th></th>\n",
       "      <th>stage</th>\n",
       "      <th>B365H</th>\n",
       "      <th>B365D</th>\n",
       "      <th>B365A</th>\n",
       "      <th>Home/Away win</th>\n",
       "      <th>competence_difference</th>\n",
       "    </tr>\n",
       "  </thead>\n",
       "  <tbody>\n",
       "    <tr>\n",
       "      <th>0</th>\n",
       "      <td>1</td>\n",
       "      <td>0.410265</td>\n",
       "      <td>3.60</td>\n",
       "      <td>0.402419</td>\n",
       "      <td>-1</td>\n",
       "      <td>0.0</td>\n",
       "    </tr>\n",
       "    <tr>\n",
       "      <th>1</th>\n",
       "      <td>1</td>\n",
       "      <td>-0.528472</td>\n",
       "      <td>3.25</td>\n",
       "      <td>-0.578488</td>\n",
       "      <td>-1</td>\n",
       "      <td>0.0</td>\n",
       "    </tr>\n",
       "    <tr>\n",
       "      <th>2</th>\n",
       "      <td>1</td>\n",
       "      <td>-0.291701</td>\n",
       "      <td>3.30</td>\n",
       "      <td>-0.366570</td>\n",
       "      <td>-1</td>\n",
       "      <td>0.0</td>\n",
       "    </tr>\n",
       "    <tr>\n",
       "      <th>3</th>\n",
       "      <td>1</td>\n",
       "      <td>-0.660372</td>\n",
       "      <td>3.25</td>\n",
       "      <td>-0.710455</td>\n",
       "      <td>-1</td>\n",
       "      <td>0.0</td>\n",
       "    </tr>\n",
       "    <tr>\n",
       "      <th>4</th>\n",
       "      <td>1</td>\n",
       "      <td>-0.082122</td>\n",
       "      <td>3.25</td>\n",
       "      <td>-0.145142</td>\n",
       "      <td>-1</td>\n",
       "      <td>0.0</td>\n",
       "    </tr>\n",
       "  </tbody>\n",
       "</table>\n",
       "</div>"
      ],
      "text/plain": [
       "   stage     B365H  B365D     B365A  Home/Away win  competence_difference\n",
       "0      1  0.410265   3.60  0.402419             -1                    0.0\n",
       "1      1 -0.528472   3.25 -0.578488             -1                    0.0\n",
       "2      1 -0.291701   3.30 -0.366570             -1                    0.0\n",
       "3      1 -0.660372   3.25 -0.710455             -1                    0.0\n",
       "4      1 -0.082122   3.25 -0.145142             -1                    0.0"
      ]
     },
     "execution_count": 43,
     "metadata": {},
     "output_type": "execute_result"
    }
   ],
   "source": [
    "df_train = df9.append([df10,df11,df12,df13,df14,df15],ignore_index=True)\n",
    "comp_diff = np.array(df_train['competence_difference'])\n",
    "wins = np.array(df_train['Home/Away win'])\n",
    "home_odds = np.array(df_train['B365H'])\n",
    "draw_odds = np.array(df_train['B365D'])\n",
    "away_odds = np.array(df_train['B365A'])\n",
    "\n",
    "df_train['B365H'] = inv_exp(pH,home_odds)\n",
    "df_train['B365D'] = draw_odds\n",
    "df_train['B365A'] = inv_exp(pA,away_odds)\n",
    "\n",
    "\n",
    "df_train.head()"
   ]
  },
  {
   "cell_type": "code",
   "execution_count": null,
   "metadata": {
    "collapsed": true
   },
   "outputs": [],
   "source": []
  },
  {
   "cell_type": "code",
   "execution_count": 44,
   "metadata": {
    "collapsed": true
   },
   "outputs": [],
   "source": [
    "def inv_exp(p,arr):\n",
    "    return (np.log(arr-1)-p[1])/p[0]"
   ]
  },
  {
   "cell_type": "code",
   "execution_count": 45,
   "metadata": {
    "collapsed": false
   },
   "outputs": [
    {
     "data": {
      "text/html": [
       "<div>\n",
       "<table border=\"1\" class=\"dataframe\">\n",
       "  <thead>\n",
       "    <tr style=\"text-align: right;\">\n",
       "      <th></th>\n",
       "      <th>stage</th>\n",
       "      <th>B365H</th>\n",
       "      <th>B365D</th>\n",
       "      <th>B365A</th>\n",
       "      <th>Home/Away win</th>\n",
       "      <th>competence_difference</th>\n",
       "    </tr>\n",
       "  </thead>\n",
       "  <tbody>\n",
       "    <tr>\n",
       "      <th>0</th>\n",
       "      <td>1</td>\n",
       "      <td>-0.226076</td>\n",
       "      <td>3.25</td>\n",
       "      <td>-0.162895</td>\n",
       "      <td>0</td>\n",
       "      <td>0.0</td>\n",
       "    </tr>\n",
       "    <tr>\n",
       "      <th>1</th>\n",
       "      <td>1</td>\n",
       "      <td>-1.442353</td>\n",
       "      <td>4.75</td>\n",
       "      <td>-1.416538</td>\n",
       "      <td>-1</td>\n",
       "      <td>0.0</td>\n",
       "    </tr>\n",
       "    <tr>\n",
       "      <th>2</th>\n",
       "      <td>1</td>\n",
       "      <td>-0.160241</td>\n",
       "      <td>3.30</td>\n",
       "      <td>-0.127779</td>\n",
       "      <td>0</td>\n",
       "      <td>0.0</td>\n",
       "    </tr>\n",
       "    <tr>\n",
       "      <th>3</th>\n",
       "      <td>1</td>\n",
       "      <td>-0.082122</td>\n",
       "      <td>3.40</td>\n",
       "      <td>-0.061911</td>\n",
       "      <td>0</td>\n",
       "      <td>0.0</td>\n",
       "    </tr>\n",
       "    <tr>\n",
       "      <th>4</th>\n",
       "      <td>1</td>\n",
       "      <td>-1.383840</td>\n",
       "      <td>4.50</td>\n",
       "      <td>-1.333307</td>\n",
       "      <td>-1</td>\n",
       "      <td>0.0</td>\n",
       "    </tr>\n",
       "  </tbody>\n",
       "</table>\n",
       "</div>"
      ],
      "text/plain": [
       "   stage     B365H  B365D     B365A  Home/Away win  competence_difference\n",
       "0      1 -0.226076   3.25 -0.162895              0                    0.0\n",
       "1      1 -1.442353   4.75 -1.416538             -1                    0.0\n",
       "2      1 -0.160241   3.30 -0.127779              0                    0.0\n",
       "3      1 -0.082122   3.40 -0.061911              0                    0.0\n",
       "4      1 -1.383840   4.50 -1.333307             -1                    0.0"
      ]
     },
     "execution_count": 45,
     "metadata": {},
     "output_type": "execute_result"
    }
   ],
   "source": [
    "df16 = pd.read_csv(f16)\n",
    "df16['B365H'] = inv_exp(pH,df16['B365H'])\n",
    "df16['B365D'] = df16['B365D']\n",
    "df16['B365A'] = inv_exp(pA,df16['B365A'])\n",
    "\n",
    "df16.head()"
   ]
  },
  {
   "cell_type": "code",
   "execution_count": 46,
   "metadata": {
    "collapsed": true
   },
   "outputs": [],
   "source": [
    "df_train.to_csv('training.csv',index=False)\n",
    "df16.to_csv('testing.csv',index=False)"
   ]
  },
  {
   "cell_type": "code",
   "execution_count": 51,
   "metadata": {
    "collapsed": false
   },
   "outputs": [],
   "source": [
    "plt.plot(draw_odds,away_odds,'rx')\n",
    "plt.plot(draw_odds,home_odds,'gx')\n",
    "plt.show()"
   ]
  },
  {
   "cell_type": "code",
   "execution_count": null,
   "metadata": {
    "collapsed": true
   },
   "outputs": [],
   "source": []
  }
 ],
 "metadata": {
  "kernelspec": {
   "display_name": "Python 3",
   "language": "python",
   "name": "python3"
  },
  "language_info": {
   "codemirror_mode": {
    "name": "ipython",
    "version": 3
   },
   "file_extension": ".py",
   "mimetype": "text/x-python",
   "name": "python",
   "nbconvert_exporter": "python",
   "pygments_lexer": "ipython3",
   "version": "3.5.2"
  }
 },
 "nbformat": 4,
 "nbformat_minor": 0
}
