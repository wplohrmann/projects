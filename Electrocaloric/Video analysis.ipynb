{
 "cells": [
  {
   "cell_type": "code",
   "execution_count": 1,
   "metadata": {
    "collapsed": false
   },
   "outputs": [],
   "source": [
    "import pandas as pd\n",
    "import numpy as np\n",
    "import matplotlib.pyplot as plt\n",
    "import os\n",
    "from matplotlib import animation\n",
    "from scipy import signal\n",
    "import scipy.ndimage.filters as nd\n",
    "import h5py\n",
    "import pdb\n",
    "import scipy\n",
    "import matplotlib"
   ]
  },
  {
   "cell_type": "code",
   "execution_count": 2,
   "metadata": {
    "collapsed": true
   },
   "outputs": [],
   "source": [
    "movie_folder = r'/home/william/Documents/011_nice_peaks/'\n",
    "movie_file = movie_folder[:-1]+'.hdf5'"
   ]
  },
  {
   "cell_type": "code",
   "execution_count": 3,
   "metadata": {
    "collapsed": true
   },
   "outputs": [],
   "source": [
    "def playMovie(arr): #arr\n",
    "    assert len(arr.shape) == 3\n",
    "    fig = plt.figure()\n",
    "    im = plt.imshow(arr[:,:,0],interpolation=\"None\")\n",
    "    def step(i):\n",
    "        im.set_data(arr[:,:,i])\n",
    "        plt.title(i)\n",
    "        return im\n",
    "    anim = animation.FuncAnimation(fig,step,frames=arr.shape[-1],interval=100)\n",
    "    plt.show()"
   ]
  },
  {
   "cell_type": "code",
   "execution_count": 4,
   "metadata": {
    "collapsed": false
   },
   "outputs": [],
   "source": [
    "def saveMovie(directory):\n",
    "    files = sorted(os.listdir(directory))\n",
    "\n",
    "    x,y = np.array(pd.read_csv(directory+files[0],header=None)).shape\n",
    "    movie_length = len(files)\n",
    "    \n",
    "    movie = np.zeros((x,y,movie_length))\n",
    "    for n in np.arange(movie_length):\n",
    "        filename = directory+files[n]\n",
    "        image = np.array(pd.read_csv(filename,header=None))\n",
    "        if n % 1000 == 0:\n",
    "            print(n)\n",
    "        movie[:,:,n] = image\n",
    "    \n",
    "    print('Just a second now')\n",
    "    f = h5py.File(directory[:-1]+'.hdf5',\"w\")\n",
    "    f.create_dataset(\"ECmovie\",data=movie)\n",
    "    f.close()\n",
    "    print('Done')"
   ]
  },
  {
   "cell_type": "code",
   "execution_count": 5,
   "metadata": {
    "collapsed": true
   },
   "outputs": [],
   "source": [
    "def hdf5_to_array(file):\n",
    "    f = h5py.File(file,'r')\n",
    "    if f['ECmovie'].shape[-1] > 10000:\n",
    "        return np.array(f['ECmovie'][:,:,::10])\n",
    "    return np.array(f['ECmovie'])"
   ]
  },
  {
   "cell_type": "code",
   "execution_count": 6,
   "metadata": {
    "collapsed": true
   },
   "outputs": [],
   "source": [
    "def hdf5_to_1d(file):\n",
    "    f = h5py.File(file,'r')\n",
    "    return np.mean(np.mean(f['ECmovie'],axis=0),axis=0)"
   ]
  },
  {
   "cell_type": "code",
   "execution_count": 7,
   "metadata": {
    "collapsed": true
   },
   "outputs": [],
   "source": [
    "def drawContours(im):\n",
    "    plt.subplot(121)\n",
    "    plt.imshow(im,aspect=1)\n",
    "    plt.axis('equal')\n",
    "    plt.subplot(122)\n",
    "    plt.contour(im,15,origin='image')\n",
    "    plt.axis('equal')\n",
    "    plt.show()\n",
    "    "
   ]
  },
  {
   "cell_type": "code",
   "execution_count": 8,
   "metadata": {
    "collapsed": true
   },
   "outputs": [],
   "source": [
    "def reduceIm(im,smoothness):\n",
    "    new_im = scipy.ndimage.correlate(im,np.ones((smoothness,smoothness)))\n",
    "    return new_im"
   ]
  },
  {
   "cell_type": "code",
   "execution_count": 9,
   "metadata": {
    "collapsed": true
   },
   "outputs": [],
   "source": [
    "#Cool peak\n",
    "f = h5py.File(movie_file,'r')\n",
    "short_movie = np.array(f['ECmovie'][:,:,18680:18760])"
   ]
  },
  {
   "cell_type": "code",
   "execution_count": 10,
   "metadata": {
    "collapsed": true
   },
   "outputs": [],
   "source": [
    "#Hot peak\n",
    "f = h5py.File(movie_file,'r')\n",
    "short_movie = np.array(f['ECmovie'][:,:,8542:8602])"
   ]
  },
  {
   "cell_type": "code",
   "execution_count": 81,
   "metadata": {
    "collapsed": true
   },
   "outputs": [],
   "source": [
    "avg = np.mean(np.mean(short_movie,axis=0),axis=0)"
   ]
  },
  {
   "cell_type": "code",
   "execution_count": 83,
   "metadata": {
    "collapsed": true
   },
   "outputs": [],
   "source": [
    "plt.plot(avg)\n",
    "plt.show()"
   ]
  },
  {
   "cell_type": "code",
   "execution_count": 50,
   "metadata": {
    "collapsed": false
   },
   "outputs": [],
   "source": [
    "movie = hdf5_to_array(movie_file)\n",
    "\n",
    "movie = movie[:,:,1:]"
   ]
  },
  {
   "cell_type": "code",
   "execution_count": 12,
   "metadata": {
    "collapsed": false
   },
   "outputs": [],
   "source": [
    "mean_movie = hdf5_to_1d(movie_file)"
   ]
  },
  {
   "cell_type": "code",
   "execution_count": 75,
   "metadata": {
    "collapsed": true
   },
   "outputs": [],
   "source": [
    "plt.imshow(frame1)\n",
    "plt.show()"
   ]
  },
  {
   "cell_type": "code",
   "execution_count": 53,
   "metadata": {
    "collapsed": true
   },
   "outputs": [],
   "source": [
    "mean_movie = mean_movie[1:]"
   ]
  },
  {
   "cell_type": "code",
   "execution_count": null,
   "metadata": {
    "collapsed": true
   },
   "outputs": [],
   "source": [
    "plt.plot(mean_movie)\n",
    "plt.show()"
   ]
  },
  {
   "cell_type": "code",
   "execution_count": null,
   "metadata": {
    "collapsed": false
   },
   "outputs": [],
   "source": [
    "playMovie(corrected_movie)"
   ]
  },
  {
   "cell_type": "code",
   "execution_count": 109,
   "metadata": {
    "collapsed": false
   },
   "outputs": [],
   "source": [
    "#Smooth in time in case jiggling still there\n",
    "smoothness = 3\n",
    "kernel = np.ones((1,1,smoothness))/smoothness\n",
    "corrected_movie = nd.correlate(movie,kernel)#[:,:,::smoothness]\n",
    "smoothness = 10 * smoothness\n",
    "#kernel2 = np.ones((5,5,1))/25\n",
    "#corrected_movie = nd.correlate(corrected_movie,kernel)"
   ]
  },
  {
   "cell_type": "code",
   "execution_count": 11,
   "metadata": {
    "collapsed": false
   },
   "outputs": [],
   "source": [
    "#cut = np.copy(corrected_movie)\n",
    "#cut = np.copy(cut[:,:,::smoothness//10])\n",
    "#cut = cut[:,:,227:1542]\n",
    "\n",
    "#cut = np.copy(corrected_movie)\n",
    "cut = np.copy(short_movie)\n",
    "\n",
    "cut_avg = np.mean(np.mean(cut,axis=0),axis=0)\n",
    "#all_t = np.arange(cut_avg.size)/ (1000/smoothness)\n",
    "all_t = np.arange(cut_avg.size)\n",
    "\n",
    "image_pos = 222\n",
    "reference_pos = 221\n",
    "plot_pos = 212\n",
    "\n",
    "fig = plt.figure(figsize=(17,10))\n",
    "\n",
    "\n",
    "label_size = 14\n",
    "matplotlib.rcParams['xtick.labelsize'] = label_size \n",
    "matplotlib.rcParams['ytick.labelsize'] = label_size\n",
    "\n",
    "plt.subplot(image_pos) #Image\n",
    "frame1 = cut[:,:,0]\n",
    "im = plt.imshow(frame1*0,vmin=-1,vmax=1)\n",
    "plt.axis('off')\n",
    "cb = plt.colorbar()\n",
    "cb.set_label('Temperature change / K',fontsize='x-large')\n",
    "cb.set_ticks([-1,-0.5,0,0.5,1])\n",
    "\n",
    "plt.subplot(plot_pos) #Plot\n",
    "\n",
    "ax = plt.gca()\n",
    "\n",
    "ax.get_yaxis().get_major_formatter().set_useOffset(False)\n",
    "ax.get_xaxis().set_ticks_position('none')\n",
    "ax.get_yaxis().set_ticks_position('none')\n",
    "\n",
    "plt.plot(all_t,cut_avg)\n",
    "\n",
    "plt.xlim([0,all_t[-1]])\n",
    "plt.ylabel('Temperature / $\\degree$C',fontsize='x-large')\n",
    "plt.xlabel('time / ms',fontsize='x-large')\n",
    "\n",
    "line, = plt.plot([0, 0], plt.ylim())\n",
    "y_range = plt.ylim()\n",
    "\n",
    "plt.subplot(reference_pos)\n",
    "plt.imshow(cut[:,:,0])\n",
    "plt.axis('off')\n",
    "\n",
    "\n",
    "def animate(i):\n",
    "    t = all_t[i]\n",
    "    plt.subplot(image_pos) #Image\n",
    "    new_im = cut[:,:,i]-frame1\n",
    "    im.set_data(new_im)\n",
    "\n",
    "    #plt.title('idx = '+str(idx))\n",
    "    plt.subplot(plot_pos) #Plot\n",
    "    line.set_data([t, t], y_range)\n",
    "    \n",
    "    return im, line\n",
    "\n",
    "anim = animation.FuncAnimation(fig, animate, frames=cut.shape[-1], interval=30)\n",
    "plt.show()"
   ]
  },
  {
   "cell_type": "code",
   "execution_count": 170,
   "metadata": {
    "collapsed": true
   },
   "outputs": [],
   "source": [
    "plt.show()"
   ]
  },
  {
   "cell_type": "code",
   "execution_count": 168,
   "metadata": {
    "collapsed": false
   },
   "outputs": [],
   "source": [
    "anim.save(save_file,dpi=100,extra_args=['-vcodec', 'libx264'],fps=30)"
   ]
  },
  {
   "cell_type": "code",
   "execution_count": 149,
   "metadata": {
    "collapsed": true
   },
   "outputs": [],
   "source": [
    "plt.imshow(frame1)\n",
    "plt.show()"
   ]
  },
  {
   "cell_type": "code",
   "execution_count": 166,
   "metadata": {
    "collapsed": true
   },
   "outputs": [],
   "source": [
    "save_file = r'/home/william/Documents/cool_peak.mp4'"
   ]
  },
  {
   "cell_type": "code",
   "execution_count": null,
   "metadata": {
    "collapsed": true
   },
   "outputs": [],
   "source": [
    "im1 = cut[:,:,631] - frame1"
   ]
  },
  {
   "cell_type": "code",
   "execution_count": null,
   "metadata": {
    "collapsed": false
   },
   "outputs": [],
   "source": [
    "plt.imshow(im1,vmin=-1,vmax=1)\n",
    "plt.colorbar()\n",
    "plt.axis('off')\n",
    "plt.show()"
   ]
  },
  {
   "cell_type": "code",
   "execution_count": null,
   "metadata": {
    "collapsed": true
   },
   "outputs": [],
   "source": [
    "selected_ind = np.array([60,88,400,426,730])"
   ]
  },
  {
   "cell_type": "code",
   "execution_count": null,
   "metadata": {
    "collapsed": true
   },
   "outputs": [],
   "source": [
    "save_dir = r'/home/william/Dropbox/Materials Internship/Presentations/Video presentation/'"
   ]
  },
  {
   "cell_type": "code",
   "execution_count": null,
   "metadata": {
    "collapsed": false
   },
   "outputs": [],
   "source": [
    "t = np.arange(cut_avg.size) * (30/1000)\n",
    "plt.plot(t,cut_avg)\n",
    "ax = plt.axes()\n",
    "([plt.plot(t[ind],cut_avg[ind],'o',markersize=10) for ind in selected_ind])\n",
    "plt.xlim([0,t[754]])\n",
    "plt.ylim([np.min(cut_avg)*0.999,np.max(cut_avg)*1.001])\n",
    "plt.ylabel('Temperature / $\\degree$ C')\n",
    "plt.xlabel('Time / s')\n",
    "y_formatter = matplotlib.ticker.ScalarFormatter(useOffset=False)\n",
    "ax.yaxis.set_major_formatter(y_formatter)\n",
    "plt.title('Temperature profile of PMN-PT 011 under cyclic electric field')\n",
    "plt.show()"
   ]
  },
  {
   "cell_type": "code",
   "execution_count": null,
   "metadata": {
    "collapsed": false
   },
   "outputs": [],
   "source": [
    "for n in selected_ind:\n",
    "    im1 = cut[:,:,n] - frame1\n",
    "    plt.imshow(im1,vmin=-1,vmax=1)\n",
    "    cb = plt.colorbar()\n",
    "    plt.axis('off')\n",
    "    plt.title('Temperature change at t = '+str(t[n])+' s')\n",
    "    cb.set_label('Temperature change / $\\degree$C')\n",
    "    plt.savefig(save_dir+'image'+str(t[n])+'.png',dpi=300)\n",
    "    plt.show()\n",
    "    "
   ]
  },
  {
   "cell_type": "code",
   "execution_count": null,
   "metadata": {
    "collapsed": true
   },
   "outputs": [],
   "source": [
    "playMovie(movie)"
   ]
  },
  {
   "cell_type": "code",
   "execution_count": null,
   "metadata": {
    "collapsed": true
   },
   "outputs": [],
   "source": [
    "plt.imshow(frame1)\n",
    "cb = plt.colorbar()\n",
    "plt.axis('off')\n",
    "plt.title('Reference image at t = 0 s')\n",
    "cb.set_label('Temperature / $\\degree$C')\n",
    "plt.savefig(save_dir+'reference.png',dpi=300)\n",
    "plt.show()\n"
   ]
  },
  {
   "cell_type": "code",
   "execution_count": null,
   "metadata": {
    "collapsed": false
   },
   "outputs": [],
   "source": [
    "box1_avg = np.mean(np.mean(movie,axis=0),axis=0)\n",
    "box1_avg = np.correlate(box1_avg,np.ones(10)/10)"
   ]
  },
  {
   "cell_type": "code",
   "execution_count": null,
   "metadata": {
    "collapsed": false
   },
   "outputs": [],
   "source": [
    "plt.plot(box1_avg)\n",
    "plt.show()"
   ]
  },
  {
   "cell_type": "code",
   "execution_count": null,
   "metadata": {
    "collapsed": true
   },
   "outputs": [],
   "source": [
    "first_im = movie[:,:,0]\n",
    "black_box = np.copy(first_im)\n",
    "black_box[40:60,90:110] = 0"
   ]
  },
  {
   "cell_type": "code",
   "execution_count": null,
   "metadata": {
    "collapsed": false
   },
   "outputs": [],
   "source": []
  },
  {
   "cell_type": "code",
   "execution_count": null,
   "metadata": {
    "collapsed": false
   },
   "outputs": [],
   "source": [
    "plt.imshow(black_box)\n",
    "plt.show()"
   ]
  },
  {
   "cell_type": "code",
   "execution_count": null,
   "metadata": {
    "collapsed": false
   },
   "outputs": [],
   "source": []
  },
  {
   "cell_type": "code",
   "execution_count": null,
   "metadata": {
    "collapsed": false
   },
   "outputs": [],
   "source": [
    "rfs"
   ]
  },
  {
   "cell_type": "code",
   "execution_count": null,
   "metadata": {
    "collapsed": false
   },
   "outputs": [],
   "source": [
    "reduceIm(expandIm(movie[:,:,0])).shape"
   ]
  },
  {
   "cell_type": "code",
   "execution_count": null,
   "metadata": {
    "collapsed": false
   },
   "outputs": [],
   "source": [
    "a = np.empty(movie.shape)"
   ]
  },
  {
   "cell_type": "code",
   "execution_count": null,
   "metadata": {
    "collapsed": false
   },
   "outputs": [],
   "source": [
    "movie.shape"
   ]
  },
  {
   "cell_type": "code",
   "execution_count": null,
   "metadata": {
    "collapsed": false
   },
   "outputs": [],
   "source": [
    "first_im.shape"
   ]
  },
  {
   "cell_type": "code",
   "execution_count": null,
   "metadata": {
    "collapsed": true
   },
   "outputs": [],
   "source": [
    "a = np.array([[1,2,3],[2,10,6],[9,99,-10]])"
   ]
  },
  {
   "cell_type": "code",
   "execution_count": null,
   "metadata": {
    "collapsed": false
   },
   "outputs": [],
   "source": [
    "a"
   ]
  },
  {
   "cell_type": "code",
   "execution_count": null,
   "metadata": {
    "collapsed": false
   },
   "outputs": [],
   "source": [
    "np.unravel_index(np.argmax(a),a.shape)"
   ]
  },
  {
   "cell_type": "code",
   "execution_count": null,
   "metadata": {
    "collapsed": true
   },
   "outputs": [],
   "source": []
  },
  {
   "cell_type": "code",
   "execution_count": null,
   "metadata": {
    "collapsed": false
   },
   "outputs": [],
   "source": [
    "first_im.shape"
   ]
  },
  {
   "cell_type": "code",
   "execution_count": null,
   "metadata": {
    "collapsed": false
   },
   "outputs": [],
   "source": [
    "image = np.zeros((50,50))\n",
    "image[20:30,30:40] = 1\n",
    "image.shape"
   ]
  },
  {
   "cell_type": "code",
   "execution_count": null,
   "metadata": {
    "collapsed": false
   },
   "outputs": [],
   "source": [
    "margin = 10\n",
    "width = 30\n",
    "height = 30\n",
    "image2 = image[margin:margin+height,margin:margin+width]"
   ]
  },
  {
   "cell_type": "code",
   "execution_count": null,
   "metadata": {
    "collapsed": false
   },
   "outputs": [],
   "source": [
    "corr = scipy.signal.correlate2d(image,image2,mode='valid')"
   ]
  },
  {
   "cell_type": "code",
   "execution_count": null,
   "metadata": {
    "collapsed": true
   },
   "outputs": [],
   "source": [
    "x,y = np.unravel_index(np.argmax(corr),corr.shape)"
   ]
  },
  {
   "cell_type": "code",
   "execution_count": null,
   "metadata": {
    "collapsed": false
   },
   "outputs": [],
   "source": [
    "np.all(image[x:x+height,y:y+width] == image2)"
   ]
  },
  {
   "cell_type": "code",
   "execution_count": null,
   "metadata": {
    "collapsed": false
   },
   "outputs": [],
   "source": [
    "image2.shape"
   ]
  },
  {
   "cell_type": "code",
   "execution_count": null,
   "metadata": {
    "collapsed": true
   },
   "outputs": [],
   "source": []
  },
  {
   "cell_type": "code",
   "execution_count": null,
   "metadata": {
    "collapsed": false
   },
   "outputs": [],
   "source": [
    "first_im.shape"
   ]
  },
  {
   "cell_type": "code",
   "execution_count": null,
   "metadata": {
    "collapsed": true
   },
   "outputs": [],
   "source": [
    "from scipy import signal\n",
    "from scipy import misc\n",
    "face = misc.face(gray=True) - misc.face(gray=True).mean()\n",
    "template = np.copy(face[300:365, 670:750])  # right eye\n",
    "template -= template.mean()\n",
    "face = face + np.random.randn(*face.shape) * 50  # add noise\n",
    "corr = signal.correlate2d(face, template, boundary='symm', mode='same')\n",
    "y, x = np.unravel_index(np.argmax(corr), corr.shape)  # find the match\n",
    "\n",
    "import matplotlib.pyplot as plt\n",
    "fig, (ax_orig, ax_template, ax_corr) = plt.subplots(3, 1,figsize=(6, 15))\n",
    "ax_orig.imshow(face, cmap='gray')\n",
    "ax_orig.set_title('Original')\n",
    "ax_orig.set_axis_off()\n",
    "ax_template.imshow(template, cmap='gray')\n",
    "ax_template.set_title('Template')\n",
    "ax_template.set_axis_off()\n",
    "ax_corr.imshow(corr, cmap='gray')\n",
    "ax_corr.set_title('Cross-correlation')\n",
    "ax_corr.set_axis_off()\n",
    "ax_orig.plot(x, y, 'ro')\n",
    "plt.show()"
   ]
  },
  {
   "cell_type": "code",
   "execution_count": null,
   "metadata": {
    "collapsed": true
   },
   "outputs": [],
   "source": []
  }
 ],
 "metadata": {
  "kernelspec": {
   "display_name": "Python 3",
   "language": "python",
   "name": "python3"
  },
  "language_info": {
   "codemirror_mode": {
    "name": "ipython",
    "version": 3
   },
   "file_extension": ".py",
   "mimetype": "text/x-python",
   "name": "python",
   "nbconvert_exporter": "python",
   "pygments_lexer": "ipython3",
   "version": "3.5.2"
  }
 },
 "nbformat": 4,
 "nbformat_minor": 0
}
