{
 "cells": [
  {
   "cell_type": "code",
   "execution_count": 1,
   "metadata": {
    "collapsed": true
   },
   "outputs": [],
   "source": [
    "import numpy as np\n",
    "import matplotlib.pyplot as plt\n",
    "from os import listdir\n",
    "import pandas as pd\n",
    "import pdb\n",
    "import re"
   ]
  },
  {
   "cell_type": "code",
   "execution_count": 2,
   "metadata": {
    "collapsed": false
   },
   "outputs": [],
   "source": [
    "folder_name = 'cooling01'\n",
    "directory = r'C:\\Users\\William\\Desktop\\Data\\160222'+'\\\\'+folder_name\n",
    "files = listdir(directory)"
   ]
  },
  {
   "cell_type": "code",
   "execution_count": 3,
   "metadata": {
    "collapsed": false
   },
   "outputs": [],
   "source": [
    "#Temperature\n",
    "T = np.array([])\n",
    "for file in files:\n",
    "    pattern = r'([\\d]+)°'\n",
    "    p = re.compile(pattern)\n",
    "    m = p.search(file)\n",
    "    \n",
    "    T = np.append(T,int(m.groups()[0]))\n",
    "Tcols = (T - np.min(T)) / (np.max(T) - np.min(T))"
   ]
  },
  {
   "cell_type": "code",
   "execution_count": 4,
   "metadata": {
    "collapsed": false,
    "scrolled": true
   },
   "outputs": [],
   "source": [
    "data_tot = np.ones((1,3))*np.pi\n",
    "#data_tot = np.array([])\n",
    "for n,file in np.ndenumerate(files):\n",
    "    full = directory+'\\\\'+file\n",
    "    data = np.loadtxt(full, delimiter=',', skiprows=34)\n",
    "    Tarray = np.ones((data.shape[0],1))*T[n[0]]\n",
    "    \n",
    "    datanew = np.hstack((data,Tarray))\n",
    "    \n",
    "    data_tot = np.vstack((data_tot,datanew))\n",
    "    if data_tot[0,0] == 100:\n",
    "        pdb.set_trace()\n",
    "data_tot = data_tot[1:]\n",
    "df = pd.DataFrame(data_tot, columns = ['2 theta / degrees','Intensity','Temperature / C'])\n",
    "df.to_csv(folder_name+'_dataframe.csv', index_label=False)"
   ]
  },
  {
   "cell_type": "markdown",
   "metadata": {},
   "source": [
    "Section for analysis:"
   ]
  },
  {
   "cell_type": "code",
   "execution_count": 5,
   "metadata": {
    "collapsed": true
   },
   "outputs": [],
   "source": [
    "df = pd.read_csv(folder_name+'_dataframe.csv')\n",
    "df['2 theta / degrees'] = df['2 theta / degrees'] / 2\n",
    "df.columns = ['theta / degrees','Intensity','Temperature / C']"
   ]
  },
  {
   "cell_type": "code",
   "execution_count": 6,
   "metadata": {
    "collapsed": false
   },
   "outputs": [
    {
     "data": {
      "text/html": [
       "<div>\n",
       "<table border=\"1\" class=\"dataframe\">\n",
       "  <thead>\n",
       "    <tr style=\"text-align: right;\">\n",
       "      <th></th>\n",
       "      <th>theta / degrees</th>\n",
       "      <th>Intensity</th>\n",
       "      <th>Temperature / C</th>\n",
       "    </tr>\n",
       "  </thead>\n",
       "  <tbody>\n",
       "    <tr>\n",
       "      <th>0</th>\n",
       "      <td>22.19655</td>\n",
       "      <td>13.0</td>\n",
       "      <td>100.0</td>\n",
       "    </tr>\n",
       "    <tr>\n",
       "      <th>1</th>\n",
       "      <td>22.19905</td>\n",
       "      <td>13.0</td>\n",
       "      <td>100.0</td>\n",
       "    </tr>\n",
       "    <tr>\n",
       "      <th>2</th>\n",
       "      <td>22.20155</td>\n",
       "      <td>21.0</td>\n",
       "      <td>100.0</td>\n",
       "    </tr>\n",
       "    <tr>\n",
       "      <th>3</th>\n",
       "      <td>22.20405</td>\n",
       "      <td>15.0</td>\n",
       "      <td>100.0</td>\n",
       "    </tr>\n",
       "    <tr>\n",
       "      <th>4</th>\n",
       "      <td>22.20655</td>\n",
       "      <td>13.0</td>\n",
       "      <td>100.0</td>\n",
       "    </tr>\n",
       "  </tbody>\n",
       "</table>\n",
       "</div>"
      ],
      "text/plain": [
       "   theta / degrees  Intensity  Temperature / C\n",
       "0         22.19655       13.0            100.0\n",
       "1         22.19905       13.0            100.0\n",
       "2         22.20155       21.0            100.0\n",
       "3         22.20405       15.0            100.0\n",
       "4         22.20655       13.0            100.0"
      ]
     },
     "execution_count": 6,
     "metadata": {},
     "output_type": "execute_result"
    }
   ],
   "source": [
    "df.head()"
   ]
  },
  {
   "cell_type": "code",
   "execution_count": 7,
   "metadata": {
    "collapsed": false
   },
   "outputs": [
    {
     "data": {
      "text/html": [
       "<div>\n",
       "<table border=\"1\" class=\"dataframe\">\n",
       "  <thead>\n",
       "    <tr style=\"text-align: right;\">\n",
       "      <th></th>\n",
       "      <th>theta / degrees</th>\n",
       "      <th>Intensity</th>\n",
       "      <th>Temperature / C</th>\n",
       "    </tr>\n",
       "  </thead>\n",
       "  <tbody>\n",
       "    <tr>\n",
       "      <th>2930</th>\n",
       "      <td>22.6827</td>\n",
       "      <td>11.0</td>\n",
       "      <td>90.0</td>\n",
       "    </tr>\n",
       "    <tr>\n",
       "      <th>2931</th>\n",
       "      <td>22.6852</td>\n",
       "      <td>8.0</td>\n",
       "      <td>90.0</td>\n",
       "    </tr>\n",
       "    <tr>\n",
       "      <th>2932</th>\n",
       "      <td>22.6877</td>\n",
       "      <td>4.0</td>\n",
       "      <td>90.0</td>\n",
       "    </tr>\n",
       "    <tr>\n",
       "      <th>2933</th>\n",
       "      <td>22.6902</td>\n",
       "      <td>6.0</td>\n",
       "      <td>90.0</td>\n",
       "    </tr>\n",
       "    <tr>\n",
       "      <th>2934</th>\n",
       "      <td>22.6927</td>\n",
       "      <td>7.0</td>\n",
       "      <td>90.0</td>\n",
       "    </tr>\n",
       "  </tbody>\n",
       "</table>\n",
       "</div>"
      ],
      "text/plain": [
       "      theta / degrees  Intensity  Temperature / C\n",
       "2930          22.6827       11.0             90.0\n",
       "2931          22.6852        8.0             90.0\n",
       "2932          22.6877        4.0             90.0\n",
       "2933          22.6902        6.0             90.0\n",
       "2934          22.6927        7.0             90.0"
      ]
     },
     "execution_count": 7,
     "metadata": {},
     "output_type": "execute_result"
    }
   ],
   "source": [
    "df.tail()"
   ]
  },
  {
   "cell_type": "code",
   "execution_count": 8,
   "metadata": {
    "collapsed": false,
    "scrolled": false
   },
   "outputs": [
    {
     "name": "stderr",
     "output_type": "stream",
     "text": [
      "C:\\Users\\William\\Miniconda3\\lib\\site-packages\\matplotlib\\collections.py:590: FutureWarning: elementwise comparison failed; returning scalar instead, but in the future will perform elementwise comparison\n",
      "  if self._edgecolors == str('face'):\n"
     ]
    }
   ],
   "source": [
    "maxvalues = np.ones((1,2))*np.pi\n",
    "\n",
    "I = df['Intensity']\n",
    "theta = df['theta / degrees']\n",
    "\n",
    "for temp in T:\n",
    "    #pdb.set_trace()\n",
    "    indices = df['Temperature / C'] == temp\n",
    "    #plt.plot(theta[indices],I[indices])\n",
    "    #plt.show()v\n",
    "    maximum = np.argmax(I[indices])\n",
    "    \n",
    "    \n",
    "    plt.plot(theta[indices],I[indices])\n",
    "    plt.scatter(theta[maximum],I[maximum])\n",
    "    plt.title(str(temp))\n",
    "    plt.show()\n",
    "    #pdb.set_trace()\n",
    "    new_maxvalues = np.array([[temp,theta[indices][maximum]]])\n",
    "    maxvalues = np.vstack((maxvalues,new_maxvalues))\n",
    "    \n",
    "maxvalues = maxvalues[1:]\n",
    "\n",
    "maximum_data = pd.DataFrame(maxvalues, columns = ['Temperature / C', 'theta / degrees'])\n",
    "maximum_data.to_csv(folder_name+'_peaks.csv', index_label=False)"
   ]
  },
  {
   "cell_type": "code",
   "execution_count": null,
   "metadata": {
    "collapsed": false
   },
   "outputs": [],
   "source": [
    "maximum_data.head()"
   ]
  },
  {
   "cell_type": "code",
   "execution_count": null,
   "metadata": {
    "collapsed": false
   },
   "outputs": [],
   "source": [
    "maxvalues = np.ones((1,2))*np.pi\n",
    "\n",
    "I = df['Intensity']\n",
    "theta = df['theta / degrees']\n",
    "\n",
    "for temp in T:\n",
    "    #pdb.set_trace()\n",
    "    indices = df['Temperature / C'] == temp\n",
    "    IT = I[indices]\n",
    "    #plt.plot(theta[indices],I[indices])\n",
    "    #plt.show()v\n",
    "    maximum = np.max(IT)\n",
    "    \n",
    "    hpp_idcs = IT > maximum*0.8\n",
    "    pdb.set_trace()\n",
    "    max_theta = np.mean(theta[hpp_idcs])\n",
    "    \n",
    "    #plt.plot(theta[indices],I[indices])\n",
    "    #plt.scatter(theta[maximum],I[maximum])\n",
    "    #plt.title(str(temp))\n",
    "    #plt.show()\n",
    "    #pdb.set_trace()\n",
    "    new_maxvalues = np.array([[temp,max_theta]])\n",
    "    maxvalues = np.vstack((maxvalues,new_maxvalues))\n",
    "    \n",
    "maxvalues = maxvalues[1:]\n",
    "\n",
    "maximum_data = pd.DataFrame(maxvalues, columns = ['Temperature / C', 'theta / degrees'])\n",
    "maximum_data.to_csv(folder_name+'_peaks.csv', index_label=False)"
   ]
  },
  {
   "cell_type": "code",
   "execution_count": null,
   "metadata": {
    "collapsed": true
   },
   "outputs": [],
   "source": []
  }
 ],
 "metadata": {
  "kernelspec": {
   "display_name": "Python 3",
   "language": "python",
   "name": "python3"
  },
  "language_info": {
   "codemirror_mode": {
    "name": "ipython",
    "version": 3
   },
   "file_extension": ".py",
   "mimetype": "text/x-python",
   "name": "python",
   "nbconvert_exporter": "python",
   "pygments_lexer": "ipython3",
   "version": "3.4.4"
  }
 },
 "nbformat": 4,
 "nbformat_minor": 0
}
