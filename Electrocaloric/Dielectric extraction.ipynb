{
 "cells": [
  {
   "cell_type": "code",
   "execution_count": null,
   "metadata": {
    "collapsed": true
   },
   "outputs": [],
   "source": [
    "import pandas as pd\n",
    "import matplotlib.pyplot as plt\n",
    "import numpy as np\n",
    "from os import listdir"
   ]
  },
  {
   "cell_type": "code",
   "execution_count": 2,
   "metadata": {
    "collapsed": false
   },
   "outputs": [],
   "source": [
    "directory = r'/home/william/Dropbox/Materials Internship/Data/PZT_data/PLZT everything/Dielectric data PLZT 0_1/'\n",
    "test_file = r'/home/william/Dropbox/Materials Internship/Data/PZT_data/PLZT everything/Dielectric data PLZT 0_1/935.40.tab'"
   ]
  },
  {
   "cell_type": "code",
   "execution_count": 15,
   "metadata": {
    "collapsed": true
   },
   "outputs": [],
   "source": [
    "def extractT(s):\n",
    "    lst = s.split('.')\n",
    "    t = int(lst[0]) + int(lst[1])*100\n",
    "    T = 580 - 10*t/60\n",
    "    return t\n",
    "    return T"
   ]
  },
  {
   "cell_type": "code",
   "execution_count": 16,
   "metadata": {
    "collapsed": false
   },
   "outputs": [],
   "source": [
    "data = np.ones(5)*np.pi\n",
    "for file in listdir(directory):\n",
    "    if '.tab' not in file:\n",
    "        continue\n",
    "    T = extractT(file)\n",
    "    if T< 100:\n",
    "        pass\n",
    "    df = pd.read_table(directory+file)\n",
    "    new_cps = np.array(df[df['4294A_Frequency'] % 100 == 0])[:,0]\n",
    "    new_row = np.hstack((extractT(file),new_cps))\n",
    "\n",
    "    data = np.vstack((data,new_row))\n",
    "data = data[1:,:]\n",
    "\n",
    "sorted_indices = np.argsort(data[:,0])\n",
    "data = data[sorted_indices]"
   ]
  },
  {
   "cell_type": "code",
   "execution_count": 18,
   "metadata": {
    "collapsed": false
   },
   "outputs": [],
   "source": [
    "for file in listdir(directory):\n",
    "    fname = directory+file\n",
    "    if '.tab' not in file:\n",
    "        continue\n",
    "    T = extractT(file)\n",
    "    if T<200:\n",
    "        continue\n",
    "    df = pd.read_table(directory+file)\n",
    "    C = df['#4294A_Cp']\n",
    "    f = df['4294A_Frequency']\n",
    "    minf = f[np.argmin(C)]\n",
    "    plt.plot(T,np.median(C),'x')\n",
    "    \n",
    "plt.show()"
   ]
  },
  {
   "cell_type": "code",
   "execution_count": 10,
   "metadata": {
    "collapsed": false
   },
   "outputs": [
    {
     "data": {
      "text/html": [
       "<div>\n",
       "<table border=\"1\" class=\"dataframe\">\n",
       "  <thead>\n",
       "    <tr style=\"text-align: right;\">\n",
       "      <th></th>\n",
       "      <th>#4294A_Cp</th>\n",
       "      <th>4294A_Frequency</th>\n",
       "    </tr>\n",
       "  </thead>\n",
       "  <tbody>\n",
       "    <tr>\n",
       "      <th>0</th>\n",
       "      <td>2.393769e-11</td>\n",
       "      <td>100.000</td>\n",
       "    </tr>\n",
       "    <tr>\n",
       "      <th>1</th>\n",
       "      <td>-9.664072e-12</td>\n",
       "      <td>107.227</td>\n",
       "    </tr>\n",
       "    <tr>\n",
       "      <th>2</th>\n",
       "      <td>2.586161e-11</td>\n",
       "      <td>114.976</td>\n",
       "    </tr>\n",
       "    <tr>\n",
       "      <th>3</th>\n",
       "      <td>1.469310e-11</td>\n",
       "      <td>123.285</td>\n",
       "    </tr>\n",
       "    <tr>\n",
       "      <th>4</th>\n",
       "      <td>-3.568854e-12</td>\n",
       "      <td>132.194</td>\n",
       "    </tr>\n",
       "  </tbody>\n",
       "</table>\n",
       "</div>"
      ],
      "text/plain": [
       "      #4294A_Cp  4294A_Frequency\n",
       "0  2.393769e-11          100.000\n",
       "1 -9.664072e-12          107.227\n",
       "2  2.586161e-11          114.976\n",
       "3  1.469310e-11          123.285\n",
       "4 -3.568854e-12          132.194"
      ]
     },
     "execution_count": 10,
     "metadata": {},
     "output_type": "execute_result"
    }
   ],
   "source": [
    "df.head()"
   ]
  },
  {
   "cell_type": "code",
   "execution_count": 29,
   "metadata": {
    "collapsed": false
   },
   "outputs": [],
   "source": [
    "for n in np.arange(4):\n",
    "    plt.plot(data[:,0],data[:,n+1],'x')\n",
    "plt.show()"
   ]
  },
  {
   "cell_type": "code",
   "execution_count": 7,
   "metadata": {
    "collapsed": true
   },
   "outputs": [],
   "source": [
    "plt.plot(data[:,0],data[:,2],'x')\n",
    "plt.show()"
   ]
  }
 ],
 "metadata": {
  "kernelspec": {
   "display_name": "Python 3",
   "language": "python",
   "name": "python3"
  },
  "language_info": {
   "codemirror_mode": {
    "name": "ipython",
    "version": 3
   },
   "file_extension": ".py",
   "mimetype": "text/x-python",
   "name": "python",
   "nbconvert_exporter": "python",
   "pygments_lexer": "ipython3",
   "version": "3.5.2"
  }
 },
 "nbformat": 4,
 "nbformat_minor": 0
}
