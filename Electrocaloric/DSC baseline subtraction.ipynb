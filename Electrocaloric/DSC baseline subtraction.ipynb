{
 "cells": [
  {
   "cell_type": "code",
   "execution_count": 1,
   "metadata": {
    "collapsed": false
   },
   "outputs": [],
   "source": [
    "import numpy as np\n",
    "import matplotlib.pyplot as plt\n",
    "from os import listdir\n",
    "import pandas as pd"
   ]
  },
  {
   "cell_type": "code",
   "execution_count": 2,
   "metadata": {
    "collapsed": true
   },
   "outputs": [],
   "source": [
    "directory = r'/home/william/Dropbox/Materials Internship/Data/DSC/'"
   ]
  },
  {
   "cell_type": "code",
   "execution_count": 147,
   "metadata": {
    "collapsed": false
   },
   "outputs": [],
   "source": [
    "#Initial plot\n",
    "for file in listdir(directory):\n",
    "    if 'i3_cooling.csv' not in file:\n",
    "        continue\n",
    "    df = pd.read_csv(directory+file)\n",
    "    T = np.array(df[df.columns[0]])\n",
    "    q = np.array(df[df.columns[1]])\n",
    "    plt.plot(T,q)\n",
    "plt.show()"
   ]
  },
  {
   "cell_type": "code",
   "execution_count": 188,
   "metadata": {
    "collapsed": false
   },
   "outputs": [],
   "source": [
    "qdot = np.copy(q)"
   ]
  },
  {
   "cell_type": "code",
   "execution_count": 189,
   "metadata": {
    "collapsed": true
   },
   "outputs": [],
   "source": [
    "p = np.polyfit(T[T>230],qdot[T>230],1)"
   ]
  },
  {
   "cell_type": "code",
   "execution_count": 190,
   "metadata": {
    "collapsed": false
   },
   "outputs": [],
   "source": [
    "p = np.polyfit(T[(T>240) & (T<320)],qdot[(T>240) & (T<320)],1)\n"
   ]
  },
  {
   "cell_type": "code",
   "execution_count": 191,
   "metadata": {
    "collapsed": true
   },
   "outputs": [],
   "source": [
    "qdot = qdot - np.polyval(p,T)"
   ]
  },
  {
   "cell_type": "code",
   "execution_count": 192,
   "metadata": {
    "collapsed": false
   },
   "outputs": [],
   "source": [
    "T0 = 149.8\n",
    "qdot[T<T0] = qdot[np.argmin(np.abs(T0-T))] * np.exp((T[T<T0]-T0))"
   ]
  },
  {
   "cell_type": "code",
   "execution_count": 193,
   "metadata": {
    "collapsed": false
   },
   "outputs": [],
   "source": [
    "#T0b = 350\n",
    "#qdot[T>T0b] = qdot[np.argmin(np.abs(T0b-T))] * np.exp((T0b-T[T>T0b]))"
   ]
  },
  {
   "cell_type": "code",
   "execution_count": 194,
   "metadata": {
    "collapsed": false
   },
   "outputs": [],
   "source": [
    "T1 = 159.27\n",
    "T2 = 246\n",
    "between = ((T>T1) & (T<T2))\n",
    "qdot[between] =  qdot[np.argmin(np.abs(T1-T))] * np.exp(0.5*(T1-T[between])) + qdot[np.argmin(np.abs(T2-T))] * np.exp(0.1*(T[between]-T2))"
   ]
  },
  {
   "cell_type": "code",
   "execution_count": 195,
   "metadata": {
    "collapsed": true
   },
   "outputs": [],
   "source": [
    "qdot += np.polyval(p,T)"
   ]
  },
  {
   "cell_type": "code",
   "execution_count": 197,
   "metadata": {
    "collapsed": true
   },
   "outputs": [],
   "source": [
    "#plt.plot(T,q,'r')\n",
    "plt.plot(T,qdot,'g')\n",
    "#plt.plot(plt.xlim(),[0,0])\n",
    "plt.show()"
   ]
  },
  {
   "cell_type": "code",
   "execution_count": 198,
   "metadata": {
    "collapsed": true
   },
   "outputs": [],
   "source": [
    "df_corrected = pd.DataFrame(data=np.transpose(np.vstack((T,qdot))),columns=['T','Heat flow'])"
   ]
  },
  {
   "cell_type": "code",
   "execution_count": 199,
   "metadata": {
    "collapsed": false
   },
   "outputs": [],
   "source": [
    "df_corrected.to_csv(directory+'i3_cooling_corrected.csv')"
   ]
  },
  {
   "cell_type": "code",
   "execution_count": null,
   "metadata": {
    "collapsed": true
   },
   "outputs": [],
   "source": []
  }
 ],
 "metadata": {
  "kernelspec": {
   "display_name": "Python 3",
   "language": "python",
   "name": "python3"
  },
  "language_info": {
   "codemirror_mode": {
    "name": "ipython",
    "version": 3
   },
   "file_extension": ".py",
   "mimetype": "text/x-python",
   "name": "python",
   "nbconvert_exporter": "python",
   "pygments_lexer": "ipython3",
   "version": "3.5.2"
  }
 },
 "nbformat": 4,
 "nbformat_minor": 0
}
