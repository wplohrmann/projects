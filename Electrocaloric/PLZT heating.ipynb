{
 "cells": [
  {
   "cell_type": "code",
   "execution_count": 32,
   "metadata": {
    "collapsed": true
   },
   "outputs": [],
   "source": [
    "from os import listdir\n",
    "import numpy as np\n",
    "import pandas as pd\n",
    "import matplotlib.pyplot as plt\n",
    "import pdb\n",
    "import re"
   ]
  },
  {
   "cell_type": "code",
   "execution_count": 33,
   "metadata": {
    "collapsed": true
   },
   "outputs": [],
   "source": [
    "directory = r'/home/william/Dropbox/Materials Internship/Data/PZT_data/PLZT/050816 PLZT heating/'"
   ]
  },
  {
   "cell_type": "code",
   "execution_count": 34,
   "metadata": {
    "collapsed": true
   },
   "outputs": [],
   "source": [
    "def extractT(file):\n",
    "    pattern =  r'([0-9]{3}) ?C'\n",
    "    m = re.search(pattern,file)\n",
    "    T = int(m.groups()[0])\n",
    "    return T"
   ]
  },
  {
   "cell_type": "code",
   "execution_count": 41,
   "metadata": {
    "collapsed": false
   },
   "outputs": [
    {
     "name": "stdout",
     "output_type": "stream",
     "text": [
      "['0.0497' '0.0304' '0.0368' ..., '-0.2419' '-0.1923' '-0.1009']\n",
      "['-0.001151' '-0.001147' '-0.001153' ..., '-0.006035' '-0.006027'\n",
      " '-0.006014']\n",
      "PLZT 30 V 390 C 1ms2.txt\n"
     ]
    }
   ],
   "source": [
    "T_array = np.array([])\n",
    "Pr = np.array([])\n",
    "Pmax = np.array([])\n",
    "for file in listdir(directory):\n",
    "    if '.txt' not in file:\n",
    "        continue\n",
    "    num_to_skip=60\n",
    "    while True:\n",
    "        if num_to_skip <= 10:\n",
    "            raise ZeroDivisionError\n",
    "        \n",
    "        try:\n",
    "            df = pd.read_table(directory+file,skiprows=num_to_skip, skipfooter=18,\n",
    "                               encoding = \"ISO-8859-1\",engine='python')\n",
    "            P = np.array(df['Measured Polarization'])\n",
    "            break\n",
    "        except KeyError:\n",
    "            num_to_skip -= 1\n",
    "    V = np.array(df['Drive Voltage'])\n",
    "    t = np.array(df['Time (ms)'])\n",
    "    try:\n",
    "        plt.plot(V,P)\n",
    "    except ValueError:\n",
    "        print(V)\n",
    "        print(P)\n",
    "        print(file)\n",
    "        continue\n",
    "    \n",
    "    zero_threshold = np.mean(np.abs(np.diff(V)))*1.1\n",
    "    Pr_new = P[np.abs(V)<zero_threshold]\n",
    "    Pr_new = np.max(Pr_new)\n",
    "    Pmax_new = np.max(P)\n",
    "    \n",
    "    \n",
    "    T_array = np.append(T_array,extractT(file))\n",
    "    Pr = np.append(Pr,Pr_new)\n",
    "    Pmax = np.append(Pmax,Pmax_new)\n",
    "plt.show()\n"
   ]
  },
  {
   "cell_type": "code",
   "execution_count": 29,
   "metadata": {
    "collapsed": false
   },
   "outputs": [
    {
     "data": {
      "text/plain": [
       "51"
      ]
     },
     "execution_count": 29,
     "metadata": {},
     "output_type": "execute_result"
    }
   ],
   "source": [
    "T_array.size"
   ]
  },
  {
   "cell_type": "code",
   "execution_count": 30,
   "metadata": {
    "collapsed": false
   },
   "outputs": [
    {
     "data": {
      "text/plain": [
       "51"
      ]
     },
     "execution_count": 30,
     "metadata": {},
     "output_type": "execute_result"
    }
   ],
   "source": [
    "Pr.size"
   ]
  },
  {
   "cell_type": "code",
   "execution_count": 39,
   "metadata": {
    "collapsed": false
   },
   "outputs": [],
   "source": [
    "plt.plot(T_array,Pr,'bx')\n",
    "plt.plot(T_array,Pmax,'rx')\n",
    "\n",
    "plt.show()"
   ]
  },
  {
   "cell_type": "code",
   "execution_count": 38,
   "metadata": {
    "collapsed": true
   },
   "outputs": [],
   "source": [
    "plt.show()"
   ]
  },
  {
   "cell_type": "code",
   "execution_count": null,
   "metadata": {
    "collapsed": true
   },
   "outputs": [],
   "source": []
  }
 ],
 "metadata": {
  "kernelspec": {
   "display_name": "Python 3",
   "language": "python",
   "name": "python3"
  },
  "language_info": {
   "codemirror_mode": {
    "name": "ipython",
    "version": 3
   },
   "file_extension": ".py",
   "mimetype": "text/x-python",
   "name": "python",
   "nbconvert_exporter": "python",
   "pygments_lexer": "ipython3",
   "version": "3.5.2"
  }
 },
 "nbformat": 4,
 "nbformat_minor": 0
}
