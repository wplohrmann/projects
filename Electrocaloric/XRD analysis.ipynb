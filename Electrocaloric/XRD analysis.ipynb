{
 "cells": [
  {
   "cell_type": "code",
   "execution_count": 29,
   "metadata": {
    "collapsed": true
   },
   "outputs": [],
   "source": [
    "import numpy as np\n",
    "import matplotlib.pyplot as plt\n",
    "import pandas as pd"
   ]
  },
  {
   "cell_type": "code",
   "execution_count": 30,
   "metadata": {
    "collapsed": false
   },
   "outputs": [],
   "source": [
    "df1 = pd.read_csv('cooling01_peaks.csv')\n",
    "df2 = pd.read_csv('heating01_peaks.csv')\n",
    "df3 = pd.read_csv('heating02_peaks.csv')\n",
    "dataframes = [df1,df2,df3]"
   ]
  },
  {
   "cell_type": "code",
   "execution_count": 31,
   "metadata": {
    "collapsed": false
   },
   "outputs": [
    {
     "data": {
      "text/html": [
       "<div>\n",
       "<table border=\"1\" class=\"dataframe\">\n",
       "  <thead>\n",
       "    <tr style=\"text-align: right;\">\n",
       "      <th></th>\n",
       "      <th>Temperature / C</th>\n",
       "      <th>theta / degrees</th>\n",
       "    </tr>\n",
       "  </thead>\n",
       "  <tbody>\n",
       "    <tr>\n",
       "      <th>0</th>\n",
       "      <td>100.0</td>\n",
       "      <td>22.44405</td>\n",
       "    </tr>\n",
       "    <tr>\n",
       "      <th>1</th>\n",
       "      <td>110.0</td>\n",
       "      <td>22.44045</td>\n",
       "    </tr>\n",
       "    <tr>\n",
       "      <th>2</th>\n",
       "      <td>120.0</td>\n",
       "      <td>22.43835</td>\n",
       "    </tr>\n",
       "    <tr>\n",
       "      <th>3</th>\n",
       "      <td>130.0</td>\n",
       "      <td>22.43510</td>\n",
       "    </tr>\n",
       "    <tr>\n",
       "      <th>4</th>\n",
       "      <td>140.0</td>\n",
       "      <td>22.38440</td>\n",
       "    </tr>\n",
       "  </tbody>\n",
       "</table>\n",
       "</div>"
      ],
      "text/plain": [
       "   Temperature / C  theta / degrees\n",
       "0            100.0         22.44405\n",
       "1            110.0         22.44045\n",
       "2            120.0         22.43835\n",
       "3            130.0         22.43510\n",
       "4            140.0         22.38440"
      ]
     },
     "execution_count": 31,
     "metadata": {},
     "output_type": "execute_result"
    }
   ],
   "source": [
    "df1.head()"
   ]
  },
  {
   "cell_type": "code",
   "execution_count": 33,
   "metadata": {
    "collapsed": false
   },
   "outputs": [],
   "source": [
    "for df in dataframes:\n",
    "    df = df.sort_values('Temperature / C')\n",
    "    #plt.plot(df['Temperature / C'],1/np.sin(df['theta / degrees']*np.pi/180), '-x')\n",
    "    plt.plot(df['Temperature / C'],df['theta / degrees'],'-x')\n",
    "    plt.xlabel('Temperature / C', size = 15)\n",
    "    plt.ylabel(r'$\\frac{1}{sin(\\theta)}$', size=20)\n",
    "plt.legend(['Cooling', 'Heating_1', 'Heating_2'])\n",
    "plt.show()"
   ]
  },
  {
   "cell_type": "code",
   "execution_count": null,
   "metadata": {
    "collapsed": true
   },
   "outputs": [],
   "source": []
  },
  {
   "cell_type": "code",
   "execution_count": 22,
   "metadata": {
    "collapsed": false
   },
   "outputs": [
    {
     "name": "stdout",
     "output_type": "stream",
     "text": [
      "   Temperature / C  theta / degrees\n",
      "4            140.0          22.3844\n",
      "\n",
      "\n",
      "   Temperature / C  theta / degrees\n",
      "4            140.0          22.4335\n",
      "\n",
      "\n",
      "   Temperature / C  theta / degrees\n",
      "4            140.0         22.43035\n",
      "\n",
      "\n"
     ]
    }
   ],
   "source": [
    "for df in dataframes:\n",
    "    print(df[df['Temperature / C']==140])\n",
    "    print()\n",
    "    print()"
   ]
  }
 ],
 "metadata": {
  "kernelspec": {
   "display_name": "Python 3",
   "language": "python",
   "name": "python3"
  },
  "language_info": {
   "codemirror_mode": {
    "name": "ipython",
    "version": 3
   },
   "file_extension": ".py",
   "mimetype": "text/x-python",
   "name": "python",
   "nbconvert_exporter": "python",
   "pygments_lexer": "ipython3",
   "version": "3.4.4"
  }
 },
 "nbformat": 4,
 "nbformat_minor": 0
}
