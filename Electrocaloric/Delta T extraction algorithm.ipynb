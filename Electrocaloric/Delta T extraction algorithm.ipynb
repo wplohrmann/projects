{
 "cells": [
  {
   "cell_type": "code",
   "execution_count": 1,
   "metadata": {
    "collapsed": false
   },
   "outputs": [],
   "source": [
    "import numpy as np\n",
    "import matplotlib.pyplot as plt\n",
    "from os import listdir\n"
   ]
  },
  {
   "cell_type": "code",
   "execution_count": 17,
   "metadata": {
    "collapsed": false
   },
   "outputs": [
    {
     "name": "stderr",
     "output_type": "stream",
     "text": [
      "C:\\Users\\William\\Miniconda3\\lib\\site-packages\\ipykernel\\__main__.py:11: DeprecationWarning: using a non-integer number instead of an integer will result in an error in the future\n",
      "C:\\Users\\William\\Miniconda3\\lib\\site-packages\\ipykernel\\__main__.py:11: DeprecationWarning: using a non-integer number instead of an integer will result in an error in the future\n"
     ]
    }
   ],
   "source": [
    "#Load data into variables from excel file\n",
    "fname = r'C:\\Users\\William\\Desktop\\Data\\PMN-PT 011 Direct\\060616 PMN-PT 011 300 V\\PMN-PT 011  300V 380K H2C box 2.csv'\n",
    "data = np.loadtxt(fname,delimiter=',',skiprows=1, usecols=(2,3))\n",
    "t = data[:,0]\n",
    "T = data[:,1]\n",
    "#dt = np.mean(np.diff(t))\n",
    "\n",
    "\n",
    "p = np.polyfit((t[0], t[-1]),(T[0], T[1]),1)\n",
    "T = T - t*p[0] - p[1]\n",
    "Tsample = p[1] + p[0]*t[np.round(t.size/2)]\n"
   ]
  },
  {
   "cell_type": "code",
   "execution_count": 31,
   "metadata": {
    "collapsed": false
   },
   "outputs": [],
   "source": [
    "def extractTnew(fname):\n",
    "    #Extracting data from file \n",
    "    #fname = r'C:\\Users\\William\\Desktop\\Data\\PMN-PT 011 Direct\\060616 PMN-PT 011 300 V\\PMN-PT 011  300V 380K H2C box 2.csv'\n",
    "    data = np.loadtxt(fname,delimiter=',',skiprows=1, usecols=(2,3))\n",
    "    t = data[:,0]\n",
    "    T = data[:,1]\n",
    "    \n",
    "    \n",
    "    #Linear correction\n",
    "    p = np.polyfit((t[0], t[-1]),(T[0], T[1]),1)\n",
    "    T = T - t*p[0] - p[1]\n",
    "    Tsample = p[1] + p[0]*t[np.round(t.size/2)]\n",
    "    \n",
    "    #Smoothing\n",
    "    s = 20\n",
    "    Tsmooth = np.convolve(T,np.ones(s)/s, mode='valid')\n",
    "    tsmooth = np.convolve(t,np.ones(s)/s, mode='valid')\n",
    "    #plt.plot(t,T,'r')\n",
    "    #plt.plot(tsmooth,Tsmooth, 'b')\n",
    "    #plt.show()\n",
    "    \n",
    "    t = tsmooth\n",
    "    T = Tsmooth\n",
    "    dt = np.mean(np.diff(t))\n",
    "    \n",
    "    \n",
    "    #Differential more useful for finding jumps\n",
    "    dT = np.diff(T)    \n",
    "    plt.scatter(t[:-1],dT)\n",
    "    plt.show()\n",
    "    \n",
    "    #Alternative edge detector:\n",
    "    #kernel = np.array([-1, -1, -1, 0, 1, 1, 1])\n",
    "    #dT = np.convolve(T,kernel, mode='valid')\n",
    "    #kernel2 = np.ones(5)/5\n",
    "    #dT = np.convolve(dT,kernel2,mode='same')\n",
    "    #plt.plot(t[:-kernel.size+1],dT)\n",
    "    #plt.show()\n",
    "    \n",
    "    #Finding the EC jumps\n",
    "    #Number of values included is no*2\n",
    "    no = 40\n",
    "    maxima = np.argpartition(dT,-no)[-no:]\n",
    "    minima = np.argpartition(dT,no-1)[:no]\n",
    "    extrema = np.hstack((maxima,minima))\n",
    "\n",
    "    plt.plot(t,T)\n",
    "    plt.scatter(t[extrema+1],T[extrema+1])\n",
    "    plt.show()\n",
    "    \n",
    "    extrema2 = extrema\n",
    "    \n",
    "    threshold = 3\n",
    "    threshold = np.round(threshold/dt)\n",
    "    for ex in extrema2:\n",
    "        extrema = extrema[np.abs(extrema-ex)>threshold]\n",
    "        extrema = np.append(extrema, ex)\n",
    "    \n",
    "    plt.plot(t,T)\n",
    "    plt.scatter(t[extrema+1],T[extrema+1])\n",
    "    plt.show()\n",
    "        \n",
    "    \n",
    "    Tarr = np.array([Tsample])\n",
    "    \n",
    "    for ind in extrema:\n",
    "        tightness = 2 # In seconds\n",
    "        tightness = np.round(tightness/dt)\n",
    "        lower = ind+1-tightness\n",
    "        upper = ind+1+tightness\n",
    "        region = Tsmooth[lower:upper]\n",
    "        tregion = tsmooth[lower:upper]\n",
    "        maxmin = np.array([np.max(region), np.min(region)])\n",
    "        Tarr = np.hstack((Tarr,maxmin))\n",
    "        maxminarg = np.array([np.argmax(region), np.argmin(region)])\n",
    "        plt.plot(tsmooth,Tsmooth)\n",
    "        plt.scatter(tregion[maxminarg],maxmin)\n",
    "    plt.show()\n",
    "    \n",
    "    #_,idx = np.unique(Tarr,return_index=True)\n",
    "    #Tarr = Tarr[np.sort(idx)]\n",
    "    deltaTarr = np.array([Tarr[0],\n",
    "                         Tarr[1] - Tarr[2],\n",
    "                         Tarr[3] - Tarr[4],\n",
    "                         Tarr[5] - Tarr[6],\n",
    "                         Tarr[7] - Tarr[8]])\n",
    "    return deltaTarr\n",
    "    "
   ]
  },
  {
   "cell_type": "code",
   "execution_count": 32,
   "metadata": {
    "collapsed": true
   },
   "outputs": [],
   "source": [
    "fname = r'C:\\Users\\William\\Desktop\\Data\\PMN-PT 011 Direct\\070616 PMN-PT 011 500 V\\PMN-PT 011 500 V 385K H2C box 2.csv'"
   ]
  },
  {
   "cell_type": "code",
   "execution_count": 33,
   "metadata": {
    "collapsed": false
   },
   "outputs": [
    {
     "name": "stderr",
     "output_type": "stream",
     "text": [
      "C:\\Users\\William\\Miniconda3\\lib\\site-packages\\ipykernel\\__main__.py:12: DeprecationWarning: using a non-integer number instead of an integer will result in an error in the future\n",
      "C:\\Users\\William\\Miniconda3\\lib\\site-packages\\matplotlib\\collections.py:590: FutureWarning: elementwise comparison failed; returning scalar instead, but in the future will perform elementwise comparison\n",
      "  if self._edgecolors == str('face'):\n",
      "C:\\Users\\William\\Miniconda3\\lib\\site-packages\\ipykernel\\__main__.py:12: DeprecationWarning: using a non-integer number instead of an integer will result in an error in the future\n",
      "C:\\Users\\William\\Miniconda3\\lib\\site-packages\\matplotlib\\collections.py:590: FutureWarning: elementwise comparison failed; returning scalar instead, but in the future will perform elementwise comparison\n",
      "  if self._edgecolors == str('face'):\n",
      "C:\\Users\\William\\Miniconda3\\lib\\site-packages\\ipykernel\\__main__.py:71: DeprecationWarning: using a non-integer number instead of an integer will result in an error in the future\n",
      "C:\\Users\\William\\Miniconda3\\lib\\site-packages\\ipykernel\\__main__.py:72: DeprecationWarning: using a non-integer number instead of an integer will result in an error in the future\n"
     ]
    },
    {
     "data": {
      "text/plain": [
       "array([ 89.53118916,   0.13959588,   0.13886462,   0.1359874 ,   0.23621306])"
      ]
     },
     "execution_count": 33,
     "metadata": {},
     "output_type": "execute_result"
    },
    {
     "name": "stderr",
     "output_type": "stream",
     "text": [
      "C:\\Users\\William\\Miniconda3\\lib\\site-packages\\ipykernel\\__main__.py:71: DeprecationWarning: using a non-integer number instead of an integer will result in an error in the future\n",
      "C:\\Users\\William\\Miniconda3\\lib\\site-packages\\ipykernel\\__main__.py:72: DeprecationWarning: using a non-integer number instead of an integer will result in an error in the future\n"
     ]
    },
    {
     "data": {
      "text/plain": [
       "array([ 89.53118916,   0.13959588,   0.13886462,   0.1359874 ,   0.23621306])"
      ]
     },
     "execution_count": 33,
     "metadata": {},
     "output_type": "execute_result"
    }
   ],
   "source": [
    "extractTnew(fname)"
   ]
  },
  {
   "cell_type": "code",
   "execution_count": null,
   "metadata": {
    "collapsed": true
   },
   "outputs": [],
   "source": []
  }
 ],
 "metadata": {
  "kernelspec": {
   "display_name": "Python 3",
   "language": "python",
   "name": "python3"
  },
  "language_info": {
   "codemirror_mode": {
    "name": "ipython",
    "version": 3
   },
   "file_extension": ".py",
   "mimetype": "text/x-python",
   "name": "python",
   "nbconvert_exporter": "python",
   "pygments_lexer": "ipython3",
   "version": "3.4.4"
  }
 },
 "nbformat": 4,
 "nbformat_minor": 0
}
