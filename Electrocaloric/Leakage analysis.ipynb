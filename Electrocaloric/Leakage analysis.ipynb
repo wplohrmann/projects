{
 "cells": [
  {
   "cell_type": "code",
   "execution_count": 1,
   "metadata": {
    "collapsed": false
   },
   "outputs": [],
   "source": [
    "import numpy as np\n",
    "import matplotlib.pyplot as plt\n",
    "import pandas as pd\n",
    "from os import listdir\n",
    "import pdb\n",
    "import scipy.signal\n",
    "import scipy.integrate\n",
    "import scipy.interpolate\n",
    "import h5py"
   ]
  },
  {
   "cell_type": "code",
   "execution_count": 2,
   "metadata": {
    "collapsed": false
   },
   "outputs": [],
   "source": [
    "#save_dir = r'/home/william/Dropbox/Materials Internship/Presentations/PMNPT Indirect CSVs/'"
   ]
  },
  {
   "cell_type": "code",
   "execution_count": 3,
   "metadata": {
    "collapsed": true
   },
   "outputs": [],
   "source": [
    "h5_file = r'/home/william/Dropbox/Materials Internship/Data/indirect_data.h5'\n",
    "f = h5py.File(h5_file,'r')\n"
   ]
  },
  {
   "cell_type": "code",
   "execution_count": 4,
   "metadata": {
    "collapsed": false
   },
   "outputs": [],
   "source": [
    "grp = f['Crystals/PZT/PLZTcooling']\n",
    "#grp = f['Crystals/PZT/PLZT_new_doping']\n",
    "\n",
    "#grp = f['Crystals/PZT/No_doping']\n",
    "#grp = f['Crystals/PMNPT/111/heating2']\n",
    "grp_name = '_'.join((grp.name).split('/')[-2:])"
   ]
  },
  {
   "cell_type": "code",
   "execution_count": 5,
   "metadata": {
    "collapsed": true
   },
   "outputs": [],
   "source": [
    "def last_first_diff(arr):\n",
    "    return arr[-1] - arr[0]"
   ]
  },
  {
   "cell_type": "code",
   "execution_count": 6,
   "metadata": {
    "collapsed": true
   },
   "outputs": [],
   "source": [
    "def shift_slice(the_slice,n):\n",
    "    try:\n",
    "        the_slice = the_slice[0]\n",
    "    except:\n",
    "        pass\n",
    "    return slice(the_slice.start + n, the_slice.stop + n)"
   ]
  },
  {
   "cell_type": "code",
   "execution_count": 7,
   "metadata": {
    "collapsed": true
   },
   "outputs": [],
   "source": [
    "def info_loss(arr,n):\n",
    "    for n in np.arange(n):\n",
    "        arr = np.correlate(arr,np.ones(2)/2)\n",
    "    return arr"
   ]
  },
  {
   "cell_type": "code",
   "execution_count": 8,
   "metadata": {
    "collapsed": true
   },
   "outputs": [],
   "source": [
    "def findZeros(V):\n",
    "    shift = np.mean((np.max(V),np.min(V)))\n",
    "    V = V - shift\n",
    "    V = np.abs(V)\n",
    "\n",
    "    zero_threshold = np.max(V)/10\n",
    "    indices = np.where(V<zero_threshold)[0]\n",
    "    \n",
    "    zero_indices = np.array([])\n",
    "    minimum_spacing = (np.max(indices) - np.min(indices)) / 10\n",
    "    for a in indices:        \n",
    "        cluster = indices[np.abs(indices-a)<minimum_spacing]\n",
    "        new_ind = cluster[np.argmin(V[cluster])]\n",
    "        zero_indices = np.append(zero_indices,new_ind)\n",
    "        \n",
    "    zero_indices = np.unique(zero_indices)\n",
    "    \n",
    "\n",
    "    \n",
    "    try:\n",
    "        assert zero_indices.size == 7\n",
    "    except:\n",
    "        if zero_indices.size == 6:\n",
    "            zero_indices = np.append(zero_indices,V.size-1)\n",
    "        else:\n",
    "            raise ZeroDivisionError\n",
    "    \n",
    "    return zero_indices.astype('int32')\n",
    "    \n",
    "\n",
    "    "
   ]
  },
  {
   "cell_type": "code",
   "execution_count": 9,
   "metadata": {
    "collapsed": false
   },
   "outputs": [],
   "source": [
    "def voltage_slice(V,start,stop):\n",
    "    \n",
    "    start_index = voltage_index(V,start)\n",
    "    stop_index = voltage_index(V,stop)\n",
    "    \n",
    "    try:\n",
    "        assert stop_index>start_index+5\n",
    "    except:\n",
    "        pdb.set_trace()\n",
    "    \n",
    "    return np.index_exp[start_index:(stop_index+1)]"
   ]
  },
  {
   "cell_type": "code",
   "execution_count": 10,
   "metadata": {
    "collapsed": false
   },
   "outputs": [],
   "source": [
    "def voltage_index(V,ind):\n",
    "    zero_indices = findZeros(V)\n",
    "    V = np.abs(V)\n",
    "    \n",
    "    \n",
    "    if ind % 2 == 0:\n",
    "        index = zero_indices[ind//2]\n",
    "\n",
    "    if ind % 2 == 1:\n",
    "        index1 = zero_indices[(ind-1)//2]\n",
    "        index2 = zero_indices[(ind+1)//2]\n",
    "        index = index1 + np.argmax(V[index1:index2])\n",
    "\n",
    "    return index"
   ]
  },
  {
   "cell_type": "code",
   "execution_count": 11,
   "metadata": {
    "collapsed": false
   },
   "outputs": [],
   "source": [
    "def leakage_correction(P,V,t,diagnose=True,no_correction=False,major_slice=False):\n",
    "    #P,V,t are arrays in the same order\n",
    "    #Units as given. No corrections\n",
    "\n",
    "    \n",
    "    #Finding R as a function of t and V\n",
    "    minor_branch_plus = voltage_slice(V,5,7)\n",
    "    R_plus = find_R2(P[minor_branch_plus],V[minor_branch_plus],t[minor_branch_plus])\n",
    "    \n",
    "   \n",
    "    minor_branch_minus = voltage_slice(V,9,12)\n",
    "    R_minus = find_R2(P[minor_branch_minus],V[minor_branch_minus],t[minor_branch_minus])    \n",
    "    \n",
    "    R = (R_plus+R_minus)/2\n",
    "    R = 0.8*R\n",
    "    \n",
    "    \n",
    "    #This method works fine for the ferroelectric phase, not so much in the paraelectric phase.\n",
    "    #This method might work better:\n",
    "    minor_branch_plus = voltage_slice(V,5,8)\n",
    "    R_plus_array = find_R2(P[minor_branch_plus],V[minor_branch_plus],t[minor_branch_plus])\n",
    "    R_plus = np.median(R_plus_array)\n",
    "    \n",
    "    minor_branch_minus = voltage_slice(V,9,12)\n",
    "    R_minus_array = find_R2(P[minor_branch_minus],V[minor_branch_minus],t[minor_branch_minus])\n",
    "    R_minus = np.median(R_minus_array)\n",
    "    \n",
    "    R = (R_plus+R_minus)/2\n",
    "    \n",
    "    #This method ^ doesn't work very well for the paraelectric phase either\n",
    "    #Now let's try to set the curvature equal to zero by assuming that the leakage \n",
    "    #is the only contribution to curvature (this is the case at least in the paraelectric phase)\n",
    "    \n",
    "    #upper\n",
    "    upper_slice = voltage_slice(V,5,6) #Normally 1,2\n",
    "    Pu = np.copy(P[upper_slice])\n",
    "    Vu = np.copy(V[upper_slice])\n",
    "    tu = np.copy(t[upper_slice])\n",
    "    \n",
    "    VInt = scipy.integrate.cumtrapz(Vu,tu)\n",
    "    VInt = np.hstack(([0],VInt))\n",
    "    \n",
    "    \n",
    "    curvInt = getCurve(Vu,VInt)\n",
    "    curvP = getCurve(Vu,Pu)\n",
    "\n",
    "    correction = 1.2\n",
    "    R = correction * curvInt / curvP\n",
    "    \n",
    "    \n",
    "\n",
    "    \n",
    "    #Alternative leakage correction based on the legs touching\n",
    "    n = voltage_index(V,1)\n",
    "    n_upper = n + 5\n",
    "    n_lower = n - 5\n",
    "    V_integral = np.trapz(V[n_lower:n_upper],t[n_lower:n_upper])\n",
    "    \n",
    "    DP = P[n_upper] - P[n_lower]\n",
    "    \n",
    "    R = 1.5 * V_integral / DP    \n",
    "    \n",
    "    \n",
    "    P_leakage = scipy.integrate.cumtrapz(V/R,t)\n",
    "    P_leakage = np.append(P_leakage,P_leakage[-1])\n",
    "    P_corrected = P - P_leakage\n",
    "    \n",
    "\n",
    "    \n",
    "    \n",
    "    #major_loop\n",
    "    recentering_slice = voltage_slice(V,1,3)\n",
    "    \n",
    "    \n",
    "    #new_major = np.vstack((,))\n",
    "    new_major_slice = voltage_slice(V,2,6)\n",
    "    #P_return = P_corrected[zero_indices[1]:zero_indices[3]]\n",
    "    #V_return = V[zero_indices[1]:zero_indices[3]]\n",
    "    \n",
    "    #All of the loop\n",
    "    all_slice = np.index_exp[:]\n",
    "    \n",
    "    if no_correction:\n",
    "        #print('No leakage correction')\n",
    "        P_return = P\n",
    "        \n",
    "    else:\n",
    "        P_return = P_corrected\n",
    "    \n",
    "    #Recentering\n",
    "    major_loop = P_corrected[recentering_slice]\n",
    "    \n",
    "    shift = np.mean((major_loop[0],major_loop[-1]))\n",
    "    if np.isnan(shift):\n",
    "        pdb.set_trace()\n",
    "    P_return = P_return - shift\n",
    "\n",
    "    return_slice = upper_slice\n",
    "    \n",
    "    \n",
    "    if major_slice:\n",
    "        return_slice = new_major_slice\n",
    "    \n",
    "    P_return = P_return[return_slice]\n",
    "    V_return = V[return_slice]\n",
    "    \n",
    "    \n",
    "    return (P_return,V_return)\n"
   ]
  },
  {
   "cell_type": "code",
   "execution_count": 12,
   "metadata": {
    "collapsed": true
   },
   "outputs": [],
   "source": [
    "def getCurve(x,y):\n",
    "    p = np.polyfit(x,y,2)\n",
    "    curv = 2*p[0]\n",
    "    return np.mean(curv)"
   ]
  },
  {
   "cell_type": "code",
   "execution_count": 13,
   "metadata": {
    "collapsed": true
   },
   "outputs": [],
   "source": [
    "def find_R(P,V,t):\n",
    "    threshold = np.mean(np.abs(np.diff(V)))*1.5\n",
    "    DP_array = np.array([])\n",
    "    VInt_array = np.array([])\n",
    "    \n",
    "    for n in np.arange(P.size):\n",
    "        if n * 3 >= P.size:\n",
    "            break\n",
    "         \n",
    "        candidates = np.where(np.abs(V-V[n])<threshold)[0]\n",
    "        closest_ind = np.max(candidates)\n",
    "        \n",
    "        DP_array = np.append(DP_array,P[closest_ind]-P[n])\n",
    "        VInt = np.trapz(V[n:closest_ind+1],t[n:closest_ind+1])\n",
    "        VInt_array = np.append(VInt_array,VInt)\n",
    "        \n",
    "        \n",
    "        \n",
    "    R = VInt_array / DP_array\n",
    "    if np.any(np.isnan(R)):\n",
    "        print(np.sum(np.isnan(R)))\n",
    "        R = R[np.logical_not(np.isnan(R))]\n",
    "    \n",
    "    return R"
   ]
  },
  {
   "cell_type": "code",
   "execution_count": 14,
   "metadata": {
    "collapsed": false
   },
   "outputs": [],
   "source": [
    "def second_div(x,y):\n",
    "    return np.diff(np.diff(y) / np.diff(x)) / np.diff(info_loss(x,1))"
   ]
  },
  {
   "cell_type": "code",
   "execution_count": 15,
   "metadata": {
    "collapsed": true
   },
   "outputs": [],
   "source": [
    "def find_R2(P,V,t):\n",
    "    \n",
    "    DP = P[-1] - P[0]\n",
    "    VInt = np.trapz(V,t)\n",
    "    R = VInt/DP\n",
    "\n",
    "    return R"
   ]
  },
  {
   "cell_type": "code",
   "execution_count": 16,
   "metadata": {
    "collapsed": false
   },
   "outputs": [],
   "source": [
    "def extractPVt(dataset):\n",
    "    #df_temp = pd.read_table(filename,engine='python')\n",
    "    data = np.array(dataset)\n",
    "    \n",
    "    \n",
    "    P = np.copy(data[:,1])\n",
    "    V = np.copy(data[:,0])\n",
    "    t = np.copy(data[:,2])\n",
    "    \n",
    "    sample_area = dataset.attrs['Area / cm^2']\n",
    "    \n",
    "    P = P / sample_area #micro C per cm^2\n",
    "    P = P * 1e-2 #convert to SI\n",
    "    \n",
    "    thickness = 300e-6 #in m\n",
    "    V = V / thickness #To field instead of voltage\n",
    "    \n",
    "    return (P,V,t)\n",
    "\n",
    "def extractT(obj):\n",
    "    return obj.attrs['Temperature']\n",
    "\n",
    "#File diagnosis\n",
    "def diagnose(P,V,t):\n",
    "    plt.subplot(211)\n",
    "    plt.plot(t,V)\n",
    "    plt.ylim([np.min(V), np.max(V)])\n",
    "    plt.xlim([np.min(t),np.max(t)])\n",
    "\n",
    "    plt.subplot(212)\n",
    "    plt.plot(t,P)\n",
    "    plt.ylim([np.min(P),np.max(P)])\n",
    "    plt.xlim([np.min(t),np.max(t)])\n",
    "\n",
    "    plt.show()"
   ]
  },
  {
   "cell_type": "code",
   "execution_count": 17,
   "metadata": {
    "collapsed": false
   },
   "outputs": [],
   "source": [
    "#Create T_array (only good files)\n",
    "T_array = np.array([])\n",
    "for name,obj in grp.items():\n",
    "    P,V,t = extractPVt(obj)\n",
    "    try:\n",
    "        a = voltage_slice(V,1,5)\n",
    "    except:\n",
    "        continue\n",
    "    T = extractT(obj)\n",
    "    T_array = np.append(T_array,T)\n",
    "\n",
    "T_array = np.sort(T_array)\n",
    "\n",
    "badTs = []\n",
    "T_array = np.array([T for T in T_array if T not in badTs])\n",
    "#T_array = T_array[(T_array<450) | (T_array>480)]"
   ]
  },
  {
   "cell_type": "code",
   "execution_count": 18,
   "metadata": {
    "collapsed": false
   },
   "outputs": [
    {
     "data": {
      "text/plain": [
       "array([ 100.,  200.,  250.,  300.,  360.,  380.,  400.,  410.,  420.,\n",
       "        430.,  440.,  445.,  450.,  455.,  460.,  465.,  470.,  475.,\n",
       "        480.,  485.,  490.,  495.,  500.,  505.,  510.,  515.,  520.,\n",
       "        530.,  535.,  540.,  545.,  550.,  555.,  560.,  565.,  570.])"
      ]
     },
     "execution_count": 18,
     "metadata": {},
     "output_type": "execute_result"
    }
   ],
   "source": [
    "T_array"
   ]
  },
  {
   "cell_type": "code",
   "execution_count": 20,
   "metadata": {
    "collapsed": true
   },
   "outputs": [],
   "source": [
    "for name,obj in grp.items():\n",
    "    T = extractT(obj)\n",
    "    if T not in T_array:\n",
    "        continue\n",
    "    P,V,t = extractPVt(obj)\n",
    "    plt.plot(t,V)\n",
    "    zeros = findZeros(V)\n",
    "    plt.plot(t[zeros],V[zeros],'o')\n",
    "plt.show()"
   ]
  },
  {
   "cell_type": "code",
   "execution_count": 36,
   "metadata": {
    "collapsed": false
   },
   "outputs": [],
   "source": [
    "for name,obj in grp.items():\n",
    "    T = extractT(obj)\n",
    "    if T not in T_array:\n",
    "        continue\n",
    "    P,V,t = extractPVt(obj)\n",
    "    P_new,V_new = leakage_correction(P,V,t,no_correction=True)\n",
    "    p = np.polyfit(V_new,P_new,2)\n",
    "    plt.plot(V_new,P_new,'b')\n",
    "    plt.plot(V_new,np.polyval(p,V_new))\n",
    "    plt.title(T)\n",
    "    plt.show()"
   ]
  },
  {
   "cell_type": "code",
   "execution_count": 49,
   "metadata": {
    "collapsed": true
   },
   "outputs": [],
   "source": [
    "for name,obj in grp.items():\n",
    "    T = extractT(obj)\n",
    "    if T not in T_array:\n",
    "        continue\n",
    "    P,V,t = extractPVt(obj)\n",
    "    plt.plot(V,P)\n",
    "    plt.show()\n"
   ]
  },
  {
   "cell_type": "code",
   "execution_count": 72,
   "metadata": {
    "collapsed": false
   },
   "outputs": [],
   "source": [
    "#Make sure you use upper_slice\n",
    "for name,obj in grp.items():\n",
    "    T = extractT(obj)\n",
    "    if T not in T_array:\n",
    "        continue\n",
    "    T_color = (T-np.min(T_array))/(np.max(T_array)-np.min(T_array))\n",
    "    P,V,t = extractPVt(obj)\n",
    "    P_new,V_new = leakage_correction(P,V,t,no_correction=False)\n",
    "    plt.plot(V_new,P_new,color=(T_color*1,T_color*0,T_color*0))\n",
    "\n",
    "#plt.ylim([0,100])\n",
    "#plt.xlim([0,500])\n",
    "plt.title(grp.name)\n",
    "plt.xlabel('E / V m$^{-1}$')\n",
    "plt.ylabel('P / C m$^{-2}$')\n",
    "#plt.savefig(save_dir+directory_name+'PVupper.png',dpi=300)\n",
    "plt.show()"
   ]
  },
  {
   "cell_type": "code",
   "execution_count": 73,
   "metadata": {
    "collapsed": false
   },
   "outputs": [],
   "source": [
    "#Plot 5 loops across the temperature range\n",
    "#Make sure you use upper_slice\n",
    "loops = T_array[::T_array.size//5]\n",
    "ind = 10\n",
    "loops = T_array\n",
    "for name,obj in grp.items():\n",
    "\n",
    "    T = extractT(obj)\n",
    "    if T not in loops:\n",
    "        continue\n",
    "    T_color = (T-np.min(T_array))/(np.max(T_array)-np.min(T_array))\n",
    "    P,V,t = extractPVt(obj)\n",
    "    P_new,V_new = leakage_correction(P,V,t,no_correction=False,major_slice=True)\n",
    "    P_nc,V_nc = leakage_correction(P,V,t,no_correction=True,major_slice=True)\n",
    "    P_upper,V_upper = leakage_correction(P,V,t)\n",
    "    \n",
    "    #df_temp = pd.DataFrame(data=np.transpose(np.vstack((P_new,V_new))), columns=['P / SI', 'V / SI'])\n",
    "    #df_temp.to_csv(save_dir+grp_name+'loop'+str(T)+'.csv',index_label=False,index=False)\n",
    "    plt.plot(V_new,P_new,color=(T_color,T_color*0.3,T_color*0.8))\n",
    "    plt.plot(V_nc,P_nc)\n",
    "    #plt.plot(V_upper,P_upper,'r')\n",
    "    plt.show()\n",
    "\n",
    "\n",
    "#plt.ylim([0,100])\n",
    "#plt.xlim([0,500])\n",
    "plt.title(grp.name)\n",
    "plt.xlabel('E / V m$^{-1}$')\n",
    "plt.ylabel('P / C m$^{-2}$')\n",
    "#plt.savefig(save_dir+directory_name+'PVupper.png',dpi=300)\n",
    "plt.show()"
   ]
  },
  {
   "cell_type": "code",
   "execution_count": 149,
   "metadata": {
    "collapsed": false
   },
   "outputs": [],
   "source": [
    "loops = T_array[::T_array.size//6]\n",
    "for name,obj in grp.items():\n",
    "    T = extractT(obj)\n",
    "    if T not in loops:\n",
    "        continue\n",
    "    P,V,t = extractPVt(obj)\n",
    "    P_new,V_new = leakage_correction(P,V,t,major_slice=True)\n",
    "    df = pd.DataFrame(data={'P / C m^-2': P_new, 'E / V m^-1':V_new})\n",
    "    df.to_csv(save_dir+grp_name+'loop'+str(T)+'.csv',index=False,index_label=False)\n",
    "        "
   ]
  },
  {
   "cell_type": "code",
   "execution_count": 65,
   "metadata": {
    "collapsed": false
   },
   "outputs": [],
   "source": [
    "#Find absolute least extrema\n",
    "\n",
    "V_max_array = np.array([]) #The maximum values of V in single files \n",
    "V_min_array = np.array([]) #The minimum ---------------------------\n",
    "for name,obj in grp.items():\n",
    "    if extractT(obj) not in T_array:\n",
    "        continue\n",
    "    P,V,t = extractPVt(obj)\n",
    "    P_new,V_new = leakage_correction(P,V,t)\n",
    "    \n",
    "    V_max_array = np.append(V_max_array,np.max(V_new))\n",
    "    V_min_array = np.append(V_min_array,np.min(V_new))\n",
    "#assert T_array.size==V_max_array.size"
   ]
  },
  {
   "cell_type": "code",
   "execution_count": 66,
   "metadata": {
    "collapsed": false
   },
   "outputs": [],
   "source": [
    "V_lower = np.max(V_min_array)\n",
    "V_upper = np.min(V_max_array)\n",
    "\n",
    "\n",
    "no_of_points = 200\n",
    "no_of_T_points = 500\n",
    "V_range = np.linspace(V_lower,V_upper,no_of_points)\n",
    "T_vec,V_vec = np.meshgrid(T_array,V_range)\n",
    "\n",
    "P_mesh = np.empty(T_vec.shape)\n",
    "\n",
    "for name,obj in grp.items():\n",
    "    if extractT(obj) not in T_array:\n",
    "        continue\n",
    "    P,V,t = extractPVt(obj)\n",
    "    P_new,V_new = leakage_correction(P,V,t)    \n",
    "    \n",
    "    \n",
    "    T = extractT(obj)\n",
    "    n = np.where(T_array==T)[0][0]\n",
    "    assert np.max(V_range) <= np.max(V_new)\n",
    "    assert np.min(V_range) >= np.min(V_new)\n",
    "\n",
    "    sorted_indices = np.argsort(V_new)\n",
    "    V_new = V_new[sorted_indices]\n",
    "    P_new = P_new[sorted_indices]\n",
    "    P_mesh[:,n] = np.interp(V_range,V_new,P_new)"
   ]
  },
  {
   "cell_type": "code",
   "execution_count": 67,
   "metadata": {
    "collapsed": false
   },
   "outputs": [],
   "source": [
    "P_mesh_smooth = np.copy(P_mesh)\n",
    "T_vec_smooth = np.copy(T_vec)\n",
    "V_vec_smooth = np.copy(V_vec)"
   ]
  },
  {
   "cell_type": "code",
   "execution_count": 38,
   "metadata": {
    "collapsed": false
   },
   "outputs": [],
   "source": [
    "#Pad P_mesh, T_vec and V_vec before smoothing\n",
    "pw = ((0,0),(5,5)) #Pad width\n",
    "P_mesh = np.pad(P_mesh,pw,'edge')\n",
    "T_vec  = np.pad(T_vec,pw,'linear_ramp', end_values=[np.min(T_vec)*0.9,np.max(T_vec)*1.1])\n",
    "V_vec = np.pad(V_vec,pw,'edge')"
   ]
  },
  {
   "cell_type": "code",
   "execution_count": 46,
   "metadata": {
    "collapsed": false
   },
   "outputs": [],
   "source": [
    "no_of_T_points = 200\n",
    "smoothing = 5e-2\n",
    "T_new = np.linspace(T_vec[0,0],T_vec[0,-1],no_of_T_points)\n",
    "P_mesh_smooth = np.empty((P_mesh.shape[0],no_of_T_points))\n",
    "T_vec_smooth,V_vec_smooth = np.meshgrid(T_new,V_range)\n",
    "\n",
    "\n",
    "weights = np.arange(T_vec[0].size)\n",
    "weights = (weights-T_vec[0].size//2)**2/100 + 10\n",
    "#plt.plot(weights)\n",
    "#plt.show()\n",
    "\n",
    "for k in np.arange(P_mesh.shape[0]):\n",
    "    P = P_mesh[k]\n",
    "    T = T_vec[k]    \n",
    "    tck = scipy.interpolate.splrep(T,P,s=smoothing)\n",
    "    P_new = scipy.interpolate.splev(T_new,tck)\n",
    "    if np.any(np.isnan(P_new)):\n",
    "        pdb.set_trace()\n",
    "    P_mesh_smooth[k] = P_new\n",
    "\n",
    "\n"
   ]
  },
  {
   "cell_type": "code",
   "execution_count": 68,
   "metadata": {
    "collapsed": false
   },
   "outputs": [],
   "source": [
    "#P-T plots at different fields\n",
    "def plotPT():\n",
    "    no_of_lines_to_show = 10\n",
    "    for n in np.arange(P_mesh.shape[0]):\n",
    "        if n % (P_mesh.shape[0] // no_of_lines_to_show) != 0:\n",
    "            continue\n",
    "        my_color = (np.random.rand(),np.random.rand(),np.random.rand())\n",
    "        plt.plot(T_vec[n],100*P_mesh[n], 'x',color=my_color)\n",
    "        plt.plot(T_vec_smooth[n],100*P_mesh_smooth[n],'-',color=my_color)\n",
    "\n",
    "    plt.title(grp.name)\n",
    "    plt.xlabel('T / K')\n",
    "    plt.ylabel('P / $\\mu$ C cm$^{-2}$')\n",
    "\n",
    "    plt.xlim([T_array[0],T_array[-1]])\n",
    "    #plt.ylim([0,250])\n",
    "    #plt.savefig(save_dir+directory_name+'PT.png')\n",
    "plotPT()\n",
    "plt.show()\n",
    "\n",
    "#plt.ylim([0.6,1.2])"
   ]
  },
  {
   "cell_type": "code",
   "execution_count": 48,
   "metadata": {
    "collapsed": false
   },
   "outputs": [],
   "source": [
    "#Taking the derivative with respect to T (Confirmed)\n",
    "dPdT = np.diff(P_mesh_smooth,axis=1) / np.diff(T_vec_smooth,axis=1)\n",
    "T_vec_d = scipy.signal.convolve2d(T_vec_smooth,[np.ones(2)/2],mode='valid')\n",
    "V_vec_d =  scipy.signal.convolve2d(V_vec_smooth,[np.ones(2)/2],mode='valid')"
   ]
  },
  {
   "cell_type": "code",
   "execution_count": 49,
   "metadata": {
    "collapsed": false
   },
   "outputs": [],
   "source": [
    "#Integrating dPdT wrt. E' (dummy) from  E_lower to E (NOT Confirmed)\n",
    "assert np.all(np.diff(V_vec_d[:,0]) > 0) #Make sure E is always increasing\n",
    "P_integrated = scipy.integrate.cumtrapz(dPdT,V_vec_d,axis=0)\n",
    "V_vec_int = scipy.signal.convolve2d(V_vec_d,np.ones((2,1))/2,mode='valid')\n",
    "T_vec_int = scipy.signal.convolve2d(T_vec_d,np.ones((2,1))/2,mode='valid')\n",
    "rho = 8100\n",
    "DS = P_integrated / rho"
   ]
  },
  {
   "cell_type": "code",
   "execution_count": 50,
   "metadata": {
    "collapsed": false
   },
   "outputs": [],
   "source": [
    "no_of_lines_to_show = 10\n",
    "plt.subplot(211)\n",
    "plotPT()\n",
    "plt.xlim([T_array[0],T_array[-1]])\n",
    "plt.subplot(212)\n",
    "for n in np.arange(P_integrated.shape[0]):\n",
    "    if n % (P_integrated.shape[0] // no_of_lines_to_show) != 0:\n",
    "        continue\n",
    "    V_color = V_vec_int[n,0]\n",
    "    plt.plot(T_vec_int[n],DS[n],'-')\n",
    "\n",
    "plt.xlabel('T/K')\n",
    "plt.ylabel('$\\Delta S$ / J K$^{-1}$ kg$^{-1}$')\n",
    "#plt.ylim([-8,10])\n",
    "plt.xlim([T_array[0],T_array[-1]])\n",
    "\n",
    "plt.show()"
   ]
  },
  {
   "cell_type": "code",
   "execution_count": 55,
   "metadata": {
    "collapsed": false
   },
   "outputs": [
    {
     "data": {
      "text/plain": [
       "(200, 32)"
      ]
     },
     "execution_count": 55,
     "metadata": {},
     "output_type": "execute_result"
    }
   ],
   "source": [
    "P_mesh.shape"
   ]
  },
  {
   "cell_type": "code",
   "execution_count": 56,
   "metadata": {
    "collapsed": false
   },
   "outputs": [
    {
     "data": {
      "text/plain": [
       "32"
      ]
     },
     "execution_count": 56,
     "metadata": {},
     "output_type": "execute_result"
    }
   ],
   "source": [
    "T_array.size"
   ]
  },
  {
   "cell_type": "code",
   "execution_count": 54,
   "metadata": {
    "collapsed": true
   },
   "outputs": [],
   "source": [
    "P_mesh = P_mesh[:,5:-5]\n",
    "T_vec = T_vec[:,5:-5]\n",
    "V_vec = V_vec[:,5:-5]"
   ]
  },
  {
   "cell_type": "code",
   "execution_count": 58,
   "metadata": {
    "collapsed": true
   },
   "outputs": [],
   "source": [
    "save_dir = r'/home/william/Dropbox/Materials Internship/Presentations/PZT indirect/PLZT new doping/'"
   ]
  },
  {
   "cell_type": "code",
   "execution_count": 57,
   "metadata": {
    "collapsed": true
   },
   "outputs": [],
   "source": [
    "#Saving P_mesh etc\n",
    "df_P = pd.DataFrame(data=P_mesh)\n",
    "df_P.to_csv(save_dir+grp_name+'P.csv')\n",
    "\n",
    "df_T = pd.DataFrame(data=T_vec)\n",
    "df_T.to_csv(save_dir+grp_name+'T.csv')\n",
    "\n",
    "df_V = pd.DataFrame(data=V_vec)\n",
    "df_V.to_csv(save_dir+grp_name+'E.csv')\n",
    "\n",
    "\n",
    "\n",
    "df_P_smooth = pd.DataFrame(data=P_mesh_smooth)\n",
    "df_P_smooth.to_csv(save_dir+grp_name+'P_smooth.csv')\n",
    "\n",
    "df_T_smooth = pd.DataFrame(data=T_vec_smooth)\n",
    "df_T_smooth.to_csv(save_dir+grp_name+'T_smooth.csv')\n",
    "\n",
    "df_V_smooth = pd.DataFrame(data=V_vec_smooth)\n",
    "df_V_smooth.to_csv(save_dir+grp_name+'E_smooth.csv')\n",
    "\n",
    "\n",
    "\n",
    "df_P_integrated = pd.DataFrame(data=P_integrated)\n",
    "df_P_integrated.to_csv(save_dir+grp_name+'DS.csv')\n",
    "\n",
    "df_T_int = pd.DataFrame(data=T_vec_int)\n",
    "df_T_int.to_csv(save_dir+grp_name+'T_int.csv')\n",
    "\n",
    "df_V_int = pd.DataFrame(data=V_vec_int)\n",
    "df_V_int.to_csv(save_dir+grp_name+'E_int.csv')\n",
    "\n"
   ]
  },
  {
   "cell_type": "code",
   "execution_count": 54,
   "metadata": {
    "collapsed": false
   },
   "outputs": [
    {
     "data": {
      "text/plain": [
       "(200, 37)"
      ]
     },
     "execution_count": 54,
     "metadata": {},
     "output_type": "execute_result"
    }
   ],
   "source": [
    "P_mesh.shape"
   ]
  },
  {
   "cell_type": "code",
   "execution_count": null,
   "metadata": {
    "collapsed": true
   },
   "outputs": [],
   "source": []
  },
  {
   "cell_type": "code",
   "execution_count": 54,
   "metadata": {
    "collapsed": false
   },
   "outputs": [],
   "source": [
    "no_of_T_points = 200\n",
    "\n",
    "T_new = np.linspace(T_vec[0,0],T_vec[0,-1],no_of_T_points)\n",
    "P_mesh_smooth = np.empty((P_mesh.shape[0],no_of_T_points))\n",
    "\n",
    "for k in np.arange(P_mesh.shape[0]):\n",
    "    P = P_mesh[k]\n",
    "    T = T_vec[k]\n",
    "    tck = scipy.interpolate.splrep(T,P,s=0.0029)\n",
    "    P_new = scipy.interpolate.splev(T_new,tck)\n",
    "    if np.any(np.isnan(P_new)):\n",
    "        pdb.set_trace()\n",
    "    P_mesh_smooth[k] = P_new\n",
    "\n"
   ]
  },
  {
   "cell_type": "code",
   "execution_count": 69,
   "metadata": {
    "collapsed": false
   },
   "outputs": [],
   "source": [
    "#Ensure that there are PT lines crossing\n",
    "step1 = np.diff(P_mesh_smooth,axis=0)\n",
    "step2 = np.all(step1>0,axis=1)\n",
    "good_indices = np.where(step2)[0]+1\n",
    "\n",
    "\n",
    "P_mesh_smooth = P_mesh_smooth[good_indices]\n",
    "T_vec_smooth = T_vec_smooth[good_indices]\n",
    "V_vec_smooth = V_vec_smooth[good_indices]"
   ]
  },
  {
   "cell_type": "code",
   "execution_count": 70,
   "metadata": {
    "collapsed": false
   },
   "outputs": [],
   "source": [
    "for n in np.arange(P_mesh_smooth.shape[0]):\n",
    "    plt.plot(T_new,P_mesh_smooth[n])\n",
    "plt.show()"
   ]
  },
  {
   "cell_type": "code",
   "execution_count": 50,
   "metadata": {
    "collapsed": false
   },
   "outputs": [
    {
     "data": {
      "text/plain": [
       "<HDF5 file \"indirect_data.h5\" (mode r)>"
      ]
     },
     "execution_count": 50,
     "metadata": {},
     "output_type": "execute_result"
    }
   ],
   "source": [
    "f"
   ]
  },
  {
   "cell_type": "code",
   "execution_count": 51,
   "metadata": {
    "collapsed": true
   },
   "outputs": [],
   "source": [
    "f.close()"
   ]
  },
  {
   "cell_type": "code",
   "execution_count": 37,
   "metadata": {
    "collapsed": true
   },
   "outputs": [],
   "source": [
    "x = np.linspace(1,10,100)"
   ]
  },
  {
   "cell_type": "code",
   "execution_count": 39,
   "metadata": {
    "collapsed": false
   },
   "outputs": [],
   "source": [
    "y = 5*x**2 - 3*x + 10"
   ]
  },
  {
   "cell_type": "code",
   "execution_count": 41,
   "metadata": {
    "collapsed": false
   },
   "outputs": [
    {
     "data": {
      "text/plain": [
       "array([ 10.,  10.,  10.,  10.,  10.,  10.,  10.,  10.,  10.,  10.,  10.,\n",
       "        10.,  10.,  10.,  10.,  10.,  10.,  10.,  10.,  10.,  10.,  10.,\n",
       "        10.,  10.,  10.,  10.,  10.,  10.,  10.,  10.,  10.,  10.,  10.,\n",
       "        10.,  10.,  10.,  10.,  10.,  10.,  10.,  10.,  10.,  10.,  10.,\n",
       "        10.,  10.,  10.,  10.,  10.,  10.,  10.,  10.,  10.,  10.,  10.,\n",
       "        10.,  10.,  10.,  10.,  10.,  10.,  10.,  10.,  10.,  10.,  10.,\n",
       "        10.,  10.,  10.,  10.,  10.,  10.,  10.,  10.,  10.,  10.,  10.,\n",
       "        10.,  10.,  10.,  10.,  10.,  10.,  10.,  10.,  10.,  10.,  10.,\n",
       "        10.,  10.,  10.,  10.,  10.,  10.,  10.,  10.,  10.,  10.])"
      ]
     },
     "execution_count": 41,
     "metadata": {},
     "output_type": "execute_result"
    }
   ],
   "source": []
  },
  {
   "cell_type": "code",
   "execution_count": 42,
   "metadata": {
    "collapsed": true
   },
   "outputs": [],
   "source": []
  },
  {
   "cell_type": "code",
   "execution_count": null,
   "metadata": {
    "collapsed": true
   },
   "outputs": [],
   "source": []
  }
 ],
 "metadata": {
  "kernelspec": {
   "display_name": "Python 3",
   "language": "python",
   "name": "python3"
  },
  "language_info": {
   "codemirror_mode": {
    "name": "ipython",
    "version": 3
   },
   "file_extension": ".py",
   "mimetype": "text/x-python",
   "name": "python",
   "nbconvert_exporter": "python",
   "pygments_lexer": "ipython3",
   "version": "3.5.2"
  }
 },
 "nbformat": 4,
 "nbformat_minor": 0
}
