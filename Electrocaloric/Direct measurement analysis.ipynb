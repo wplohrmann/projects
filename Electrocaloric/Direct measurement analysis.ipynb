{
 "cells": [
  {
   "cell_type": "code",
   "execution_count": 1,
   "metadata": {
    "collapsed": true
   },
   "outputs": [],
   "source": [
    "import numpy as np\n",
    "import matplotlib.pyplot as plt\n",
    "from os import listdir\n",
    "import os\n",
    "import re\n",
    "import pandas as pd\n",
    "import pdb\n",
    "import scipy.signal"
   ]
  },
  {
   "cell_type": "code",
   "execution_count": 2,
   "metadata": {
    "collapsed": false
   },
   "outputs": [],
   "source": [
    "def extractTnew(fname,diagnose=False,diagnose2=False,return_case = 1):\n",
    "    data = np.loadtxt(fname,delimiter=',',skiprows=1, usecols=(2,3))\n",
    "    t = data[:,0]\n",
    "    T = data[:,1]\n",
    "    \n",
    "    \n",
    "    if '111' in fname:\n",
    "        T = 1.09008 * T + 2.08186\n",
    "    if '011' in fname:\n",
    "         T = 1.03963 * T + 5.11961\n",
    "    \n",
    "    if '001' in fname:\n",
    "        T = 1.05498 * T + 2.8904\n",
    "    \n",
    "    T = T+273.15\n",
    "    \n",
    "    if diagnose:\n",
    "        plt.plot(t,T)\n",
    "        plt.show()\n",
    "    \n",
    "    #Linear correction\n",
    "    avg1 = np.mean(T[:10])\n",
    "    avg2 = np.mean(T[-10:])\n",
    "    p = np.polyfit((t[0], t[-1]),(avg1, avg2),1)\n",
    "    T = T - t*p[0] - p[1]\n",
    "    Tsample = p[1] + p[0]*t[np.round(t.size/2)]\n",
    "    Tsample = np.mean((avg1,avg2))\n",
    "    \n",
    "    \n",
    "    #Smoothing\n",
    "    s = 20\n",
    "    window_length = 9\n",
    "    poly_order = 3\n",
    "    #Tsmooth = scipy.signal.savgol_filter(T,window_length,poly_order,mode='nearest')\n",
    "    #tsmooth = t\n",
    "    Tsmooth = np.convolve(T,np.ones(s)/s, mode='valid')\n",
    "    tsmooth = np.convolve(t,np.ones(s)/s, mode='valid')\n",
    "    \n",
    "    \n",
    "    if diagnose:\n",
    "        plt.plot(t,T,'r')\n",
    "        plt.plot(tsmooth,Tsmooth, 'b')\n",
    "        plt.show()\n",
    "\n",
    "        \n",
    "    t = tsmooth\n",
    "    T = Tsmooth\n",
    "    \n",
    "    #Differential more useful for finding jumps\n",
    "    dTdt = np.diff(T) / np.diff(t)\n",
    "    dTdt = np.convolve(dTdt,np.ones(10),mode='valid')\n",
    "    \n",
    "    \n",
    "    \n",
    "    if diagnose:\n",
    "        plt.scatter(t[:-10],dTdt)\n",
    "        plt.show()\n",
    "    \n",
    "    \n",
    "    #Finding the EC jumps\n",
    "    if '001' in fname:\n",
    "        extrema = np.array([np.argmax(dTdt),np.argmin(dTdt)])\n",
    "        print(fname,' is a 001 file')\n",
    "    else:\n",
    "        threshold = 1\n",
    "        extrema = np.array([np.argmax(dTdt),np.argmin(dTdt)])\n",
    "        dTdt_copy = np.copy(dTdt)\n",
    "        for n,_ in np.ndenumerate(dTdt):\n",
    "            if np.any(np.abs(t[n]-t[extrema])<threshold):\n",
    "                dTdt_copy[n] = 0\n",
    "        extrema = np.hstack((extrema,np.array([np.argmax(dTdt_copy),np.argmin(dTdt_copy)])))\n",
    "\n",
    "    \n",
    "    if diagnose:\n",
    "        plt.plot(t,T,'r')\n",
    "        plt.scatter(t[extrema+1],T[extrema+1],marker='x')\n",
    "        plt.show()\n",
    "        \n",
    "    Tarr = np.array([Tsample])\n",
    "    for ind in np.sort(extrema):\n",
    "        tightness = 0.5 # Search region for a maximum and a minimum\n",
    "        indices = np.where(np.abs(tsmooth-tsmooth[ind])<tightness)\n",
    "        region = Tsmooth[indices]\n",
    "        tregion = tsmooth[indices]\n",
    "\n",
    "        maxmin = np.array([np.max(region), np.min(region)])\n",
    "        Tarr = np.hstack((Tarr,maxmin))\n",
    "        maxminarg = np.array([np.argmax(region), np.argmin(region)])\n",
    "        if diagnose or diagnose2:\n",
    "            plt.plot(tsmooth,Tsmooth)\n",
    "            plt.scatter(tregion[maxminarg],maxmin)\n",
    "            fname = fname.split('\\\\')[-1]\n",
    "            plt.title(str(Tarr[0])+' $\\degree C$')\n",
    "            #plt.title(fname)\n",
    "    if diagnose or diagnose2:\n",
    "        plt.show()\n",
    "\n",
    "    if '001' in fname:\n",
    "        Tarr = np.hstack((Tarr,np.zeros(4)))\n",
    "    deltaTarr = np.array([Tarr[0],\n",
    "                     Tarr[1] - Tarr[2],\n",
    "                     Tarr[3] - Tarr[4],\n",
    "                     Tarr[5] - Tarr[6],\n",
    "                     Tarr[7] - Tarr[8]])\n",
    "\n",
    "\n",
    "    #Check that the results aren't completely ridiculous:\n",
    "    #if np.max(deltaTarr[1:]) > 0.8: #Change this value when dealing with larger or smaller caloric effects\n",
    "    #    return False\n",
    "    #if np.max(deltaTarr[1:]) > 2 * np.min(deltaTarr[1:]):\n",
    "    #    return False\n",
    "    \n",
    "    \n",
    "    \n",
    "    if return_case == 1:\n",
    "        return deltaTarr\n",
    "    if return_case == 2:\n",
    "        return Tarr"
   ]
  },
  {
   "cell_type": "code",
   "execution_count": 10,
   "metadata": {
    "collapsed": true
   },
   "outputs": [],
   "source": [
    "def extract_info(fname): #Returns an array of three numbers: T,V,box\n",
    "    if '\\\\' in fname:\n",
    "        fname = fname.split('\\\\')[-1]\n",
    "    \n",
    "    pattern = r'([0-9]+) ?K' #Matches any number followed by a K\n",
    "    p = re.compile(pattern)\n",
    "    m = p.search(fname)\n",
    "    T = int(m.groups()[0])\n",
    "        \n",
    "    pattern = r'([0-9]+) ?V' #Same but with V\n",
    "    p = re.compile(pattern)\n",
    "    m = p.search(fname)\n",
    "    V = int(m.groups()[0])\n",
    "    \n",
    "    pattern = r'box ?([0-9])' #Matches any digit following 'box'\n",
    "    p = re.compile(pattern,flags=re.IGNORECASE)\n",
    "    m = p.search(fname)\n",
    "    box = int(m.groups()[0])\n",
    "    return np.array([T,V,box])"
   ]
  },
  {
   "cell_type": "code",
   "execution_count": 29,
   "metadata": {
    "collapsed": false
   },
   "outputs": [],
   "source": [
    "directory = r'/home/william/Dropbox/Materials Internship/Data/PMN-PT 111 Direct/800V'\n",
    "def emissivity_correction(directory):\n",
    "    box_info = np.ones((1,3))*np.pi\n",
    "    \n",
    "    for file in listdir(directory):\n",
    "        if '.csv' not in file:\n",
    "            continue\n",
    "        info = extract_info(file)\n",
    "        \n",
    "        fname = directory+'/'+file\n",
    "        data = np.loadtxt(fname,delimiter=',',skiprows=1, usecols=(2,3))\n",
    "        t = data[:,0]\n",
    "        T = data[:,1]\n",
    "        T = T[t<1]\n",
    "        \n",
    "        \n",
    "        \n",
    "        new_info = np.array([info[2],np.mean(T),info[0]]) #box no., mean temperature, heater temperature\n",
    "        box_info = np.vstack((box_info,new_info))\n",
    "    box_info = box_info[1:,:]\n",
    "    \n",
    "    #Sort so temperatures are in order\n",
    "    sorted_indices = np.argsort(box_info[:,2])\n",
    "    box_info = box_info[sorted_indices,:]\n",
    "    \n",
    "    box1 = box_info[box_info[:,0]==1,1]\n",
    "    box3 = box_info[box_info[:,0]==3,1]\n",
    "    \n",
    "    box2 = box_info[box_info[:,0]==2,1]\n",
    "    \n",
    "    p1 = np.polyfit(box1,box3,1)\n",
    "    p2 = np.polyfit(box2,box3,1)\n",
    "    plt.plot(box1,box3,'x')\n",
    "    plt.plot(box1,np.polyval(p1,box1))\n",
    "    plt.ylabel('Sample Temperature (box1) / $\\degree$C',size=15)\n",
    "    plt.xlabel('Black-tape Temperature / $\\degree$C',size=15)\n",
    "    plt.title('Emissivity correction plot')\n",
    "    plt.show()\n",
    "    return box_info\n",
    "    return np.hstack((p1,p2))\n",
    "\n",
    "coefficients = emissivity_correction(directory)"
   ]
  },
  {
   "cell_type": "code",
   "execution_count": 18,
   "metadata": {
    "collapsed": true
   },
   "outputs": [],
   "source": [
    "box_info = coefficients"
   ]
  },
  {
   "cell_type": "code",
   "execution_count": 22,
   "metadata": {
    "collapsed": false
   },
   "outputs": [
    {
     "data": {
      "text/plain": [
       "array([ 140.01153881,  149.96693846,   82.00239214,   88.57741027,\n",
       "         75.43946   ,  182.34010455,  129.67013859,  159.77534915,\n",
       "        143.29107027,  105.58304783,  122.87972923,  136.5588641 ,\n",
       "        109.008475  ,  169.65744531,  156.48966613,   95.33107773,\n",
       "        126.20978209,  119.38608475,  175.95627755,  146.65424459,\n",
       "        162.99865909,  153.30723833,  133.06402688,  112.56774937,\n",
       "        102.10525867,  115.9490623 ])"
      ]
     },
     "execution_count": 22,
     "metadata": {},
     "output_type": "execute_result"
    }
   ],
   "source": [
    "box_info[box_info[:,0]==1,1]"
   ]
  },
  {
   "cell_type": "code",
   "execution_count": null,
   "metadata": {
    "collapsed": false
   },
   "outputs": [],
   "source": [
    "#Emissivity correction on 011 - returns the coefficients necessary to do the correction\n",
    "parent = r'C:\\Users\\William\\Dropbox\\Materials Internship\\Data\\PMN-PT 011 Direct'\n",
    "directory_list = []\n",
    "p_values = np.ones((1,4))*np.pi\n",
    "for directory in listdir(parent):\n",
    "    if '.' in directory:\n",
    "        continue\n",
    "    print('---New directory---: '+directory)\n",
    "    p = emissivity_correction(parent+'\\\\'+directory)\n",
    "    p_values = np.vstack((p_values,p))\n",
    "    directory_list.append(parent+'\\\\'+directory)\n",
    "p_values = p_values[1:]"
   ]
  },
  {
   "cell_type": "code",
   "execution_count": null,
   "metadata": {
    "collapsed": false
   },
   "outputs": [],
   "source": [
    "#Emissivity correction on 111 - returns the coefficients necessary to do the correction\n",
    "parent = r'C:\\Users\\William\\Dropbox\\Materials Internship\\Data\\PMN-PT 111 Direct'\n",
    "#directory_list = []\n",
    "#p_values = np.ones((1,4))*np.pi\n",
    "for directory in listdir(parent):\n",
    "    if '.' in directory:\n",
    "        continue\n",
    "    print('---New directory---: '+directory)\n",
    "    p = emissivity_correction(parent+'\\\\'+directory)\n",
    "    p_values = np.vstack((p_values,p))\n",
    "    directory_list.append(parent+'\\\\'+directory)"
   ]
  },
  {
   "cell_type": "code",
   "execution_count": 7,
   "metadata": {
    "collapsed": false
   },
   "outputs": [
    {
     "name": "stderr",
     "output_type": "stream",
     "text": [
      "C:\\Users\\William\\Miniconda3\\lib\\site-packages\\ipykernel\\__main__.py:26: DeprecationWarning: using a non-integer number instead of an integer will result in an error in the future\n",
      "C:\\Users\\William\\Miniconda3\\lib\\site-packages\\matplotlib\\collections.py:590: FutureWarning: elementwise comparison failed; returning scalar instead, but in the future will perform elementwise comparison\n",
      "  if self._edgecolors == str('face'):\n"
     ]
    },
    {
     "name": "stdout",
     "output_type": "stream",
     "text": [
      "C:\\Users\\William\\Dropbox\\Materials Internship\\Data\\PMN-PT 001 Direct\\200V\\300316 PMN-PT 001  H2C 390K 200Vbox1.csv  is a 001 file\n"
     ]
    },
    {
     "data": {
      "text/plain": [
       "array([  3.62659288e+02,   7.51908825e-02,   5.61935188e-02,\n",
       "         0.00000000e+00,   0.00000000e+00])"
      ]
     },
     "execution_count": 7,
     "metadata": {},
     "output_type": "execute_result"
    }
   ],
   "source": [
    "#Test single file (V and T fixed)\n",
    "directory = r'C:\\Users\\William\\Dropbox\\Materials Internship\\Data\\PMN-PT 001 Direct\\200V'\n",
    "fname = directory+'\\\\'+r'300316 PMN-PT 001  H2C 390K 200Vbox1.csv'\n",
    "extractTnew(fname,diagnose=True)"
   ]
  },
  {
   "cell_type": "code",
   "execution_count": 15,
   "metadata": {
    "collapsed": false
   },
   "outputs": [
    {
     "name": "stderr",
     "output_type": "stream",
     "text": [
      "C:\\Users\\William\\Miniconda3\\lib\\site-packages\\ipykernel\\__main__.py:26: DeprecationWarning: using a non-integer number instead of an integer will result in an error in the future\n"
     ]
    }
   ],
   "source": [
    "#Everything!\n",
    "parent = r'C:\\Users\\William\\Dropbox\\Materials Internship\\Data\\PMN-PT 111 Direct' #Sample folder\n",
    "directories = listdir(parent)\n",
    "\n",
    "#Several voltages:\n",
    "for n,_ in np.ndenumerate(directories):\n",
    "    n = n[0] #n is a tuple at first for some reason\n",
    "    \n",
    "    #Filtering bad folders/files:\n",
    "    if '900' in directories[n]:\n",
    "        continue\n",
    "    if '800' in directories[n]:# or '200' in directories[n]:\n",
    "        continue\n",
    "    if '.' in directories[n]:\n",
    "        continue\n",
    "    if 'heating'  in directories[n]:\n",
    "        continue\n",
    "    \n",
    "    directory = parent + '\\\\' + directories[n] #Voltage directory\n",
    "    files = listdir(directory)\n",
    "    \n",
    "    data = np.zeros(5)\n",
    "    for file in files:\n",
    "        #More filtering:\n",
    "        if '.csv' not in file:\n",
    "            continue\n",
    "        info = extract_info(file)\n",
    "        if info[2] != 1: #Only box 1 allowed\n",
    "            continue\n",
    "        \n",
    "        full = directory+'\\\\'+file #Complete filename\n",
    "        try:\n",
    "            deltaTarray = extractTnew(full)\n",
    "            if deltaTarray is False:\n",
    "                continue\n",
    "            data = np.vstack((data,deltaTarray))\n",
    "        except:\n",
    "            print(file)\n",
    "    data = data[1:,:]\n",
    "    smoothness = 1\n",
    "    plt.plot(np.convolve(data[:,0],np.ones(smoothness)/smoothness,mode='valid'),np.convolve(data[:,1],np.ones(smoothness)/smoothness,mode='valid'), 'o-')\n",
    "    plt.plot(np.convolve(data[:,0],np.ones(smoothness)/smoothness,mode='valid'), np.convolve(-data[:,2],np.ones(smoothness)/smoothness,mode='valid'), 'o-')\n",
    "#plt.legend(voltages)\n",
    "#plt.xlim([80, 240])\n",
    "plt.show()"
   ]
  },
  {
   "cell_type": "code",
   "execution_count": null,
   "metadata": {
    "collapsed": false
   },
   "outputs": [],
   "source": [
    "#Test one voltage\n",
    "directory = r'C:\\Users\\William\\Dropbox\\Materials Internship\\Data\\PMN-PT 111 Direct\\300V'\n",
    "files = listdir(directory)\n",
    "for file in files:\n",
    "    if '.csv' not in file:\n",
    "        continue\n",
    "    if extract_info(directory+'\\\\'+file)[2] != 1:\n",
    "        continue\n",
    "    try:\n",
    "        plot_data = extractTnew(directory+'\\\\'+file,diagnose=True)\n",
    "        if extractTnew is False:\n",
    "            print(file)\n",
    "        plt.scatter(plot_data[0],plot_data[1])\n",
    "    except:\n",
    "        pass\n",
    "        print(file)\n",
    "plt.show()"
   ]
  },
  {
   "cell_type": "code",
   "execution_count": null,
   "metadata": {
    "collapsed": true
   },
   "outputs": [],
   "source": []
  },
  {
   "cell_type": "code",
   "execution_count": 8,
   "metadata": {
    "collapsed": false
   },
   "outputs": [
    {
     "name": "stdout",
     "output_type": "stream",
     "text": [
      "Done!\n",
      "Number of files:  803\n"
     ]
    }
   ],
   "source": [
    "#Counting!\n",
    "samples = [r'C:\\Users\\William\\Dropbox\\Materials Internship\\Data\\PMN-PT 011 Direct',\n",
    "           r'C:\\Users\\William\\Dropbox\\Materials Internship\\Data\\PMN-PT 111 Direct']\n",
    "count = 0\n",
    "for sample in samples:\n",
    "    for voltage in listdir(sample):\n",
    "        if '.' in voltage: #Ignore files that are not directories\n",
    "            continue\n",
    "        for temp in listdir(sample+'\\\\'+voltage):\n",
    "            filename = sample+'\\\\'+voltage+'\\\\'+temp\n",
    "            if '.csv' not in filename:\n",
    "                continue\n",
    "            count += 1\n",
    "\n",
    "print('Done!')\n",
    "print('Number of files: ',count)"
   ]
  },
  {
   "cell_type": "code",
   "execution_count": 9,
   "metadata": {
    "collapsed": false
   },
   "outputs": [
    {
     "name": "stdout",
     "output_type": "stream",
     "text": [
      "Crystal orientation:  111\n",
      "200V\n",
      "300V\n",
      "400V cooling\n",
      "400V heating\n",
      "500V\n",
      "600V\n",
      "700V\n",
      "800V\n",
      "Crystal orientation:  11\n",
      "030616 PMN-PT 011 200 V\n",
      "060616 PMN-PT 011 300 V\n",
      "070616 PMN-PT 011 400 V\n",
      "070616 PMN-PT 011 500 V\n",
      "080616 PMN-PT 011 600 V\n",
      "080616 PMN-PT 011 700V\n",
      "080616 PMN-PT 011 800 V\n",
      "080616 PMN-PT 011 900 V\n",
      "Done!\n"
     ]
    },
    {
     "name": "stderr",
     "output_type": "stream",
     "text": [
      "C:\\Users\\William\\Miniconda3\\lib\\site-packages\\ipykernel\\__main__.py:26: DeprecationWarning: using a non-integer number instead of an integer will result in an error in the future\n"
     ]
    }
   ],
   "source": [
    "#Writing all of the information to a .csv file\n",
    "samples = [r'C:\\Users\\William\\Dropbox\\Materials Internship\\Data\\PMN-PT 111 Direct',\n",
    "           r'C:\\Users\\William\\Dropbox\\Materials Internship\\Data\\PMN-PT 011 Direct']\n",
    "data = np.ones((count+1,13))*np.pi\n",
    "n = 0\n",
    "for sample in samples:\n",
    "    crystal_orientation = int(sample[-10:-7])\n",
    "    print('Crystal orientation: ',crystal_orientation)\n",
    "    for voltage in listdir(sample):\n",
    "        if '.' in voltage: #Ignore files that are not directories\n",
    "            continue\n",
    "        for temp in listdir(sample+'\\\\'+voltage):\n",
    "            filename = sample+'\\\\'+voltage+'\\\\'+temp\n",
    "            if '.csv' not in filename:\n",
    "                continue\n",
    "            #At this point 'filename' will be a valid T vs t file\n",
    "            #Now check if the calculation is valid:\n",
    "            new_data = extractTnew(filename,return_case=2)\n",
    "            if new_data is False:\n",
    "                continue\n",
    "            \n",
    "            info = extract_info(filename)\n",
    "            \n",
    "            #Emissivity correction\n",
    "            #ind = directory_list.index('\\\\'.join(filename.split('\\\\')[:-1]))\n",
    "            #p = p_values[ind]\n",
    "            #if info[2] == 1:\n",
    "            #    new_data = new_data*p[0] + p[1]\n",
    "            #if info[2] == 2:\n",
    "            #    new_data = new_data*p[2] + p[3]\n",
    "\n",
    "            if 'heating' in filename:\n",
    "                crystal_orientation = crystal_orientation*10+2\n",
    "            new_row = np.hstack((crystal_orientation,info,new_data))\n",
    "            if 'heating' in filename:\n",
    "                crystal_orientation = (crystal_orientation - 2) / 10\n",
    "                \n",
    "            data[n] = new_row\n",
    "            n += 1\n",
    "        print(voltage)\n",
    "print('Done!')\n"
   ]
  },
  {
   "cell_type": "code",
   "execution_count": 10,
   "metadata": {
    "collapsed": true
   },
   "outputs": [],
   "source": [
    "df = pd.DataFrame(data)\n",
    "column_names = ['Crystal orientation', 'T(nominal)/K', 'Voltage/V','Box','T(actual)/K']+['T'+str(n+1) for n in range(8)]\n",
    "df.columns = column_names\n",
    "df = df[df.Box != np.pi]"
   ]
  },
  {
   "cell_type": "code",
   "execution_count": null,
   "metadata": {
    "collapsed": false
   },
   "outputs": [],
   "source": []
  },
  {
   "cell_type": "code",
   "execution_count": 11,
   "metadata": {
    "collapsed": false
   },
   "outputs": [
    {
     "data": {
      "text/html": [
       "<div>\n",
       "<table border=\"1\" class=\"dataframe\">\n",
       "  <thead>\n",
       "    <tr style=\"text-align: right;\">\n",
       "      <th></th>\n",
       "      <th>Crystal orientation</th>\n",
       "      <th>T(nominal)/K</th>\n",
       "      <th>Voltage/V</th>\n",
       "      <th>Box</th>\n",
       "      <th>T(actual)/K</th>\n",
       "      <th>T1</th>\n",
       "      <th>T2</th>\n",
       "      <th>T3</th>\n",
       "      <th>T4</th>\n",
       "      <th>T5</th>\n",
       "      <th>T6</th>\n",
       "      <th>T7</th>\n",
       "      <th>T8</th>\n",
       "    </tr>\n",
       "  </thead>\n",
       "  <tbody>\n",
       "    <tr>\n",
       "      <th>0</th>\n",
       "      <td>111.0</td>\n",
       "      <td>385.0</td>\n",
       "      <td>200.0</td>\n",
       "      <td>1.0</td>\n",
       "      <td>354.770844</td>\n",
       "      <td>0.050793</td>\n",
       "      <td>-0.013263</td>\n",
       "      <td>-0.002568</td>\n",
       "      <td>-0.060786</td>\n",
       "      <td>0.058639</td>\n",
       "      <td>-0.004546</td>\n",
       "      <td>0.005182</td>\n",
       "      <td>-0.056748</td>\n",
       "    </tr>\n",
       "    <tr>\n",
       "      <th>1</th>\n",
       "      <td>111.0</td>\n",
       "      <td>385.0</td>\n",
       "      <td>200.0</td>\n",
       "      <td>2.0</td>\n",
       "      <td>355.261543</td>\n",
       "      <td>-0.001407</td>\n",
       "      <td>-0.011106</td>\n",
       "      <td>0.045853</td>\n",
       "      <td>-0.013972</td>\n",
       "      <td>-0.002253</td>\n",
       "      <td>-0.062085</td>\n",
       "      <td>0.004107</td>\n",
       "      <td>-0.058549</td>\n",
       "    </tr>\n",
       "    <tr>\n",
       "      <th>2</th>\n",
       "      <td>111.0</td>\n",
       "      <td>395.0</td>\n",
       "      <td>200.0</td>\n",
       "      <td>1.0</td>\n",
       "      <td>362.478890</td>\n",
       "      <td>0.071098</td>\n",
       "      <td>0.000588</td>\n",
       "      <td>0.008141</td>\n",
       "      <td>-0.067933</td>\n",
       "      <td>0.067926</td>\n",
       "      <td>-0.004147</td>\n",
       "      <td>0.005423</td>\n",
       "      <td>-0.065260</td>\n",
       "    </tr>\n",
       "    <tr>\n",
       "      <th>3</th>\n",
       "      <td>111.0</td>\n",
       "      <td>395.0</td>\n",
       "      <td>200.0</td>\n",
       "      <td>2.0</td>\n",
       "      <td>363.051299</td>\n",
       "      <td>0.067271</td>\n",
       "      <td>0.000008</td>\n",
       "      <td>0.009532</td>\n",
       "      <td>-0.063010</td>\n",
       "      <td>0.067626</td>\n",
       "      <td>-0.005072</td>\n",
       "      <td>0.008011</td>\n",
       "      <td>-0.061105</td>\n",
       "    </tr>\n",
       "    <tr>\n",
       "      <th>4</th>\n",
       "      <td>111.0</td>\n",
       "      <td>400.0</td>\n",
       "      <td>200.0</td>\n",
       "      <td>1.0</td>\n",
       "      <td>366.269024</td>\n",
       "      <td>0.077244</td>\n",
       "      <td>-0.002139</td>\n",
       "      <td>-0.002901</td>\n",
       "      <td>-0.081511</td>\n",
       "      <td>0.068961</td>\n",
       "      <td>-0.017007</td>\n",
       "      <td>0.001412</td>\n",
       "      <td>-0.078070</td>\n",
       "    </tr>\n",
       "  </tbody>\n",
       "</table>\n",
       "</div>"
      ],
      "text/plain": [
       "   Crystal orientation  T(nominal)/K  Voltage/V  Box  T(actual)/K        T1  \\\n",
       "0                111.0         385.0      200.0  1.0   354.770844  0.050793   \n",
       "1                111.0         385.0      200.0  2.0   355.261543 -0.001407   \n",
       "2                111.0         395.0      200.0  1.0   362.478890  0.071098   \n",
       "3                111.0         395.0      200.0  2.0   363.051299  0.067271   \n",
       "4                111.0         400.0      200.0  1.0   366.269024  0.077244   \n",
       "\n",
       "         T2        T3        T4        T5        T6        T7        T8  \n",
       "0 -0.013263 -0.002568 -0.060786  0.058639 -0.004546  0.005182 -0.056748  \n",
       "1 -0.011106  0.045853 -0.013972 -0.002253 -0.062085  0.004107 -0.058549  \n",
       "2  0.000588  0.008141 -0.067933  0.067926 -0.004147  0.005423 -0.065260  \n",
       "3  0.000008  0.009532 -0.063010  0.067626 -0.005072  0.008011 -0.061105  \n",
       "4 -0.002139 -0.002901 -0.081511  0.068961 -0.017007  0.001412 -0.078070  "
      ]
     },
     "execution_count": 11,
     "metadata": {},
     "output_type": "execute_result"
    }
   ],
   "source": [
    "df.head()"
   ]
  },
  {
   "cell_type": "code",
   "execution_count": 12,
   "metadata": {
    "collapsed": true
   },
   "outputs": [],
   "source": [
    "df.to_csv('all_voltages_and_samples.csv',index_label=False,index=False)"
   ]
  },
  {
   "cell_type": "code",
   "execution_count": null,
   "metadata": {
    "collapsed": true
   },
   "outputs": [],
   "source": []
  }
 ],
 "metadata": {
  "kernelspec": {
   "display_name": "Python 3",
   "language": "python",
   "name": "python3"
  },
  "language_info": {
   "codemirror_mode": {
    "name": "ipython",
    "version": 3
   },
   "file_extension": ".py",
   "mimetype": "text/x-python",
   "name": "python",
   "nbconvert_exporter": "python",
   "pygments_lexer": "ipython3",
   "version": "3.5.2"
  }
 },
 "nbformat": 4,
 "nbformat_minor": 0
}
