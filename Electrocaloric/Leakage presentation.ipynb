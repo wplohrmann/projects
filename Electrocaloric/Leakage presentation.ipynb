{
 "cells": [
  {
   "cell_type": "code",
   "execution_count": 9,
   "metadata": {
    "collapsed": true
   },
   "outputs": [],
   "source": [
    "import numpy as np\n",
    "import matplotlib.pyplot as plt\n",
    "from os import listdir\n",
    "import pandas as pd\n",
    "import scipy.integrate"
   ]
  },
  {
   "cell_type": "code",
   "execution_count": 2,
   "metadata": {
    "collapsed": true
   },
   "outputs": [],
   "source": [
    "#directory = r'/home/william/Dropbox/Materials Internship/Data/PZT_data/PZT dump'\n",
    "directory = r'/home/william/Dropbox/Materials Internship/Data/PZT_data/PZT670_712K'"
   ]
  },
  {
   "cell_type": "code",
   "execution_count": null,
   "metadata": {
    "collapsed": false
   },
   "outputs": [],
   "source": [
    "for f in listdir(directory):\n",
    "    fname = directory+'/'+f\n",
    "    df_temp = pd.read_table(fname,engine='python',skiprows=49,skip_footer=14)\n",
    "\n",
    "    V = np.array(df_temp['Drive Voltage'])\n",
    "    P = np.array(df_temp['Measured Polarization'])\n",
    "    plt.plot(V,P)\n",
    "    plt.title(f)\n",
    "    plt.show()\n"
   ]
  },
  {
   "cell_type": "code",
   "execution_count": 3,
   "metadata": {
    "collapsed": false
   },
   "outputs": [],
   "source": [
    "fname = r'/home/william/Dropbox/Materials Internship/Data/PZT_data/PZT670_712K/PZT_670_0Kh.txt'\n",
    "df = pd.read_table(fname,engine='python',skiprows=49,skip_footer=14)"
   ]
  },
  {
   "cell_type": "code",
   "execution_count": 4,
   "metadata": {
    "collapsed": false
   },
   "outputs": [],
   "source": [
    "V = np.array(df['Drive Voltage'])\n",
    "P = np.array(df['Measured Polarization'])\n",
    "t = np.array(df['Time (ms)'])\n",
    "\n",
    "shift = (P[100]+P[301])/2\n",
    "P_s = P - shift"
   ]
  },
  {
   "cell_type": "code",
   "execution_count": 5,
   "metadata": {
    "collapsed": true
   },
   "outputs": [],
   "source": [
    "plt.plot(V,P)\n",
    "plt.show()"
   ]
  },
  {
   "cell_type": "code",
   "execution_count": 6,
   "metadata": {
    "collapsed": false
   },
   "outputs": [],
   "source": [
    "\n",
    "DP = P[703] - P[502]\n",
    "VInt = np.trapz(V[502:703],t[502:703])\n",
    "R = VInt / DP\n",
    "\n",
    "\n",
    "    "
   ]
  },
  {
   "cell_type": "code",
   "execution_count": 7,
   "metadata": {
    "collapsed": false
   },
   "outputs": [
    {
     "data": {
      "text/plain": [
       "0.36900930495203149"
      ]
     },
     "execution_count": 7,
     "metadata": {},
     "output_type": "execute_result"
    }
   ],
   "source": [
    "R"
   ]
  },
  {
   "cell_type": "code",
   "execution_count": 10,
   "metadata": {
    "collapsed": false
   },
   "outputs": [],
   "source": [
    "P_leakage = scipy.integrate.cumtrapz(V/R,t)\n",
    "P_leakage = np.append(P_leakage,P_leakage[-1])\n",
    "P_corrected = P - P_leakage\n",
    "    \n",
    "shift = (P_corrected[100]+P_corrected[301])/2\n",
    "P_sc = P_corrected - shift"
   ]
  },
  {
   "cell_type": "code",
   "execution_count": 11,
   "metadata": {
    "collapsed": false
   },
   "outputs": [],
   "source": [
    "plt.plot(V,P)\n",
    "plt.show()"
   ]
  },
  {
   "cell_type": "code",
   "execution_count": 13,
   "metadata": {
    "collapsed": true
   },
   "outputs": [],
   "source": [
    "plt.plot(V,P_sc)\n",
    "plt.show()"
   ]
  },
  {
   "cell_type": "code",
   "execution_count": 141,
   "metadata": {
    "collapsed": false
   },
   "outputs": [],
   "source": [
    "matrix = np.transpose(np.vstack((t,V,P,P_s,P_sc)))"
   ]
  },
  {
   "cell_type": "code",
   "execution_count": 142,
   "metadata": {
    "collapsed": false
   },
   "outputs": [
    {
     "data": {
      "text/plain": [
       "(1206, 5)"
      ]
     },
     "execution_count": 142,
     "metadata": {},
     "output_type": "execute_result"
    }
   ],
   "source": [
    "matrix.shape"
   ]
  },
  {
   "cell_type": "code",
   "execution_count": 150,
   "metadata": {
    "collapsed": true
   },
   "outputs": [],
   "source": [
    "df = pd.DataFrame(data=matrix,columns=['time','Voltage','Polarization','Polarization shifted','Polarization corrected'])"
   ]
  },
  {
   "cell_type": "code",
   "execution_count": 151,
   "metadata": {
    "collapsed": false
   },
   "outputs": [
    {
     "data": {
      "text/html": [
       "<div>\n",
       "<table border=\"1\" class=\"dataframe\">\n",
       "  <thead>\n",
       "    <tr style=\"text-align: right;\">\n",
       "      <th></th>\n",
       "      <th>time</th>\n",
       "      <th>Voltage</th>\n",
       "      <th>Polarization</th>\n",
       "      <th>Polarization shifted</th>\n",
       "      <th>Polarization corrected</th>\n",
       "    </tr>\n",
       "  </thead>\n",
       "  <tbody>\n",
       "    <tr>\n",
       "      <th>0</th>\n",
       "      <td>0.002</td>\n",
       "      <td>-0.0272</td>\n",
       "      <td>-35.246581</td>\n",
       "      <td>-27.016141</td>\n",
       "      <td>-16.209088</td>\n",
       "    </tr>\n",
       "    <tr>\n",
       "      <th>1</th>\n",
       "      <td>0.004</td>\n",
       "      <td>0.2660</td>\n",
       "      <td>-35.267087</td>\n",
       "      <td>-27.036647</td>\n",
       "      <td>-16.232155</td>\n",
       "    </tr>\n",
       "    <tr>\n",
       "      <th>2</th>\n",
       "      <td>0.006</td>\n",
       "      <td>0.6793</td>\n",
       "      <td>-35.164559</td>\n",
       "      <td>-26.934120</td>\n",
       "      <td>-16.134330</td>\n",
       "    </tr>\n",
       "    <tr>\n",
       "      <th>3</th>\n",
       "      <td>0.008</td>\n",
       "      <td>1.0558</td>\n",
       "      <td>-35.128674</td>\n",
       "      <td>-26.898234</td>\n",
       "      <td>-16.105183</td>\n",
       "    </tr>\n",
       "    <tr>\n",
       "      <th>4</th>\n",
       "      <td>0.010</td>\n",
       "      <td>1.4307</td>\n",
       "      <td>-35.118421</td>\n",
       "      <td>-26.887982</td>\n",
       "      <td>-16.103826</td>\n",
       "    </tr>\n",
       "  </tbody>\n",
       "</table>\n",
       "</div>"
      ],
      "text/plain": [
       "    time  Voltage  Polarization  Polarization shifted  Polarization corrected\n",
       "0  0.002  -0.0272    -35.246581            -27.016141              -16.209088\n",
       "1  0.004   0.2660    -35.267087            -27.036647              -16.232155\n",
       "2  0.006   0.6793    -35.164559            -26.934120              -16.134330\n",
       "3  0.008   1.0558    -35.128674            -26.898234              -16.105183\n",
       "4  0.010   1.4307    -35.118421            -26.887982              -16.103826"
      ]
     },
     "execution_count": 151,
     "metadata": {},
     "output_type": "execute_result"
    }
   ],
   "source": [
    "df.head()"
   ]
  },
  {
   "cell_type": "code",
   "execution_count": 160,
   "metadata": {
    "collapsed": false
   },
   "outputs": [],
   "source": [
    "df.to_csv(save_dir,index=False)"
   ]
  },
  {
   "cell_type": "code",
   "execution_count": 159,
   "metadata": {
    "collapsed": true
   },
   "outputs": [],
   "source": [
    "save_dir = r'/home/william/Dropbox/Materials Internship/Presentations/Leakage correction demo/670K_corrected.csv'"
   ]
  },
  {
   "cell_type": "code",
   "execution_count": null,
   "metadata": {
    "collapsed": true
   },
   "outputs": [],
   "source": []
  }
 ],
 "metadata": {
  "kernelspec": {
   "display_name": "Python 3",
   "language": "python",
   "name": "python3"
  },
  "language_info": {
   "codemirror_mode": {
    "name": "ipython",
    "version": 3
   },
   "file_extension": ".py",
   "mimetype": "text/x-python",
   "name": "python",
   "nbconvert_exporter": "python",
   "pygments_lexer": "ipython3",
   "version": "3.5.2"
  }
 },
 "nbformat": 4,
 "nbformat_minor": 0
}
