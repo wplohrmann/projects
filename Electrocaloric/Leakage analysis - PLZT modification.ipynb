{
 "cells": [
  {
   "cell_type": "code",
   "execution_count": 1,
   "metadata": {
    "collapsed": false
   },
   "outputs": [],
   "source": [
    "import numpy as np\n",
    "import matplotlib.pyplot as plt\n",
    "import pandas as pd\n",
    "from os import listdir\n",
    "import pdb\n",
    "import scipy.signal\n",
    "import scipy.integrate\n",
    "import scipy.interpolate\n",
    "import h5py"
   ]
  },
  {
   "cell_type": "code",
   "execution_count": 2,
   "metadata": {
    "collapsed": true
   },
   "outputs": [],
   "source": [
    "#save_dir = r'/home/william/Dropbox/Materials Internship/Presentations/Presentation RT/'"
   ]
  },
  {
   "cell_type": "code",
   "execution_count": 3,
   "metadata": {
    "collapsed": true
   },
   "outputs": [],
   "source": [
    "h5_file = r'/home/william/Dropbox/Materials Internship/Data/indirect_data.h5'\n",
    "f = h5py.File(h5_file,'r')\n"
   ]
  },
  {
   "cell_type": "code",
   "execution_count": 4,
   "metadata": {
    "collapsed": false
   },
   "outputs": [],
   "source": [
    "grp = f['Crystals/PZT/PLZTcooling']\n",
    "#grp = f['Crystals/PMNPT/011/cooling2']"
   ]
  },
  {
   "cell_type": "code",
   "execution_count": null,
   "metadata": {
    "collapsed": true
   },
   "outputs": [],
   "source": []
  },
  {
   "cell_type": "code",
   "execution_count": 5,
   "metadata": {
    "collapsed": true
   },
   "outputs": [],
   "source": [
    "def last_first_diff(arr):\n",
    "    return arr[-1] - arr[0]"
   ]
  },
  {
   "cell_type": "code",
   "execution_count": 6,
   "metadata": {
    "collapsed": true
   },
   "outputs": [],
   "source": [
    "def shift_slice(the_slice,n):\n",
    "    try:\n",
    "        the_slice = the_slice[0]\n",
    "    except:\n",
    "        pass\n",
    "    return slice(the_slice.start + n, the_slice.stop + n)"
   ]
  },
  {
   "cell_type": "code",
   "execution_count": 7,
   "metadata": {
    "collapsed": true
   },
   "outputs": [],
   "source": [
    "def info_loss(arr,n):\n",
    "    for n in np.arange(n):\n",
    "        arr = np.correlate(arr,np.ones(2)/2)\n",
    "    return arr"
   ]
  },
  {
   "cell_type": "code",
   "execution_count": 8,
   "metadata": {
    "collapsed": false
   },
   "outputs": [],
   "source": [
    "def voltage_slice(V,start,stop):\n",
    "    #Finding the zeros of the driving profile\n",
    "    #IS THIS OKAY?\n",
    "    shift = np.mean((np.max(V),np.min(V)))\n",
    "    V = V - shift\n",
    "    V = np.abs(V)\n",
    "\n",
    "    zero_threshold = np.max(V)/10\n",
    "    indices = np.where(V<zero_threshold)[0]\n",
    "    \n",
    "    zero_indices = np.array([])\n",
    "    minimum_spacing = (np.max(indices) - np.min(indices)) / 10\n",
    "    for a in indices:        \n",
    "        cluster = indices[np.abs(indices-a)<minimum_spacing]\n",
    "        new_ind = cluster[np.argmin(V[cluster])]\n",
    "        zero_indices = np.append(zero_indices,new_ind)\n",
    "        \n",
    "    zero_indices = np.unique(zero_indices)\n",
    "\n",
    "    \n",
    "    try:\n",
    "        assert zero_indices.size == 6\n",
    "    except:\n",
    "        raise ZeroDivisionError\n",
    "    \n",
    "    \n",
    "    \n",
    "    if start % 2 == 0:\n",
    "        start_index = zero_indices[start//2]\n",
    "    if stop % 2 == 0:\n",
    "        stop_index = zero_indices[stop//2]\n",
    "    \n",
    "    \n",
    "    \n",
    "    if start % 2 == 1:\n",
    "        index1 = zero_indices[(start-1)//2]\n",
    "        index2 = zero_indices[(start+1)//2]\n",
    "        start_index = index1 + np.argmax(V[index1:index2])\n",
    "    if stop % 2 == 1:\n",
    "        index1 = zero_indices[(stop-1)//2]\n",
    "        index2 = zero_indices[(stop+1)//2]\n",
    "        stop_index = index1 + np.argmax(V[index1:index2]).astype('int32')\n",
    "        \n",
    "    assert stop_index>start_index+5\n",
    "    \n",
    "    return np.index_exp[start_index:(stop_index+1)]"
   ]
  },
  {
   "cell_type": "code",
   "execution_count": 9,
   "metadata": {
    "collapsed": false
   },
   "outputs": [],
   "source": [
    "def leakage_correction(P,V,t,diagnose=True,no_correction=False,major_slice=False):\n",
    "    #P,V,t are arrays in the same order\n",
    "    #Units as given. No corrections\n",
    "\n",
    "    \n",
    "    #Finding R as a function of t and V\n",
    "    minor_branch_plus = voltage_slice(V,5,8)\n",
    "    R_array_plus = find_R(P[minor_branch_plus],V[minor_branch_plus],t[minor_branch_plus])\n",
    "    R_plus = np.mean(R_array_plus)\n",
    "    R_plus = R_array_plus[0]\n",
    "    \n",
    "   \n",
    "    #minor_branch_minus = voltage_slice(V,9,12)\n",
    "    #R_array_minus = find_R(P[minor_branch_minus],V[minor_branch_minus],t[minor_branch_minus])\n",
    "    #R_minus = np.median(R_array_minus)\n",
    "         \n",
    "    \n",
    "    #Leakage correction:\n",
    "    R = R_plus\n",
    "\n",
    "    #print('R from DP calculation is ', R)\n",
    "    \n",
    "    #Alt R\n",
    "    ##zero_indices[1]:zero_indices[3]\n",
    "    #loop_area = np.trapz(V[zero_indices[1]:zero_indices[3]],P[zero_indices[1]:zero_indices[3]])\n",
    "    #P_leakage_R_is_one = scipy.integrate.cumtrapz(V[zero_indices[1]:zero_indices[3]],\n",
    "    #                                              t[zero_indices[1]:zero_indices[3]])\n",
    "    #P_leakage_R_is_one = np.append(P_leakage_R_is_one,P_leakage_R_is_one[-1])\n",
    "    \n",
    "    #R = np.trapz(V[zero_indices[1]:zero_indices[3]],P_leakage_R_is_one/loop_area)\n",
    "    #print('R is ', R)\n",
    "    \n",
    "    \n",
    "    P_leakage = scipy.integrate.cumtrapz(V/R,t)\n",
    "    P_leakage = np.append(P_leakage,P_leakage[-1])\n",
    "    P_corrected = P - P_leakage\n",
    "    \n",
    "    \n",
    "    \n",
    "    #upper\n",
    "    upper_slice = voltage_slice(V,1,2) #Normally 1,2\n",
    "    \n",
    "    \n",
    "    #major_loop\n",
    "    recentering_slice = voltage_slice(V,1,3)\n",
    "    \n",
    "    \n",
    "    #new_major = np.vstack((,))\n",
    "    new_major_slice = voltage_slice(V,2,6)\n",
    "    #P_return = P_corrected[zero_indices[1]:zero_indices[3]]\n",
    "    #V_return = V[zero_indices[1]:zero_indices[3]]\n",
    "    \n",
    "    #All of the loop\n",
    "    all_slice = np.index_exp[:]\n",
    "    \n",
    "    if no_correction:\n",
    "        print('No leakage correction')\n",
    "        P_return = P\n",
    "        \n",
    "    else:\n",
    "        P_return = P_corrected\n",
    "    \n",
    "    #Recentering\n",
    "    major_loop = P_corrected[recentering_slice]\n",
    "    \n",
    "    shift = np.mean((major_loop[0],major_loop[-1]))\n",
    "    if np.isnan(shift):\n",
    "        pdb.set_trace()\n",
    "    P_return = P_return - shift\n",
    "\n",
    "    return_slice = upper_slice\n",
    "    \n",
    "    if major_slice:\n",
    "        return_slice = new_major_slice\n",
    "    \n",
    "    P_return = P_return[return_slice]\n",
    "    V_return = V[return_slice]\n",
    "    \n",
    "    \n",
    "    \n",
    "    return (P_return,V_return)\n"
   ]
  },
  {
   "cell_type": "code",
   "execution_count": 10,
   "metadata": {
    "collapsed": true
   },
   "outputs": [],
   "source": [
    "def find_R(P,V,t):\n",
    "    threshold = np.mean(np.abs(np.diff(V)))*1.1\n",
    "    DP_array = np.array([])\n",
    "    VInt_array = np.array([])\n",
    "    \n",
    "    for n in np.arange(P.size):\n",
    "        if n * 3 >= P.size:\n",
    "            break\n",
    "         \n",
    "        candidates = np.where(np.abs(V-V[n])<threshold)[0]\n",
    "        closest_ind = np.max(candidates)\n",
    "        \n",
    "        DP_array = np.append(DP_array,P[closest_ind]-P[n])\n",
    "        VInt = np.trapz(V[n:closest_ind+1],t[n:closest_ind+1])\n",
    "        VInt_array = np.append(VInt_array,VInt)\n",
    "        \n",
    "        \n",
    "        \n",
    "    R = VInt_array / DP_array\n",
    "  \n",
    "    \n",
    "    return R"
   ]
  },
  {
   "cell_type": "code",
   "execution_count": null,
   "metadata": {
    "collapsed": false
   },
   "outputs": [],
   "source": []
  },
  {
   "cell_type": "code",
   "execution_count": 11,
   "metadata": {
    "collapsed": true
   },
   "outputs": [],
   "source": [
    "def find_R2(P,V,t):\n",
    "    \n",
    "    DP = P[-1] - P[0]\n",
    "    VInt = np.trapz(V,t)\n",
    "    Dt = t[-1] - t[0]\n",
    "\n",
    "    return DP,VInt,Dt"
   ]
  },
  {
   "cell_type": "code",
   "execution_count": 12,
   "metadata": {
    "collapsed": false
   },
   "outputs": [],
   "source": [
    "def extractPVt(dataset):\n",
    "    #df_temp = pd.read_table(filename,engine='python')\n",
    "    data = np.array(dataset)\n",
    "    \n",
    "    \n",
    "    P = np.copy(data[:,1])\n",
    "    V = np.copy(data[:,0])\n",
    "    t = np.copy(data[:,2])\n",
    "    \n",
    "    sample_area = dataset.attrs['Area / cm^2']\n",
    "    \n",
    "    P = P / sample_area #micro C per cm^2\n",
    "    P = P * 1e-2 #convert to SI\n",
    "    \n",
    "    thickness = 300e-6 #in m\n",
    "    V = V / thickness #To field instead of voltage\n",
    "    \n",
    "    return (P,V,t)\n",
    "\n",
    "def extractT(obj):\n",
    "    return obj.attrs['Temperature']\n",
    "\n",
    "#File diagnosis\n",
    "def diagnose(P,V,t):\n",
    "    plt.subplot(211)\n",
    "    plt.plot(t,V)\n",
    "    plt.ylim([np.min(V), np.max(V)])\n",
    "    plt.xlim([np.min(t),np.max(t)])\n",
    "\n",
    "    plt.subplot(212)\n",
    "    plt.plot(t,P)\n",
    "    plt.ylim([np.min(P),np.max(P)])\n",
    "    plt.xlim([np.min(t),np.max(t)])\n",
    "\n",
    "    plt.show()"
   ]
  },
  {
   "cell_type": "code",
   "execution_count": 103,
   "metadata": {
    "collapsed": false
   },
   "outputs": [
    {
     "name": "stderr",
     "output_type": "stream",
     "text": [
      "/usr/local/lib/python3.5/dist-packages/ipykernel/__main__.py:38: VisibleDeprecationWarning: using a non-integer number instead of an integer will result in an error in the future\n",
      "/usr/local/lib/python3.5/dist-packages/ipykernel/__main__.py:42: VisibleDeprecationWarning: using a non-integer number instead of an integer will result in an error in the future\n"
     ]
    }
   ],
   "source": [
    "#Create T_array (only good files)\n",
    "T_array = np.array([])\n",
    "for name,obj in grp.items():\n",
    "    P,V,t = extractPVt(obj)\n",
    "    try:\n",
    "        a = voltage_slice(V,1,5)\n",
    "    except:\n",
    "        continue\n",
    "    T = extractT(obj)\n",
    "    T_array = np.append(T_array,T)\n",
    "\n",
    "bad_Ts = [100,485,510,560,570]    \n",
    "T_array = np.array([T for T in T_array if T not in bad_Ts])\n",
    "T_array = np.sort(T_array)\n",
    "    "
   ]
  },
  {
   "cell_type": "code",
   "execution_count": 104,
   "metadata": {
    "collapsed": false
   },
   "outputs": [
    {
     "data": {
      "text/plain": [
       "array([ 200.,  250.,  300.,  360.,  380.,  400.,  410.,  420.,  430.,\n",
       "        440.,  445.,  450.,  455.,  460.,  465.,  470.,  475.,  480.,\n",
       "        490.,  495.,  500.,  505.,  515.,  520.,  530.,  535.,  540.,\n",
       "        545.,  550.,  555.,  565.])"
      ]
     },
     "execution_count": 104,
     "metadata": {},
     "output_type": "execute_result"
    }
   ],
   "source": [
    "T_array"
   ]
  },
  {
   "cell_type": "code",
   "execution_count": 87,
   "metadata": {
    "collapsed": false
   },
   "outputs": [
    {
     "name": "stderr",
     "output_type": "stream",
     "text": [
      "/usr/local/lib/python3.5/dist-packages/ipykernel/__main__.py:38: VisibleDeprecationWarning: using a non-integer number instead of an integer will result in an error in the future\n",
      "/usr/local/lib/python3.5/dist-packages/ipykernel/__main__.py:8: VisibleDeprecationWarning: using a non-integer number instead of an integer will result in an error in the future\n",
      "/usr/local/lib/python3.5/dist-packages/ipykernel/__main__.py:42: VisibleDeprecationWarning: using a non-integer number instead of an integer will result in an error in the future\n",
      "/usr/local/lib/python3.5/dist-packages/ipykernel/__main__.py:64: VisibleDeprecationWarning: using a non-integer number instead of an integer will result in an error in the future\n",
      "/usr/local/lib/python3.5/dist-packages/ipykernel/__main__.py:76: VisibleDeprecationWarning: using a non-integer number instead of an integer will result in an error in the future\n",
      "/usr/local/lib/python3.5/dist-packages/ipykernel/__main__.py:77: VisibleDeprecationWarning: using a non-integer number instead of an integer will result in an error in the future\n"
     ]
    }
   ],
   "source": [
    "#Make sure you use upper_slice\n",
    "for name,obj in grp.items():\n",
    "    T = extractT(obj)\n",
    "    if T not in T_array:\n",
    "        continue\n",
    "    T_color = (T-np.min(T_array))/(np.max(T_array)-np.min(T_array))\n",
    "    P,V,t = extractPVt(obj)\n",
    "    P_new,V_new = leakage_correction(P,V,t)\n",
    "    plt.plot(V_new,P_new,color=(T_color,T_color*0.3,T_color*0.8))\n",
    "\n",
    "\n",
    "#plt.ylim([0,100])\n",
    "#plt.xlim([0,500])\n",
    "plt.title(grp.name)\n",
    "plt.xlabel('E / V m$^{-1}$')\n",
    "plt.ylabel('P / C m$^{-2}$')\n",
    "#plt.savefig(save_dir+directory_name+'PVupper.png',dpi=300)\n",
    "plt.show()"
   ]
  },
  {
   "cell_type": "code",
   "execution_count": 132,
   "metadata": {
    "collapsed": false
   },
   "outputs": [
    {
     "name": "stderr",
     "output_type": "stream",
     "text": [
      "/usr/local/lib/python3.5/dist-packages/ipykernel/__main__.py:38: VisibleDeprecationWarning: using a non-integer number instead of an integer will result in an error in the future\n",
      "/usr/local/lib/python3.5/dist-packages/ipykernel/__main__.py:8: VisibleDeprecationWarning: using a non-integer number instead of an integer will result in an error in the future\n",
      "/usr/local/lib/python3.5/dist-packages/ipykernel/__main__.py:42: VisibleDeprecationWarning: using a non-integer number instead of an integer will result in an error in the future\n",
      "/usr/local/lib/python3.5/dist-packages/ipykernel/__main__.py:64: VisibleDeprecationWarning: using a non-integer number instead of an integer will result in an error in the future\n",
      "/usr/local/lib/python3.5/dist-packages/ipykernel/__main__.py:76: VisibleDeprecationWarning: using a non-integer number instead of an integer will result in an error in the future\n",
      "/usr/local/lib/python3.5/dist-packages/ipykernel/__main__.py:77: VisibleDeprecationWarning: using a non-integer number instead of an integer will result in an error in the future\n"
     ]
    }
   ],
   "source": [
    "#Plot 5 loops across the temperature range\n",
    "#Make sure you use upper_slice\n",
    "loops = T_array[::T_array.size//7]\n",
    "#loops = T_array[-5:]\n",
    "for name,obj in grp.items():\n",
    "\n",
    "    T = extractT(obj)\n",
    "    if T not in loops:\n",
    "        continue\n",
    "    T_color = (T-np.min(T_array))/(np.max(T_array)-np.min(T_array))\n",
    "    P,V,t = extractPVt(obj)\n",
    "    P_new,V_new = leakage_correction(P,V,t,no_correction=False,major_slice=True)\n",
    "    plt.plot(V_new,P_new,color=(T_color,T_color*0.3,T_color*0.8))\n",
    "\n",
    "\n",
    "#plt.ylim([0,100])\n",
    "#plt.xlim([0,500])\n",
    "plt.title(grp.name)\n",
    "plt.xlabel('E / V m$^{-1}$')\n",
    "plt.ylabel('P / C m$^{-2}$')\n",
    "#plt.savefig(save_dir+directory_name+'PVupper.png',dpi=300)\n",
    "plt.show()"
   ]
  },
  {
   "cell_type": "code",
   "execution_count": 105,
   "metadata": {
    "collapsed": false
   },
   "outputs": [
    {
     "name": "stderr",
     "output_type": "stream",
     "text": [
      "/usr/local/lib/python3.5/dist-packages/ipykernel/__main__.py:38: VisibleDeprecationWarning: using a non-integer number instead of an integer will result in an error in the future\n",
      "/usr/local/lib/python3.5/dist-packages/ipykernel/__main__.py:8: VisibleDeprecationWarning: using a non-integer number instead of an integer will result in an error in the future\n",
      "/usr/local/lib/python3.5/dist-packages/ipykernel/__main__.py:42: VisibleDeprecationWarning: using a non-integer number instead of an integer will result in an error in the future\n",
      "/usr/local/lib/python3.5/dist-packages/ipykernel/__main__.py:64: VisibleDeprecationWarning: using a non-integer number instead of an integer will result in an error in the future\n",
      "/usr/local/lib/python3.5/dist-packages/ipykernel/__main__.py:76: VisibleDeprecationWarning: using a non-integer number instead of an integer will result in an error in the future\n",
      "/usr/local/lib/python3.5/dist-packages/ipykernel/__main__.py:77: VisibleDeprecationWarning: using a non-integer number instead of an integer will result in an error in the future\n"
     ]
    }
   ],
   "source": [
    "#Find absolute least extrema\n",
    "\n",
    "V_max_array = np.array([]) #The maximum values of V in single files \n",
    "V_min_array = np.array([]) #The minimum ---------------------------\n",
    "for name,obj in grp.items():\n",
    "    if extractT(obj) not in T_array:\n",
    "        continue\n",
    "    P,V,t = extractPVt(obj)\n",
    "    P_new,V_new = leakage_correction(P,V,t)\n",
    "    \n",
    "    V_max_array = np.append(V_max_array,np.max(V_new))\n",
    "    V_min_array = np.append(V_min_array,np.min(V_new))\n",
    "#assert T_array.size==V_max_array.size"
   ]
  },
  {
   "cell_type": "code",
   "execution_count": 106,
   "metadata": {
    "collapsed": false
   },
   "outputs": [
    {
     "name": "stderr",
     "output_type": "stream",
     "text": [
      "/usr/local/lib/python3.5/dist-packages/ipykernel/__main__.py:38: VisibleDeprecationWarning: using a non-integer number instead of an integer will result in an error in the future\n",
      "/usr/local/lib/python3.5/dist-packages/ipykernel/__main__.py:8: VisibleDeprecationWarning: using a non-integer number instead of an integer will result in an error in the future\n",
      "/usr/local/lib/python3.5/dist-packages/ipykernel/__main__.py:42: VisibleDeprecationWarning: using a non-integer number instead of an integer will result in an error in the future\n",
      "/usr/local/lib/python3.5/dist-packages/ipykernel/__main__.py:64: VisibleDeprecationWarning: using a non-integer number instead of an integer will result in an error in the future\n",
      "/usr/local/lib/python3.5/dist-packages/ipykernel/__main__.py:76: VisibleDeprecationWarning: using a non-integer number instead of an integer will result in an error in the future\n",
      "/usr/local/lib/python3.5/dist-packages/ipykernel/__main__.py:77: VisibleDeprecationWarning: using a non-integer number instead of an integer will result in an error in the future\n"
     ]
    }
   ],
   "source": [
    "V_lower = np.max(V_min_array)\n",
    "V_upper = np.min(V_max_array)\n",
    "\n",
    "\n",
    "no_of_points = 200\n",
    "no_of_T_points = 500\n",
    "V_range = np.linspace(V_lower,V_upper,no_of_points)\n",
    "T_vec,V_vec = np.meshgrid(T_array,V_range)\n",
    "\n",
    "P_mesh = np.empty(T_vec.shape)\n",
    "\n",
    "for name,obj in grp.items():\n",
    "    if extractT(obj) not in T_array:\n",
    "        continue\n",
    "    P,V,t = extractPVt(obj)\n",
    "    P_new,V_new = leakage_correction(P,V,t)    \n",
    "    \n",
    "    \n",
    "    T = extractT(obj)\n",
    "    n = np.where(T_array==T)[0][0]\n",
    "    assert np.max(V_range) <= np.max(V_new)\n",
    "    assert np.min(V_range) >= np.min(V_new)\n",
    "\n",
    "    sorted_indices = np.argsort(V_new)\n",
    "    V_new = V_new[sorted_indices]\n",
    "    P_new = P_new[sorted_indices]\n",
    "    P_mesh[:,n] = np.interp(V_range,V_new,P_new)\n",
    "    "
   ]
  },
  {
   "cell_type": "code",
   "execution_count": 107,
   "metadata": {
    "collapsed": true
   },
   "outputs": [],
   "source": [
    "P_mesh_smooth = np.copy(P_mesh)\n",
    "T_vec_smooth = np.copy(T_vec)\n",
    "V_vec_smooth = np.copy(V_vec)"
   ]
  },
  {
   "cell_type": "code",
   "execution_count": 108,
   "metadata": {
    "collapsed": true
   },
   "outputs": [],
   "source": [
    "#Pad P_mesh, T_vec and V_vec before smoothing\n",
    "pw = ((0,0),(5,5)) #Pad width\n",
    "P_mesh = np.pad(P_mesh,pw,'edge')\n",
    "T_vec  = np.pad(T_vec,pw,'linear_ramp', end_values=[np.min(T_vec)*0.9,np.max(T_vec)*1.1])\n",
    "V_vec = np.pad(V_vec,pw,'edge')"
   ]
  },
  {
   "cell_type": "code",
   "execution_count": 116,
   "metadata": {
    "collapsed": false
   },
   "outputs": [],
   "source": [
    "no_of_T_points = 200\n",
    "smoothing = 2e-2\n",
    "\n",
    "\n",
    "T_new = np.linspace(T_vec[0,0],T_vec[0,-1],no_of_T_points)\n",
    "P_mesh_smooth = np.empty((P_mesh.shape[0],no_of_T_points))\n",
    "T_vec_smooth,V_vec_smooth = np.meshgrid(T_new,V_range)\n",
    "\n",
    "\n",
    "#weights = np.arange(T_vec[0].size)\n",
    "#weights = (weights-T_vec[0].size//2)**2/100 + 10\n",
    "#plt.plot(weights)\n",
    "#plt.show()\n",
    "\n",
    "for k in np.arange(P_mesh.shape[0]):\n",
    "    P = P_mesh[k]\n",
    "    T = T_vec[k]    \n",
    "    tck = scipy.interpolate.splrep(T,P,s=smoothing)\n",
    "    P_new = scipy.interpolate.splev(T_new,tck)\n",
    "    if np.any(np.isnan(P_new)):\n",
    "        pdb.set_trace()\n",
    "    P_mesh_smooth[k] = P_new\n"
   ]
  },
  {
   "cell_type": "code",
   "execution_count": 127,
   "metadata": {
    "collapsed": false
   },
   "outputs": [],
   "source": [
    "#P-T plots at different fields\n",
    "def plotPT():\n",
    "    no_of_lines_to_show = 10\n",
    "    for n in np.arange(P_mesh.shape[0]):\n",
    "        if n % (P_mesh.shape[0] // no_of_lines_to_show) != 0:\n",
    "            continue\n",
    "        my_color = (np.random.rand(),np.random.rand(),np.random.rand())\n",
    "        plt.plot(T_vec[n],100*P_mesh[n], 'x',color=my_color)\n",
    "        plt.plot(T_vec_smooth[n],100*P_mesh_smooth[n],'-',color=my_color)\n",
    "\n",
    "    plt.title(grp.name)\n",
    "    plt.xlabel('T / K')\n",
    "    plt.ylabel('P / $\\mu$ C cm$^{-2}$')\n",
    "\n",
    "    plt.xlim([T_array[0],T_array[-1]])\n",
    "    #plt.ylim([0,250])\n",
    "    #plt.savefig(save_dir+directory_name+'PT.png')\n",
    "plotPT()\n",
    "plt.show()\n",
    "\n",
    "#plt.ylim([0.6,1.2])"
   ]
  },
  {
   "cell_type": "code",
   "execution_count": 123,
   "metadata": {
    "collapsed": false
   },
   "outputs": [],
   "source": [
    "#Taking the derivative with respect to T (Confirmed)\n",
    "dPdT = np.diff(P_mesh_smooth,axis=1) / np.diff(T_vec_smooth,axis=1)\n",
    "T_vec_d = scipy.signal.convolve2d(T_vec_smooth,[np.ones(2)/2],mode='valid')\n",
    "V_vec_d =  scipy.signal.convolve2d(V_vec_smooth,[np.ones(2)/2],mode='valid')"
   ]
  },
  {
   "cell_type": "code",
   "execution_count": 124,
   "metadata": {
    "collapsed": false
   },
   "outputs": [],
   "source": [
    "#Integrating dPdT wrt. E' (dummy) from  E_lower to E (NOT Confirmed)\n",
    "assert np.all(np.diff(V_vec_d[:,0]) > 0) #Make sure E is always increasing\n",
    "P_integrated = scipy.integrate.cumtrapz(dPdT,V_vec_d,axis=0)\n",
    "V_vec_int = scipy.signal.convolve2d(V_vec_d,np.ones((2,1))/2,mode='valid')\n",
    "T_vec_int = scipy.signal.convolve2d(T_vec_d,np.ones((2,1))/2,mode='valid')\n",
    "rho = 8100\n",
    "DS = P_integrated / rho"
   ]
  },
  {
   "cell_type": "code",
   "execution_count": 125,
   "metadata": {
    "collapsed": false
   },
   "outputs": [],
   "source": [
    "no_of_lines_to_show = 10\n",
    "plt.subplot(211)\n",
    "plotPT()\n",
    "plt.xlim([T_array[0],T_array[-1]])\n",
    "plt.subplot(212)\n",
    "for n in np.arange(P_integrated.shape[0]):\n",
    "    if n % (P_integrated.shape[0] // no_of_lines_to_show) != 0:\n",
    "        continue\n",
    "    plt.plot(T_vec_int[n],DS[n],'o-')\n",
    "\n",
    "plt.xlabel('T/K')\n",
    "plt.ylabel('$\\Delta S$ / J K$^{-1}$ kg$^{-1}$')\n",
    "#plt.ylim([-8,10])\n",
    "plt.xlim([T_array[0],T_array[-1]])\n",
    "\n",
    "plt.show()"
   ]
  },
  {
   "cell_type": "code",
   "execution_count": 40,
   "metadata": {
    "collapsed": false
   },
   "outputs": [],
   "source": [
    "f.close()"
   ]
  },
  {
   "cell_type": "code",
   "execution_count": 54,
   "metadata": {
    "collapsed": false
   },
   "outputs": [
    {
     "data": {
      "text/plain": [
       "(200, 37)"
      ]
     },
     "execution_count": 54,
     "metadata": {},
     "output_type": "execute_result"
    }
   ],
   "source": [
    "P_mesh.shape"
   ]
  },
  {
   "cell_type": "code",
   "execution_count": null,
   "metadata": {
    "collapsed": true
   },
   "outputs": [],
   "source": []
  },
  {
   "cell_type": "code",
   "execution_count": 54,
   "metadata": {
    "collapsed": false
   },
   "outputs": [],
   "source": [
    "no_of_T_points = 200\n",
    "\n",
    "T_new = np.linspace(T_vec[0,0],T_vec[0,-1],no_of_T_points)\n",
    "P_mesh_smooth = np.empty((P_mesh.shape[0],no_of_T_points))\n",
    "\n",
    "for k in np.arange(P_mesh.shape[0]):\n",
    "    P = P_mesh[k]\n",
    "    T = T_vec[k]\n",
    "    tck = scipy.interpolate.splrep(T,P,s=0.0029)\n",
    "    P_new = scipy.interpolate.splev(T_new,tck)\n",
    "    if np.any(np.isnan(P_new)):\n",
    "        pdb.set_trace()\n",
    "    P_mesh_smooth[k] = P_new\n",
    "\n"
   ]
  },
  {
   "cell_type": "code",
   "execution_count": 69,
   "metadata": {
    "collapsed": false
   },
   "outputs": [],
   "source": [
    "#Ensure that there are PT lines crossing\n",
    "step1 = np.diff(P_mesh_smooth,axis=0)\n",
    "step2 = np.all(step1>0,axis=1)\n",
    "good_indices = np.where(step2)[0]+1\n",
    "\n",
    "\n",
    "P_mesh_smooth = P_mesh_smooth[good_indices]\n",
    "T_vec_smooth = T_vec_smooth[good_indices]\n",
    "V_vec_smooth = V_vec_smooth[good_indices]"
   ]
  },
  {
   "cell_type": "code",
   "execution_count": 70,
   "metadata": {
    "collapsed": false
   },
   "outputs": [],
   "source": [
    "for n in np.arange(P_mesh_smooth.shape[0]):\n",
    "    plt.plot(T_new,P_mesh_smooth[n])\n",
    "plt.show()"
   ]
  },
  {
   "cell_type": "code",
   "execution_count": 50,
   "metadata": {
    "collapsed": false
   },
   "outputs": [
    {
     "data": {
      "text/plain": [
       "<HDF5 file \"indirect_data.h5\" (mode r)>"
      ]
     },
     "execution_count": 50,
     "metadata": {},
     "output_type": "execute_result"
    }
   ],
   "source": [
    "f"
   ]
  },
  {
   "cell_type": "code",
   "execution_count": 51,
   "metadata": {
    "collapsed": true
   },
   "outputs": [],
   "source": [
    "f.close()"
   ]
  },
  {
   "cell_type": "code",
   "execution_count": null,
   "metadata": {
    "collapsed": true
   },
   "outputs": [],
   "source": []
  }
 ],
 "metadata": {
  "kernelspec": {
   "display_name": "Python 3",
   "language": "python",
   "name": "python3"
  },
  "language_info": {
   "codemirror_mode": {
    "name": "ipython",
    "version": 3
   },
   "file_extension": ".py",
   "mimetype": "text/x-python",
   "name": "python",
   "nbconvert_exporter": "python",
   "pygments_lexer": "ipython3",
   "version": "3.5.2"
  }
 },
 "nbformat": 4,
 "nbformat_minor": 0
}
