{
 "cells": [
  {
   "cell_type": "code",
   "execution_count": 1,
   "metadata": {
    "collapsed": true
   },
   "outputs": [],
   "source": [
    "import pandas as pd\n",
    "import numpy as np\n",
    "import matplotlib.pyplot as plt"
   ]
  },
  {
   "cell_type": "code",
   "execution_count": 2,
   "metadata": {
    "collapsed": true
   },
   "outputs": [],
   "source": [
    "df = pd.read_csv('exported_data.csv')"
   ]
  },
  {
   "cell_type": "code",
   "execution_count": 3,
   "metadata": {
    "collapsed": false
   },
   "outputs": [
    {
     "data": {
      "text/html": [
       "<div>\n",
       "<table border=\"1\" class=\"dataframe\">\n",
       "  <thead>\n",
       "    <tr style=\"text-align: right;\">\n",
       "      <th></th>\n",
       "      <th>Box</th>\n",
       "      <th>T(label)/K</th>\n",
       "      <th>Voltage/V</th>\n",
       "      <th>T(actual)/C</th>\n",
       "      <th>T1</th>\n",
       "      <th>T2</th>\n",
       "      <th>T3</th>\n",
       "      <th>T4</th>\n",
       "      <th>T5</th>\n",
       "      <th>T6</th>\n",
       "      <th>T7</th>\n",
       "      <th>T8</th>\n",
       "    </tr>\n",
       "  </thead>\n",
       "  <tbody>\n",
       "    <tr>\n",
       "      <th>0</th>\n",
       "      <td>2.0</td>\n",
       "      <td>350.0</td>\n",
       "      <td>200.0</td>\n",
       "      <td>61.221894</td>\n",
       "      <td>0.035107</td>\n",
       "      <td>-0.004655</td>\n",
       "      <td>0.002889</td>\n",
       "      <td>-0.020378</td>\n",
       "      <td>0.023482</td>\n",
       "      <td>-0.005373</td>\n",
       "      <td>-0.001846</td>\n",
       "      <td>-0.023979</td>\n",
       "    </tr>\n",
       "    <tr>\n",
       "      <th>1</th>\n",
       "      <td>2.0</td>\n",
       "      <td>375.0</td>\n",
       "      <td>200.0</td>\n",
       "      <td>81.717117</td>\n",
       "      <td>0.048931</td>\n",
       "      <td>-0.009330</td>\n",
       "      <td>-0.010639</td>\n",
       "      <td>-0.060216</td>\n",
       "      <td>0.045785</td>\n",
       "      <td>-0.005588</td>\n",
       "      <td>-0.012355</td>\n",
       "      <td>-0.055461</td>\n",
       "    </tr>\n",
       "    <tr>\n",
       "      <th>2</th>\n",
       "      <td>1.0</td>\n",
       "      <td>390.0</td>\n",
       "      <td>200.0</td>\n",
       "      <td>90.096478</td>\n",
       "      <td>0.131213</td>\n",
       "      <td>-0.000574</td>\n",
       "      <td>-0.018285</td>\n",
       "      <td>-0.095936</td>\n",
       "      <td>0.068179</td>\n",
       "      <td>-0.002396</td>\n",
       "      <td>-0.002597</td>\n",
       "      <td>-0.094588</td>\n",
       "    </tr>\n",
       "    <tr>\n",
       "      <th>3</th>\n",
       "      <td>2.0</td>\n",
       "      <td>390.0</td>\n",
       "      <td>200.0</td>\n",
       "      <td>94.919981</td>\n",
       "      <td>0.152588</td>\n",
       "      <td>-0.002493</td>\n",
       "      <td>-0.023980</td>\n",
       "      <td>-0.095644</td>\n",
       "      <td>0.068056</td>\n",
       "      <td>0.001260</td>\n",
       "      <td>-0.002428</td>\n",
       "      <td>-0.097469</td>\n",
       "    </tr>\n",
       "    <tr>\n",
       "      <th>4</th>\n",
       "      <td>1.0</td>\n",
       "      <td>395.0</td>\n",
       "      <td>200.0</td>\n",
       "      <td>94.260037</td>\n",
       "      <td>0.151562</td>\n",
       "      <td>0.009967</td>\n",
       "      <td>-0.000083</td>\n",
       "      <td>-0.136870</td>\n",
       "      <td>0.138772</td>\n",
       "      <td>-0.004340</td>\n",
       "      <td>-0.013375</td>\n",
       "      <td>-0.150521</td>\n",
       "    </tr>\n",
       "  </tbody>\n",
       "</table>\n",
       "</div>"
      ],
      "text/plain": [
       "   Box  T(label)/K  Voltage/V  T(actual)/C        T1        T2        T3  \\\n",
       "0  2.0       350.0      200.0    61.221894  0.035107 -0.004655  0.002889   \n",
       "1  2.0       375.0      200.0    81.717117  0.048931 -0.009330 -0.010639   \n",
       "2  1.0       390.0      200.0    90.096478  0.131213 -0.000574 -0.018285   \n",
       "3  2.0       390.0      200.0    94.919981  0.152588 -0.002493 -0.023980   \n",
       "4  1.0       395.0      200.0    94.260037  0.151562  0.009967 -0.000083   \n",
       "\n",
       "         T4        T5        T6        T7        T8  \n",
       "0 -0.020378  0.023482 -0.005373 -0.001846 -0.023979  \n",
       "1 -0.060216  0.045785 -0.005588 -0.012355 -0.055461  \n",
       "2 -0.095936  0.068179 -0.002396 -0.002597 -0.094588  \n",
       "3 -0.095644  0.068056  0.001260 -0.002428 -0.097469  \n",
       "4 -0.136870  0.138772 -0.004340 -0.013375 -0.150521  "
      ]
     },
     "execution_count": 3,
     "metadata": {},
     "output_type": "execute_result"
    }
   ],
   "source": [
    "df.head()"
   ]
  },
  {
   "cell_type": "code",
   "execution_count": 13,
   "metadata": {
    "collapsed": false
   },
   "outputs": [],
   "source": [
    "voltages = np.array([])\n",
    "nstart = 2\n",
    "nfinish = 8\n",
    "box_no = 2\n",
    "for n in range(nstart,nfinish+1):   \n",
    "    DT = df['T5'] - df['T6']\n",
    "    MDT = df['T8'] - df['T7']\n",
    "    T = df['T(actual)/C']\n",
    "    \n",
    "    indices = (df['Voltage/V'] == n * 100) & (df['Box'] == box_no)\n",
    "    colors = ['purple', 'turquoise', 'magenta', 'blue', 'green', 'black', 'red', 'yellow', 'cyan', 'orange']\n",
    "    \n",
    "    some_line = plt.plot(T[indices],DT[indices], 'x-', color = colors[n], label=str(n*100)+' V')\n",
    "    #print(plt.get_label(some_line))\n",
    "    #handles = handles+some_line\n",
    "    \n",
    "    plt.plot(T[indices],MDT[indices], 'x-', color = colors[n])\n",
    "    voltages = np.hstack((voltages, np.array([n, n])))\n",
    "\n",
    "\n",
    "#legend_names = [str(n*100)+' V' for n in range(nstart,nfinish)]\n",
    "plt.xlabel('Temperature / $\\degree$C (no emissivity correction)', size=15)\n",
    "plt.ylabel('$\\Delta T \\,/\\, \\degree$C (no emissivity correction)', size=15)\n",
    "plt.title('EC effect in PMN-PT 011 without Joule heating contribution')\n",
    "\n",
    "#plt.xlim([80,240])\n",
    "plt.ylim([-0.6, 0.6])\n",
    "\n",
    "plt.show()"
   ]
  },
  {
   "cell_type": "code",
   "execution_count": null,
   "metadata": {
    "collapsed": false
   },
   "outputs": [],
   "source": [
    "[[str(n*100)+' V']*2 for n in range(nstart,nfinish+1)][:]"
   ]
  },
  {
   "cell_type": "code",
   "execution_count": null,
   "metadata": {
    "collapsed": false
   },
   "outputs": [],
   "source": [
    "plt.legend()"
   ]
  },
  {
   "cell_type": "code",
   "execution_count": 28,
   "metadata": {
    "collapsed": false
   },
   "outputs": [],
   "source": [
    "DTdf = pd.concat([df['T(actual)/C'], \n",
    "                  df['T1']-df['T2'], df['T4']-df['T3'], \n",
    "                  df['T5']-df['T6'], df['T8'] - df['T7']], \n",
    "                 axis=1, keys = ['T / C', 'DTP1', 'DTM1', 'DTP2', 'DTM2'])"
   ]
  },
  {
   "cell_type": "code",
   "execution_count": 38,
   "metadata": {
    "collapsed": false
   },
   "outputs": [
    {
     "data": {
      "text/html": [
       "<div>\n",
       "<table border=\"1\" class=\"dataframe\">\n",
       "  <thead>\n",
       "    <tr style=\"text-align: right;\">\n",
       "      <th></th>\n",
       "      <th>T / C</th>\n",
       "      <th>DTP1</th>\n",
       "      <th>DTM1</th>\n",
       "      <th>DTP2</th>\n",
       "      <th>DTM2</th>\n",
       "    </tr>\n",
       "  </thead>\n",
       "  <tbody>\n",
       "    <tr>\n",
       "      <th>248</th>\n",
       "      <td>81.879548</td>\n",
       "      <td>0.129865</td>\n",
       "      <td>-0.139976</td>\n",
       "      <td>0.128339</td>\n",
       "      <td>-0.140960</td>\n",
       "    </tr>\n",
       "    <tr>\n",
       "      <th>249</th>\n",
       "      <td>83.421992</td>\n",
       "      <td>0.161492</td>\n",
       "      <td>-0.145872</td>\n",
       "      <td>0.168287</td>\n",
       "      <td>-0.140870</td>\n",
       "    </tr>\n",
       "    <tr>\n",
       "      <th>250</th>\n",
       "      <td>82.540069</td>\n",
       "      <td>0.137604</td>\n",
       "      <td>-0.131224</td>\n",
       "      <td>0.141796</td>\n",
       "      <td>-0.126122</td>\n",
       "    </tr>\n",
       "    <tr>\n",
       "      <th>251</th>\n",
       "      <td>89.599728</td>\n",
       "      <td>0.216950</td>\n",
       "      <td>-0.171053</td>\n",
       "      <td>0.195900</td>\n",
       "      <td>-0.183908</td>\n",
       "    </tr>\n",
       "    <tr>\n",
       "      <th>252</th>\n",
       "      <td>91.277406</td>\n",
       "      <td>0.262680</td>\n",
       "      <td>-0.193762</td>\n",
       "      <td>0.218697</td>\n",
       "      <td>-0.197103</td>\n",
       "    </tr>\n",
       "  </tbody>\n",
       "</table>\n",
       "</div>"
      ],
      "text/plain": [
       "         T / C      DTP1      DTM1      DTP2      DTM2\n",
       "248  81.879548  0.129865 -0.139976  0.128339 -0.140960\n",
       "249  83.421992  0.161492 -0.145872  0.168287 -0.140870\n",
       "250  82.540069  0.137604 -0.131224  0.141796 -0.126122\n",
       "251  89.599728  0.216950 -0.171053  0.195900 -0.183908\n",
       "252  91.277406  0.262680 -0.193762  0.218697 -0.197103"
      ]
     },
     "execution_count": 38,
     "metadata": {},
     "output_type": "execute_result"
    }
   ],
   "source": [
    "DTdf.head()"
   ]
  },
  {
   "cell_type": "code",
   "execution_count": 7,
   "metadata": {
    "collapsed": false
   },
   "outputs": [
    {
     "name": "stdout",
     "output_type": "stream",
     "text": [
      "Done with n=2\n",
      "Done with n=3\n",
      "Done with n=4\n",
      "Done with n=5\n",
      "Done with n=6\n",
      "Done with n=7\n",
      "Done with n=8\n"
     ]
    }
   ],
   "source": [
    "for n in range(nstart,nfinish+1):\n",
    "    box_no = 1\n",
    "    df_temporary = df[(df['Voltage/V']==n*100) & (df['Box']==box_no)]\n",
    "    DTdf = pd.concat([df_temporary['T(actual)/C'], \n",
    "                  df_temporary['T1']-df_temporary['T2'], df_temporary['T4']-df_temporary['T3'], \n",
    "                  df_temporary['T5']-df_temporary['T6'], df_temporary['T8'] - df_temporary['T7']], \n",
    "                 axis=1, keys = ['T / C', 'DTP1', 'DTM1', 'DTP2', 'DTM2'])\n",
    "    DTdf.to_csv('delta_T_PMNPT_011_'+str(n*100)+'V_raw_box'+str(box_no)+'.csv', index=False,index_label=False)\n",
    "    print('Done with n='+str(n))"
   ]
  },
  {
   "cell_type": "code",
   "execution_count": 53,
   "metadata": {
    "collapsed": false
   },
   "outputs": [
    {
     "data": {
      "text/html": [
       "<div>\n",
       "<table border=\"1\" class=\"dataframe\">\n",
       "  <thead>\n",
       "    <tr style=\"text-align: right;\">\n",
       "      <th></th>\n",
       "      <th>T / C</th>\n",
       "      <th>DTP1</th>\n",
       "      <th>DTM1</th>\n",
       "      <th>DTP2</th>\n",
       "      <th>DTM2</th>\n",
       "    </tr>\n",
       "  </thead>\n",
       "  <tbody>\n",
       "    <tr>\n",
       "      <th>249</th>\n",
       "      <td>83.421992</td>\n",
       "      <td>0.161492</td>\n",
       "      <td>-0.145872</td>\n",
       "      <td>0.168287</td>\n",
       "      <td>-0.140870</td>\n",
       "    </tr>\n",
       "    <tr>\n",
       "      <th>252</th>\n",
       "      <td>91.277406</td>\n",
       "      <td>0.262680</td>\n",
       "      <td>-0.193762</td>\n",
       "      <td>0.218697</td>\n",
       "      <td>-0.197103</td>\n",
       "    </tr>\n",
       "    <tr>\n",
       "      <th>255</th>\n",
       "      <td>99.183575</td>\n",
       "      <td>0.348919</td>\n",
       "      <td>-0.253895</td>\n",
       "      <td>0.290358</td>\n",
       "      <td>-0.226415</td>\n",
       "    </tr>\n",
       "    <tr>\n",
       "      <th>258</th>\n",
       "      <td>107.154175</td>\n",
       "      <td>0.478719</td>\n",
       "      <td>-0.276770</td>\n",
       "      <td>0.365204</td>\n",
       "      <td>-0.261989</td>\n",
       "    </tr>\n",
       "    <tr>\n",
       "      <th>261</th>\n",
       "      <td>115.111760</td>\n",
       "      <td>0.534740</td>\n",
       "      <td>-0.328348</td>\n",
       "      <td>0.493318</td>\n",
       "      <td>-0.347918</td>\n",
       "    </tr>\n",
       "  </tbody>\n",
       "</table>\n",
       "</div>"
      ],
      "text/plain": [
       "          T / C      DTP1      DTM1      DTP2      DTM2\n",
       "249   83.421992  0.161492 -0.145872  0.168287 -0.140870\n",
       "252   91.277406  0.262680 -0.193762  0.218697 -0.197103\n",
       "255   99.183575  0.348919 -0.253895  0.290358 -0.226415\n",
       "258  107.154175  0.478719 -0.276770  0.365204 -0.261989\n",
       "261  115.111760  0.534740 -0.328348  0.493318 -0.347918"
      ]
     },
     "execution_count": 53,
     "metadata": {},
     "output_type": "execute_result"
    }
   ],
   "source": [
    "DTdf.head()"
   ]
  },
  {
   "cell_type": "code",
   "execution_count": 55,
   "metadata": {
    "collapsed": false
   },
   "outputs": [
    {
     "name": "stderr",
     "output_type": "stream",
     "text": [
      "C:\\Users\\William\\Miniconda3\\lib\\site-packages\\matplotlib\\collections.py:590: FutureWarning: elementwise comparison failed; returning scalar instead, but in the future will perform elementwise comparison\n",
      "  if self._edgecolors == str('face'):\n"
     ]
    }
   ],
   "source": [
    "DTdf.plot(kind='scatter',x='T / C', y = 'DTP2')\n",
    "plt.show()"
   ]
  },
  {
   "cell_type": "code",
   "execution_count": null,
   "metadata": {
    "collapsed": true
   },
   "outputs": [],
   "source": []
  }
 ],
 "metadata": {
  "kernelspec": {
   "display_name": "Python 3",
   "language": "python",
   "name": "python3"
  },
  "language_info": {
   "codemirror_mode": {
    "name": "ipython",
    "version": 3
   },
   "file_extension": ".py",
   "mimetype": "text/x-python",
   "name": "python",
   "nbconvert_exporter": "python",
   "pygments_lexer": "ipython3",
   "version": "3.4.4"
  }
 },
 "nbformat": 4,
 "nbformat_minor": 0
}
