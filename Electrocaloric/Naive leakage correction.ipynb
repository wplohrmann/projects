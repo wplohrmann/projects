{
 "cells": [
  {
   "cell_type": "code",
   "execution_count": 2,
   "metadata": {
    "collapsed": true
   },
   "outputs": [],
   "source": [
    "import matplotlib.pyplot as plt\n",
    "import pandas as pd\n",
    "import numpy as np\n",
    "from os import listdir\n",
    "from scipy.integrate import cumtrapz"
   ]
  },
  {
   "cell_type": "code",
   "execution_count": 3,
   "metadata": {
    "collapsed": false
   },
   "outputs": [],
   "source": [
    "def findZeros(V):\n",
    "    shift = np.mean((np.max(V),np.min(V)))\n",
    "    V = V - shift\n",
    "    V = np.abs(V)\n",
    "\n",
    "    zero_threshold = np.max(V)/10\n",
    "    indices = np.where(V<zero_threshold)[0]\n",
    "    \n",
    "    zero_indices = np.array([])\n",
    "    minimum_spacing = (np.max(indices) - np.min(indices)) / 10\n",
    "    for a in indices:        \n",
    "        cluster = indices[np.abs(indices-a)<minimum_spacing]\n",
    "        new_ind = cluster[np.argmin(V[cluster])]\n",
    "        zero_indices = np.append(zero_indices,new_ind)\n",
    "        \n",
    "    zero_indices = np.unique(zero_indices)\n",
    "    return zero_indices\n",
    "    \n",
    "def extractT(s):\n",
    "    lst = s.split(' ')\n",
    "    T = int(lst[-1][:-5])\n",
    "    return T"
   ]
  },
  {
   "cell_type": "code",
   "execution_count": 4,
   "metadata": {
    "collapsed": true
   },
   "outputs": [],
   "source": [
    "directory = r'/home/william/Dropbox/Materials Internship/Data/PZT_data/PLZT everything/110816 0_0 PLZT/'"
   ]
  },
  {
   "cell_type": "code",
   "execution_count": 5,
   "metadata": {
    "collapsed": false
   },
   "outputs": [],
   "source": [
    "for file in listdir(directory):\n",
    "    fname = directory+file\n",
    "    if 'Leakage' in file:\n",
    "        continue\n",
    "    T = extractT(file)\n",
    "    df = pd.read_table(fname,skiprows=48,skip_footer=18,engine='python')\n",
    "    \n",
    "    P = np.array(df['Measured Polarization'])\n",
    "    V = np.array(df['Drive Voltage'])\n",
    "    t = np.array(df['Time (ms)'])\n",
    "\n",
    "    ind = np.argmax(V)\n",
    "    dist = 10\n",
    "    DP = P[ind+dist] - P[ind-dist]\n",
    "    VInt = np.trapz(V[ind-dist:ind+dist],t[ind-dist:ind+dist])\n",
    "    R = 1.8*VInt / DP\n",
    "\n",
    "    \n",
    "    P_leakage = cumtrapz(V/R,t)\n",
    "    P_leakage = np.hstack(([0],P_leakage))\n",
    "\n",
    "    P_corrected = P - P_leakage\n",
    "    \n",
    "    minind = np.argmin(V)\n",
    "    shift = (P_corrected[ind]+P_corrected[minind])/2\n",
    "    P_corrected = P_corrected - shift\n",
    "    \n",
    "    plt.plot(T,P[ind],'x')\n",
    "plt.show()"
   ]
  },
  {
   "cell_type": "code",
   "execution_count": 78,
   "metadata": {
    "collapsed": false
   },
   "outputs": [
    {
     "data": {
      "text/plain": [
       "200"
      ]
     },
     "execution_count": 78,
     "metadata": {},
     "output_type": "execute_result"
    }
   ],
   "source": []
  },
  {
   "cell_type": "code",
   "execution_count": 51,
   "metadata": {
    "collapsed": true
   },
   "outputs": [],
   "source": [
    "test_file = listdir(directory)[10]"
   ]
  },
  {
   "cell_type": "code",
   "execution_count": 52,
   "metadata": {
    "collapsed": true
   },
   "outputs": [],
   "source": [
    "fname = directory+test_file"
   ]
  },
  {
   "cell_type": "code",
   "execution_count": 69,
   "metadata": {
    "collapsed": false
   },
   "outputs": [],
   "source": [
    "T = extractT(file)\n",
    "df = pd.read_table(fname,skiprows=48,skip_footer=18,engine='python')\n",
    "\n",
    "P = np.array(df['Measured Polarization'])\n",
    "V = np.array(df['Drive Voltage'])\n",
    "t = np.array(df['Time (ms)'])\n",
    "zeros = findZeros(V)\n",
    "ind = np.argmax(V)\n",
    "\n",
    "P_leakage = cumtrapz(V/R,t)\n",
    "P_leakage = np.hstack(([0],P_leakage))\n",
    "\n",
    "P_corrected = P - P_leakage\n",
    "\n",
    "plt.plot(V,P_corrected,'g')\n",
    "plt.plot(V,P,'r')\n",
    "plt.show()"
   ]
  },
  {
   "cell_type": "code",
   "execution_count": 64,
   "metadata": {
    "collapsed": false
   },
   "outputs": [
    {
     "data": {
      "text/plain": [
       "33.219275966641433"
      ]
     },
     "execution_count": 64,
     "metadata": {},
     "output_type": "execute_result"
    }
   ],
   "source": [
    "R"
   ]
  },
  {
   "cell_type": "code",
   "execution_count": null,
   "metadata": {
    "collapsed": true
   },
   "outputs": [],
   "source": []
  }
 ],
 "metadata": {
  "kernelspec": {
   "display_name": "Python 3",
   "language": "python",
   "name": "python3"
  },
  "language_info": {
   "codemirror_mode": {
    "name": "ipython",
    "version": 3
   },
   "file_extension": ".py",
   "mimetype": "text/x-python",
   "name": "python",
   "nbconvert_exporter": "python",
   "pygments_lexer": "ipython3",
   "version": "3.5.2"
  }
 },
 "nbformat": 4,
 "nbformat_minor": 0
}
