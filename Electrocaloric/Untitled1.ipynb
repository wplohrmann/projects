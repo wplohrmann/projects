{
 "cells": [
  {
   "cell_type": "code",
   "execution_count": 1,
   "metadata": {
    "collapsed": true
   },
   "outputs": [],
   "source": [
    "import pandas as pd\n",
    "import matplotlib.pyplot as plt\n",
    "import numpy as np"
   ]
  },
  {
   "cell_type": "code",
   "execution_count": 19,
   "metadata": {
    "collapsed": true
   },
   "outputs": [],
   "source": [
    "file1 = r'/home/william/Dropbox/Materials Internship/Presentations/PMNPT Indirect CSVs/011/011_cooling3P_smooth.csv'\n",
    "file2 = r'/home/william/Dropbox/Materials Internship/Presentations/PMNPT Indirect CSVs/011/011_cooling3E_smooth.csv'\n",
    "file3 = r'/home/william/Dropbox/Materials Internship/Presentations/PMNPT Indirect CSVs/011/011_cooling3T_smooth.csv'"
   ]
  },
  {
   "cell_type": "code",
   "execution_count": 20,
   "metadata": {
    "collapsed": true
   },
   "outputs": [],
   "source": [
    "file1b = r'/home/william/Dropbox/Materials Internship/Presentations/PMNPT Indirect CSVs/011/011_cooling3P.csv'\n",
    "file2b = r'/home/william/Dropbox/Materials Internship/Presentations/PMNPT Indirect CSVs/011/011_cooling3E.csv'\n",
    "file3b = r'/home/william/Dropbox/Materials Internship/Presentations/PMNPT Indirect CSVs/011/011_cooling3T.csv'"
   ]
  },
  {
   "cell_type": "code",
   "execution_count": 15,
   "metadata": {
    "collapsed": false
   },
   "outputs": [],
   "source": [
    "mesh1 = np.array(pd.read_csv(file1))\n",
    "E = np.array(pd.read_csv(file2))\n",
    "T = np.array(pd.read_csv(file3))"
   ]
  },
  {
   "cell_type": "code",
   "execution_count": 21,
   "metadata": {
    "collapsed": true
   },
   "outputs": [],
   "source": [
    "mesh1b = np.array(pd.read_csv(file1b))\n",
    "Eb = np.array(pd.read_csv(file2b))\n",
    "Tb = np.array(pd.read_csv(file3b))"
   ]
  },
  {
   "cell_type": "code",
   "execution_count": 22,
   "metadata": {
    "collapsed": true
   },
   "outputs": [],
   "source": [
    "for n in np.arange(mesh1.shape[0]):\n",
    "    if n % mesh1.shape[0]//5 != 0:\n",
    "        continue\n",
    "    plt.plot(T[n],mesh1[n],'-')\n",
    "    plt.plot(Tb[n],mesh1b[n],'x')\n",
    "plt.show()"
   ]
  },
  {
   "cell_type": "code",
   "execution_count": null,
   "metadata": {
    "collapsed": true
   },
   "outputs": [],
   "source": []
  }
 ],
 "metadata": {
  "kernelspec": {
   "display_name": "Python 3",
   "language": "python",
   "name": "python3"
  },
  "language_info": {
   "codemirror_mode": {
    "name": "ipython",
    "version": 3
   },
   "file_extension": ".py",
   "mimetype": "text/x-python",
   "name": "python",
   "nbconvert_exporter": "python",
   "pygments_lexer": "ipython3",
   "version": "3.5.2"
  }
 },
 "nbformat": 4,
 "nbformat_minor": 0
}
